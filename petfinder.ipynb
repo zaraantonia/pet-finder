{
 "cells": [
  {
   "cell_type": "markdown",
   "metadata": {},
   "source": [
    "# Pet Finder - Machine Learning Project"
   ]
  },
  {
   "cell_type": "markdown",
   "metadata": {},
   "source": [
    "*Antonia Zară and Doroteea Șandor, group 30433*"
   ]
  },
  {
   "cell_type": "markdown",
   "metadata": {},
   "source": [
    "<img src=\"dog.jpg\"/>\n"
   ]
  },
  {
   "cell_type": "markdown",
   "metadata": {},
   "source": [
    "## About the project"
   ]
  },
  {
   "cell_type": "markdown",
   "metadata": {},
   "source": [
    "Pet Finder is a project meant to aid the adoption process of different animals from shelters in Malaysia. We want to predict the adoptability of pets based on their traits such as: name, breed, color, whether or not they are vaccinated, sterilized or dewormed, and of course their location. If successful, the program will help rescuers around the country to improve the online profiles of the pets that need a home, thus increasing their chances of being adopted into a suitable and loving family."
   ]
  },
  {
   "cell_type": "markdown",
   "metadata": {},
   "source": [
    "The initial competition took place on Kaggle, which we used for description, hints, and data set. It can be found below:"
   ]
  },
  {
   "cell_type": "markdown",
   "metadata": {},
   "source": [
    "<table align=\"left\">\n",
    "  <td>\n",
    "    <a target=\"_blank\" href=\"https://www.kaggle.com/c/petfinder-adoption-prediction\"><img src=\"https://kaggle.com/static/images/open-in-kaggle.svg\" /></a>\n",
    "  </td>\n",
    "</table>"
   ]
  },
  {
   "cell_type": "markdown",
   "metadata": {},
   "source": [
    "The data set represents examples of animals with the characteristics presented above and their adoption speed, which represents their adoptability. The lower the better for our little furry friends. Our missio is to determine as accurately as possible the adoption speed of a pet based on all the examples from the train set, in order to increase their chances of finding a happy family."
   ]
  },
  {
   "cell_type": "markdown",
   "metadata": {},
   "source": [
    "## Setup"
   ]
  },
  {
   "cell_type": "markdown",
   "metadata": {},
   "source": [
    "First, let's import a few common modules, ensure MatplotLib plots figures inline and prepare a function to save the figures. We also check that Python 3.5 or later is installed (although Python 2.x may work, it is deprecated so we strongly recommend you use Python 3 instead), as well as Scikit-Learn ≥0.20."
   ]
  },
  {
   "cell_type": "code",
   "execution_count": 201,
   "metadata": {},
   "outputs": [],
   "source": [
    "# Python ≥3.5 is required\n",
    "import sys\n",
    "assert sys.version_info >= (3, 5)\n",
    "\n",
    "# Scikit-Learn ≥0.20 is required\n",
    "import sklearn\n",
    "assert sklearn.__version__ >= \"0.20\"\n",
    "\n",
    "# Common imports\n",
    "import numpy as np\n",
    "import os\n",
    "\n",
    "# To plot pretty figures\n",
    "%matplotlib inline\n",
    "import matplotlib as mpl\n",
    "import matplotlib.pyplot as plt\n",
    "mpl.rc('axes', labelsize=14)\n",
    "mpl.rc('xtick', labelsize=12)\n",
    "mpl.rc('ytick', labelsize=12)\n",
    "\n",
    "# Where to save the figures\n",
    "PROJECT_ROOT_DIR = \".\"\n",
    "CHAPTER_ID = \"end_to_end_project\"\n",
    "IMAGES_PATH = os.path.join(PROJECT_ROOT_DIR, \"images\", CHAPTER_ID)\n",
    "os.makedirs(IMAGES_PATH, exist_ok=True)\n",
    "\n",
    "def save_fig(fig_id, tight_layout=True, fig_extension=\"png\", resolution=300):\n",
    "    path = os.path.join(IMAGES_PATH, fig_id + \".\" + fig_extension)\n",
    "    print(\"Saving figure\", fig_id)\n",
    "    if tight_layout:\n",
    "        plt.tight_layout()\n",
    "    plt.savefig(path, format=fig_extension, dpi=resolution)"
   ]
  },
  {
   "cell_type": "markdown",
   "metadata": {
    "tags": []
   },
   "source": [
    "## Loading the data"
   ]
  },
  {
   "cell_type": "code",
   "execution_count": 202,
   "metadata": {},
   "outputs": [],
   "source": [
    "import os\n",
    "import pandas as pd\n",
    "\n",
    "ROOT = r\"C:\\Users\\Doroteea\\Downloads\\pet-finder-main\\pet-finder-main\"\n",
    "DATA_PATH = os.path.join(ROOT,\"data\")\n",
    "TRAIN_PATH = os.path.join(DATA_PATH, \"train\")\n",
    "TEST_PATH = os.path.join(DATA_PATH, \"test\")\n",
    "\n",
    "def load_pet_data(train_path = TRAIN_PATH):\n",
    "    csv_path = os.path.join(train_path, \"train.csv\")\n",
    "    return pd.read_csv(csv_path)\n",
    "\n",
    "def load_breed_data(data_path = DATA_PATH):\n",
    "    csv_path = os.path.join(data_path, \"breed_labels.csv\")\n",
    "    return pd.read_csv(csv_path)\n",
    "\n",
    "def load_color_data(data_path = DATA_PATH):\n",
    "    csv_path = os.path.join(data_path, \"color_labels.csv\")\n",
    "    return pd.read_csv(csv_path)\n",
    "\n",
    "def load_state_data(data_path = DATA_PATH):\n",
    "    csv_path = os.path.join(data_path, \"state_labels.csv\")\n",
    "    return pd.read_csv(csv_path)\n",
    "\n",
    "def load_test_data(data_path = TEST_PATH):\n",
    "    csv_path = os.path.join(data_path, \"test.csv\")\n",
    "    return pd.read_csv(csv_path)"
   ]
  },
  {
   "cell_type": "markdown",
   "metadata": {},
   "source": [
    "## Quick look at the data"
   ]
  },
  {
   "cell_type": "code",
   "execution_count": 203,
   "metadata": {},
   "outputs": [
    {
     "data": {
      "text/html": [
       "<div>\n",
       "<style scoped>\n",
       "    .dataframe tbody tr th:only-of-type {\n",
       "        vertical-align: middle;\n",
       "    }\n",
       "\n",
       "    .dataframe tbody tr th {\n",
       "        vertical-align: top;\n",
       "    }\n",
       "\n",
       "    .dataframe thead th {\n",
       "        text-align: right;\n",
       "    }\n",
       "</style>\n",
       "<table border=\"1\" class=\"dataframe\">\n",
       "  <thead>\n",
       "    <tr style=\"text-align: right;\">\n",
       "      <th></th>\n",
       "      <th>Type</th>\n",
       "      <th>Name</th>\n",
       "      <th>Age</th>\n",
       "      <th>Breed1</th>\n",
       "      <th>Breed2</th>\n",
       "      <th>Gender</th>\n",
       "      <th>Color1</th>\n",
       "      <th>Color2</th>\n",
       "      <th>Color3</th>\n",
       "      <th>MaturitySize</th>\n",
       "      <th>...</th>\n",
       "      <th>Health</th>\n",
       "      <th>Quantity</th>\n",
       "      <th>Fee</th>\n",
       "      <th>State</th>\n",
       "      <th>RescuerID</th>\n",
       "      <th>VideoAmt</th>\n",
       "      <th>Description</th>\n",
       "      <th>PetID</th>\n",
       "      <th>PhotoAmt</th>\n",
       "      <th>AdoptionSpeed</th>\n",
       "    </tr>\n",
       "  </thead>\n",
       "  <tbody>\n",
       "    <tr>\n",
       "      <th>0</th>\n",
       "      <td>2</td>\n",
       "      <td>Nibble</td>\n",
       "      <td>3</td>\n",
       "      <td>299</td>\n",
       "      <td>0</td>\n",
       "      <td>1</td>\n",
       "      <td>1</td>\n",
       "      <td>7</td>\n",
       "      <td>0</td>\n",
       "      <td>1</td>\n",
       "      <td>...</td>\n",
       "      <td>1</td>\n",
       "      <td>1</td>\n",
       "      <td>100</td>\n",
       "      <td>41326</td>\n",
       "      <td>8480853f516546f6cf33aa88cd76c379</td>\n",
       "      <td>0</td>\n",
       "      <td>Nibble is a 3+ month old ball of cuteness. He ...</td>\n",
       "      <td>86e1089a3</td>\n",
       "      <td>1.0</td>\n",
       "      <td>2</td>\n",
       "    </tr>\n",
       "    <tr>\n",
       "      <th>1</th>\n",
       "      <td>2</td>\n",
       "      <td>No Name Yet</td>\n",
       "      <td>1</td>\n",
       "      <td>265</td>\n",
       "      <td>0</td>\n",
       "      <td>1</td>\n",
       "      <td>1</td>\n",
       "      <td>2</td>\n",
       "      <td>0</td>\n",
       "      <td>2</td>\n",
       "      <td>...</td>\n",
       "      <td>1</td>\n",
       "      <td>1</td>\n",
       "      <td>0</td>\n",
       "      <td>41401</td>\n",
       "      <td>3082c7125d8fb66f7dd4bff4192c8b14</td>\n",
       "      <td>0</td>\n",
       "      <td>I just found it alone yesterday near my apartm...</td>\n",
       "      <td>6296e909a</td>\n",
       "      <td>2.0</td>\n",
       "      <td>0</td>\n",
       "    </tr>\n",
       "    <tr>\n",
       "      <th>2</th>\n",
       "      <td>1</td>\n",
       "      <td>Brisco</td>\n",
       "      <td>1</td>\n",
       "      <td>307</td>\n",
       "      <td>0</td>\n",
       "      <td>1</td>\n",
       "      <td>2</td>\n",
       "      <td>7</td>\n",
       "      <td>0</td>\n",
       "      <td>2</td>\n",
       "      <td>...</td>\n",
       "      <td>1</td>\n",
       "      <td>1</td>\n",
       "      <td>0</td>\n",
       "      <td>41326</td>\n",
       "      <td>fa90fa5b1ee11c86938398b60abc32cb</td>\n",
       "      <td>0</td>\n",
       "      <td>Their pregnant mother was dumped by her irresp...</td>\n",
       "      <td>3422e4906</td>\n",
       "      <td>7.0</td>\n",
       "      <td>3</td>\n",
       "    </tr>\n",
       "    <tr>\n",
       "      <th>3</th>\n",
       "      <td>1</td>\n",
       "      <td>Miko</td>\n",
       "      <td>4</td>\n",
       "      <td>307</td>\n",
       "      <td>0</td>\n",
       "      <td>2</td>\n",
       "      <td>1</td>\n",
       "      <td>2</td>\n",
       "      <td>0</td>\n",
       "      <td>2</td>\n",
       "      <td>...</td>\n",
       "      <td>1</td>\n",
       "      <td>1</td>\n",
       "      <td>150</td>\n",
       "      <td>41401</td>\n",
       "      <td>9238e4f44c71a75282e62f7136c6b240</td>\n",
       "      <td>0</td>\n",
       "      <td>Good guard dog, very alert, active, obedience ...</td>\n",
       "      <td>5842f1ff5</td>\n",
       "      <td>8.0</td>\n",
       "      <td>2</td>\n",
       "    </tr>\n",
       "    <tr>\n",
       "      <th>4</th>\n",
       "      <td>1</td>\n",
       "      <td>Hunter</td>\n",
       "      <td>1</td>\n",
       "      <td>307</td>\n",
       "      <td>0</td>\n",
       "      <td>1</td>\n",
       "      <td>1</td>\n",
       "      <td>0</td>\n",
       "      <td>0</td>\n",
       "      <td>2</td>\n",
       "      <td>...</td>\n",
       "      <td>1</td>\n",
       "      <td>1</td>\n",
       "      <td>0</td>\n",
       "      <td>41326</td>\n",
       "      <td>95481e953f8aed9ec3d16fc4509537e8</td>\n",
       "      <td>0</td>\n",
       "      <td>This handsome yet cute boy is up for adoption....</td>\n",
       "      <td>850a43f90</td>\n",
       "      <td>3.0</td>\n",
       "      <td>2</td>\n",
       "    </tr>\n",
       "  </tbody>\n",
       "</table>\n",
       "<p>5 rows × 24 columns</p>\n",
       "</div>"
      ],
      "text/plain": [
       "   Type         Name  Age  Breed1  Breed2  Gender  Color1  Color2  Color3  \\\n",
       "0     2       Nibble    3     299       0       1       1       7       0   \n",
       "1     2  No Name Yet    1     265       0       1       1       2       0   \n",
       "2     1       Brisco    1     307       0       1       2       7       0   \n",
       "3     1         Miko    4     307       0       2       1       2       0   \n",
       "4     1       Hunter    1     307       0       1       1       0       0   \n",
       "\n",
       "   MaturitySize  ...  Health  Quantity  Fee  State  \\\n",
       "0             1  ...       1         1  100  41326   \n",
       "1             2  ...       1         1    0  41401   \n",
       "2             2  ...       1         1    0  41326   \n",
       "3             2  ...       1         1  150  41401   \n",
       "4             2  ...       1         1    0  41326   \n",
       "\n",
       "                          RescuerID  VideoAmt  \\\n",
       "0  8480853f516546f6cf33aa88cd76c379         0   \n",
       "1  3082c7125d8fb66f7dd4bff4192c8b14         0   \n",
       "2  fa90fa5b1ee11c86938398b60abc32cb         0   \n",
       "3  9238e4f44c71a75282e62f7136c6b240         0   \n",
       "4  95481e953f8aed9ec3d16fc4509537e8         0   \n",
       "\n",
       "                                         Description      PetID PhotoAmt  \\\n",
       "0  Nibble is a 3+ month old ball of cuteness. He ...  86e1089a3      1.0   \n",
       "1  I just found it alone yesterday near my apartm...  6296e909a      2.0   \n",
       "2  Their pregnant mother was dumped by her irresp...  3422e4906      7.0   \n",
       "3  Good guard dog, very alert, active, obedience ...  5842f1ff5      8.0   \n",
       "4  This handsome yet cute boy is up for adoption....  850a43f90      3.0   \n",
       "\n",
       "   AdoptionSpeed  \n",
       "0              2  \n",
       "1              0  \n",
       "2              3  \n",
       "3              2  \n",
       "4              2  \n",
       "\n",
       "[5 rows x 24 columns]"
      ]
     },
     "execution_count": 203,
     "metadata": {},
     "output_type": "execute_result"
    }
   ],
   "source": [
    "pets = load_pet_data()\n",
    "pets.head()"
   ]
  },
  {
   "cell_type": "code",
   "execution_count": 204,
   "metadata": {},
   "outputs": [
    {
     "name": "stdout",
     "output_type": "stream",
     "text": [
      "<class 'pandas.core.frame.DataFrame'>\n",
      "RangeIndex: 14993 entries, 0 to 14992\n",
      "Data columns (total 24 columns):\n",
      " #   Column         Non-Null Count  Dtype  \n",
      "---  ------         --------------  -----  \n",
      " 0   Type           14993 non-null  int64  \n",
      " 1   Name           13736 non-null  object \n",
      " 2   Age            14993 non-null  int64  \n",
      " 3   Breed1         14993 non-null  int64  \n",
      " 4   Breed2         14993 non-null  int64  \n",
      " 5   Gender         14993 non-null  int64  \n",
      " 6   Color1         14993 non-null  int64  \n",
      " 7   Color2         14993 non-null  int64  \n",
      " 8   Color3         14993 non-null  int64  \n",
      " 9   MaturitySize   14993 non-null  int64  \n",
      " 10  FurLength      14993 non-null  int64  \n",
      " 11  Vaccinated     14993 non-null  int64  \n",
      " 12  Dewormed       14993 non-null  int64  \n",
      " 13  Sterilized     14993 non-null  int64  \n",
      " 14  Health         14993 non-null  int64  \n",
      " 15  Quantity       14993 non-null  int64  \n",
      " 16  Fee            14993 non-null  int64  \n",
      " 17  State          14993 non-null  int64  \n",
      " 18  RescuerID      14993 non-null  object \n",
      " 19  VideoAmt       14993 non-null  int64  \n",
      " 20  Description    14981 non-null  object \n",
      " 21  PetID          14993 non-null  object \n",
      " 22  PhotoAmt       14993 non-null  float64\n",
      " 23  AdoptionSpeed  14993 non-null  int64  \n",
      "dtypes: float64(1), int64(19), object(4)\n",
      "memory usage: 2.7+ MB\n"
     ]
    }
   ],
   "source": [
    "pets.info()"
   ]
  },
  {
   "cell_type": "raw",
   "metadata": {},
   "source": []
  },
  {
   "cell_type": "markdown",
   "metadata": {},
   "source": [
    "**Let's examine a few types of breeds**"
   ]
  },
  {
   "cell_type": "code",
   "execution_count": 205,
   "metadata": {},
   "outputs": [
    {
     "data": {
      "text/html": [
       "<div>\n",
       "<style scoped>\n",
       "    .dataframe tbody tr th:only-of-type {\n",
       "        vertical-align: middle;\n",
       "    }\n",
       "\n",
       "    .dataframe tbody tr th {\n",
       "        vertical-align: top;\n",
       "    }\n",
       "\n",
       "    .dataframe thead th {\n",
       "        text-align: right;\n",
       "    }\n",
       "</style>\n",
       "<table border=\"1\" class=\"dataframe\">\n",
       "  <thead>\n",
       "    <tr style=\"text-align: right;\">\n",
       "      <th></th>\n",
       "      <th>BreedID</th>\n",
       "      <th>Type</th>\n",
       "      <th>BreedName</th>\n",
       "    </tr>\n",
       "  </thead>\n",
       "  <tbody>\n",
       "    <tr>\n",
       "      <th>0</th>\n",
       "      <td>1</td>\n",
       "      <td>1</td>\n",
       "      <td>Affenpinscher</td>\n",
       "    </tr>\n",
       "    <tr>\n",
       "      <th>1</th>\n",
       "      <td>2</td>\n",
       "      <td>1</td>\n",
       "      <td>Afghan Hound</td>\n",
       "    </tr>\n",
       "    <tr>\n",
       "      <th>2</th>\n",
       "      <td>3</td>\n",
       "      <td>1</td>\n",
       "      <td>Airedale Terrier</td>\n",
       "    </tr>\n",
       "    <tr>\n",
       "      <th>3</th>\n",
       "      <td>4</td>\n",
       "      <td>1</td>\n",
       "      <td>Akbash</td>\n",
       "    </tr>\n",
       "    <tr>\n",
       "      <th>4</th>\n",
       "      <td>5</td>\n",
       "      <td>1</td>\n",
       "      <td>Akita</td>\n",
       "    </tr>\n",
       "  </tbody>\n",
       "</table>\n",
       "</div>"
      ],
      "text/plain": [
       "   BreedID  Type         BreedName\n",
       "0        1     1     Affenpinscher\n",
       "1        2     1      Afghan Hound\n",
       "2        3     1  Airedale Terrier\n",
       "3        4     1            Akbash\n",
       "4        5     1             Akita"
      ]
     },
     "execution_count": 205,
     "metadata": {},
     "output_type": "execute_result"
    }
   ],
   "source": [
    "breeds = load_breed_data()\n",
    "breeds.head()"
   ]
  },
  {
   "cell_type": "markdown",
   "metadata": {},
   "source": [
    "**Let's examine a few types of colors**"
   ]
  },
  {
   "cell_type": "code",
   "execution_count": 206,
   "metadata": {},
   "outputs": [
    {
     "data": {
      "text/html": [
       "<div>\n",
       "<style scoped>\n",
       "    .dataframe tbody tr th:only-of-type {\n",
       "        vertical-align: middle;\n",
       "    }\n",
       "\n",
       "    .dataframe tbody tr th {\n",
       "        vertical-align: top;\n",
       "    }\n",
       "\n",
       "    .dataframe thead th {\n",
       "        text-align: right;\n",
       "    }\n",
       "</style>\n",
       "<table border=\"1\" class=\"dataframe\">\n",
       "  <thead>\n",
       "    <tr style=\"text-align: right;\">\n",
       "      <th></th>\n",
       "      <th>ColorID</th>\n",
       "      <th>ColorName</th>\n",
       "    </tr>\n",
       "  </thead>\n",
       "  <tbody>\n",
       "    <tr>\n",
       "      <th>0</th>\n",
       "      <td>1</td>\n",
       "      <td>Black</td>\n",
       "    </tr>\n",
       "    <tr>\n",
       "      <th>1</th>\n",
       "      <td>2</td>\n",
       "      <td>Brown</td>\n",
       "    </tr>\n",
       "    <tr>\n",
       "      <th>2</th>\n",
       "      <td>3</td>\n",
       "      <td>Golden</td>\n",
       "    </tr>\n",
       "    <tr>\n",
       "      <th>3</th>\n",
       "      <td>4</td>\n",
       "      <td>Yellow</td>\n",
       "    </tr>\n",
       "    <tr>\n",
       "      <th>4</th>\n",
       "      <td>5</td>\n",
       "      <td>Cream</td>\n",
       "    </tr>\n",
       "  </tbody>\n",
       "</table>\n",
       "</div>"
      ],
      "text/plain": [
       "   ColorID ColorName\n",
       "0        1     Black\n",
       "1        2     Brown\n",
       "2        3    Golden\n",
       "3        4    Yellow\n",
       "4        5     Cream"
      ]
     },
     "execution_count": 206,
     "metadata": {},
     "output_type": "execute_result"
    }
   ],
   "source": [
    "colors = load_color_data()\n",
    "colors.head()"
   ]
  },
  {
   "cell_type": "markdown",
   "metadata": {},
   "source": [
    "**Let's examine a few types of states**"
   ]
  },
  {
   "cell_type": "code",
   "execution_count": 207,
   "metadata": {},
   "outputs": [
    {
     "data": {
      "text/html": [
       "<div>\n",
       "<style scoped>\n",
       "    .dataframe tbody tr th:only-of-type {\n",
       "        vertical-align: middle;\n",
       "    }\n",
       "\n",
       "    .dataframe tbody tr th {\n",
       "        vertical-align: top;\n",
       "    }\n",
       "\n",
       "    .dataframe thead th {\n",
       "        text-align: right;\n",
       "    }\n",
       "</style>\n",
       "<table border=\"1\" class=\"dataframe\">\n",
       "  <thead>\n",
       "    <tr style=\"text-align: right;\">\n",
       "      <th></th>\n",
       "      <th>StateID</th>\n",
       "      <th>StateName</th>\n",
       "    </tr>\n",
       "  </thead>\n",
       "  <tbody>\n",
       "    <tr>\n",
       "      <th>0</th>\n",
       "      <td>41336</td>\n",
       "      <td>Johor</td>\n",
       "    </tr>\n",
       "    <tr>\n",
       "      <th>1</th>\n",
       "      <td>41325</td>\n",
       "      <td>Kedah</td>\n",
       "    </tr>\n",
       "    <tr>\n",
       "      <th>2</th>\n",
       "      <td>41367</td>\n",
       "      <td>Kelantan</td>\n",
       "    </tr>\n",
       "    <tr>\n",
       "      <th>3</th>\n",
       "      <td>41401</td>\n",
       "      <td>Kuala Lumpur</td>\n",
       "    </tr>\n",
       "    <tr>\n",
       "      <th>4</th>\n",
       "      <td>41415</td>\n",
       "      <td>Labuan</td>\n",
       "    </tr>\n",
       "  </tbody>\n",
       "</table>\n",
       "</div>"
      ],
      "text/plain": [
       "   StateID     StateName\n",
       "0    41336         Johor\n",
       "1    41325         Kedah\n",
       "2    41367      Kelantan\n",
       "3    41401  Kuala Lumpur\n",
       "4    41415        Labuan"
      ]
     },
     "execution_count": 207,
     "metadata": {},
     "output_type": "execute_result"
    }
   ],
   "source": [
    "states = load_state_data()\n",
    "states.head()"
   ]
  },
  {
   "cell_type": "markdown",
   "metadata": {},
   "source": [
    "**Merge all tables together for better readibility**"
   ]
  },
  {
   "cell_type": "code",
   "execution_count": 208,
   "metadata": {},
   "outputs": [],
   "source": [
    "merged = pets.merge(breeds, left_on = 'Breed1', right_on = 'BreedID')\n",
    "merged = merged.merge(breeds, left_on = 'Breed2', right_on = 'BreedID')\n",
    "\n",
    "merged = merged.merge(colors, left_on = 'Color1', right_on = 'ColorID')\n",
    "merged = merged.merge(colors, left_on = 'Color2', right_on = 'ColorID')\n",
    "merged = merged.merge(colors, left_on = 'Color3', right_on = 'ColorID')\n",
    "\n",
    "merged = merged.merge(states, left_on = 'State', right_on = 'StateID')"
   ]
  },
  {
   "cell_type": "code",
   "execution_count": 209,
   "metadata": {},
   "outputs": [
    {
     "data": {
      "text/html": [
       "<div>\n",
       "<style scoped>\n",
       "    .dataframe tbody tr th:only-of-type {\n",
       "        vertical-align: middle;\n",
       "    }\n",
       "\n",
       "    .dataframe tbody tr th {\n",
       "        vertical-align: top;\n",
       "    }\n",
       "\n",
       "    .dataframe thead th {\n",
       "        text-align: right;\n",
       "    }\n",
       "</style>\n",
       "<table border=\"1\" class=\"dataframe\">\n",
       "  <thead>\n",
       "    <tr style=\"text-align: right;\">\n",
       "      <th></th>\n",
       "      <th>Type_x</th>\n",
       "      <th>Name</th>\n",
       "      <th>Age</th>\n",
       "      <th>Breed1</th>\n",
       "      <th>Breed2</th>\n",
       "      <th>Gender</th>\n",
       "      <th>Color1</th>\n",
       "      <th>Color2</th>\n",
       "      <th>Color3</th>\n",
       "      <th>MaturitySize</th>\n",
       "      <th>...</th>\n",
       "      <th>Type</th>\n",
       "      <th>BreedName_y</th>\n",
       "      <th>ColorID_x</th>\n",
       "      <th>ColorName_x</th>\n",
       "      <th>ColorID_y</th>\n",
       "      <th>ColorName_y</th>\n",
       "      <th>ColorID</th>\n",
       "      <th>ColorName</th>\n",
       "      <th>StateID</th>\n",
       "      <th>StateName</th>\n",
       "    </tr>\n",
       "  </thead>\n",
       "  <tbody>\n",
       "    <tr>\n",
       "      <th>0</th>\n",
       "      <td>2</td>\n",
       "      <td>Golden Tabby Girl</td>\n",
       "      <td>1</td>\n",
       "      <td>299</td>\n",
       "      <td>266</td>\n",
       "      <td>2</td>\n",
       "      <td>2</td>\n",
       "      <td>3</td>\n",
       "      <td>5</td>\n",
       "      <td>2</td>\n",
       "      <td>...</td>\n",
       "      <td>2</td>\n",
       "      <td>Domestic Short Hair</td>\n",
       "      <td>2</td>\n",
       "      <td>Brown</td>\n",
       "      <td>3</td>\n",
       "      <td>Golden</td>\n",
       "      <td>5</td>\n",
       "      <td>Cream</td>\n",
       "      <td>41326</td>\n",
       "      <td>Selangor</td>\n",
       "    </tr>\n",
       "    <tr>\n",
       "      <th>1</th>\n",
       "      <td>2</td>\n",
       "      <td>Ogen &amp; Oyen</td>\n",
       "      <td>2</td>\n",
       "      <td>265</td>\n",
       "      <td>266</td>\n",
       "      <td>3</td>\n",
       "      <td>2</td>\n",
       "      <td>3</td>\n",
       "      <td>5</td>\n",
       "      <td>1</td>\n",
       "      <td>...</td>\n",
       "      <td>2</td>\n",
       "      <td>Domestic Short Hair</td>\n",
       "      <td>2</td>\n",
       "      <td>Brown</td>\n",
       "      <td>3</td>\n",
       "      <td>Golden</td>\n",
       "      <td>5</td>\n",
       "      <td>Cream</td>\n",
       "      <td>41326</td>\n",
       "      <td>Selangor</td>\n",
       "    </tr>\n",
       "    <tr>\n",
       "      <th>2</th>\n",
       "      <td>2</td>\n",
       "      <td>Money</td>\n",
       "      <td>1</td>\n",
       "      <td>266</td>\n",
       "      <td>265</td>\n",
       "      <td>2</td>\n",
       "      <td>2</td>\n",
       "      <td>3</td>\n",
       "      <td>5</td>\n",
       "      <td>1</td>\n",
       "      <td>...</td>\n",
       "      <td>2</td>\n",
       "      <td>Domestic Medium Hair</td>\n",
       "      <td>2</td>\n",
       "      <td>Brown</td>\n",
       "      <td>3</td>\n",
       "      <td>Golden</td>\n",
       "      <td>5</td>\n",
       "      <td>Cream</td>\n",
       "      <td>41326</td>\n",
       "      <td>Selangor</td>\n",
       "    </tr>\n",
       "    <tr>\n",
       "      <th>3</th>\n",
       "      <td>2</td>\n",
       "      <td>Noah And Nellie</td>\n",
       "      <td>2</td>\n",
       "      <td>299</td>\n",
       "      <td>299</td>\n",
       "      <td>3</td>\n",
       "      <td>2</td>\n",
       "      <td>3</td>\n",
       "      <td>5</td>\n",
       "      <td>1</td>\n",
       "      <td>...</td>\n",
       "      <td>2</td>\n",
       "      <td>Tabby</td>\n",
       "      <td>2</td>\n",
       "      <td>Brown</td>\n",
       "      <td>3</td>\n",
       "      <td>Golden</td>\n",
       "      <td>5</td>\n",
       "      <td>Cream</td>\n",
       "      <td>41326</td>\n",
       "      <td>Selangor</td>\n",
       "    </tr>\n",
       "    <tr>\n",
       "      <th>4</th>\n",
       "      <td>1</td>\n",
       "      <td>Karlo</td>\n",
       "      <td>2</td>\n",
       "      <td>307</td>\n",
       "      <td>307</td>\n",
       "      <td>1</td>\n",
       "      <td>2</td>\n",
       "      <td>3</td>\n",
       "      <td>5</td>\n",
       "      <td>2</td>\n",
       "      <td>...</td>\n",
       "      <td>1</td>\n",
       "      <td>Mixed Breed</td>\n",
       "      <td>2</td>\n",
       "      <td>Brown</td>\n",
       "      <td>3</td>\n",
       "      <td>Golden</td>\n",
       "      <td>5</td>\n",
       "      <td>Cream</td>\n",
       "      <td>41326</td>\n",
       "      <td>Selangor</td>\n",
       "    </tr>\n",
       "  </tbody>\n",
       "</table>\n",
       "<p>5 rows × 38 columns</p>\n",
       "</div>"
      ],
      "text/plain": [
       "   Type_x               Name  Age  Breed1  Breed2  Gender  Color1  Color2  \\\n",
       "0       2  Golden Tabby Girl    1     299     266       2       2       3   \n",
       "1       2        Ogen & Oyen    2     265     266       3       2       3   \n",
       "2       2              Money    1     266     265       2       2       3   \n",
       "3       2    Noah And Nellie    2     299     299       3       2       3   \n",
       "4       1              Karlo    2     307     307       1       2       3   \n",
       "\n",
       "   Color3  MaturitySize  ...  Type           BreedName_y  ColorID_x  \\\n",
       "0       5             2  ...     2   Domestic Short Hair          2   \n",
       "1       5             1  ...     2   Domestic Short Hair          2   \n",
       "2       5             1  ...     2  Domestic Medium Hair          2   \n",
       "3       5             1  ...     2                 Tabby          2   \n",
       "4       5             2  ...     1           Mixed Breed          2   \n",
       "\n",
       "   ColorName_x  ColorID_y  ColorName_y  ColorID  ColorName StateID  StateName  \n",
       "0        Brown          3       Golden        5      Cream   41326   Selangor  \n",
       "1        Brown          3       Golden        5      Cream   41326   Selangor  \n",
       "2        Brown          3       Golden        5      Cream   41326   Selangor  \n",
       "3        Brown          3       Golden        5      Cream   41326   Selangor  \n",
       "4        Brown          3       Golden        5      Cream   41326   Selangor  \n",
       "\n",
       "[5 rows x 38 columns]"
      ]
     },
     "execution_count": 209,
     "metadata": {},
     "output_type": "execute_result"
    }
   ],
   "source": [
    "merged.head()"
   ]
  },
  {
   "cell_type": "markdown",
   "metadata": {},
   "source": [
    "**We look at the most and least popular breeds**"
   ]
  },
  {
   "cell_type": "code",
   "execution_count": 210,
   "metadata": {},
   "outputs": [
    {
     "data": {
      "text/plain": [
       "Mixed Breed                   5927\n",
       "Domestic Short Hair           3634\n",
       "Domestic Medium Hair          1258\n",
       "Tabby                          342\n",
       "Domestic Long Hair             296\n",
       "                              ... \n",
       "Pointer                          1\n",
       "Staffordshire Bull Terrier       1\n",
       "Irish Wolfhound                  1\n",
       "Irish Terrier                    1\n",
       "Dutch Shepherd                   1\n",
       "Name: BreedName, Length: 175, dtype: int64"
      ]
     },
     "execution_count": 210,
     "metadata": {},
     "output_type": "execute_result"
    }
   ],
   "source": [
    "(pets.merge(breeds, left_on = 'Breed1', right_on = 'BreedID'))[\"BreedName\"].value_counts()"
   ]
  },
  {
   "cell_type": "code",
   "execution_count": 211,
   "metadata": {},
   "outputs": [
    {
     "data": {
      "text/html": [
       "<div>\n",
       "<style scoped>\n",
       "    .dataframe tbody tr th:only-of-type {\n",
       "        vertical-align: middle;\n",
       "    }\n",
       "\n",
       "    .dataframe tbody tr th {\n",
       "        vertical-align: top;\n",
       "    }\n",
       "\n",
       "    .dataframe thead th {\n",
       "        text-align: right;\n",
       "    }\n",
       "</style>\n",
       "<table border=\"1\" class=\"dataframe\">\n",
       "  <thead>\n",
       "    <tr style=\"text-align: right;\">\n",
       "      <th></th>\n",
       "      <th>Type</th>\n",
       "      <th>Age</th>\n",
       "      <th>Breed1</th>\n",
       "      <th>Breed2</th>\n",
       "      <th>Gender</th>\n",
       "      <th>Color1</th>\n",
       "      <th>Color2</th>\n",
       "      <th>Color3</th>\n",
       "      <th>MaturitySize</th>\n",
       "      <th>FurLength</th>\n",
       "      <th>Vaccinated</th>\n",
       "      <th>Dewormed</th>\n",
       "      <th>Sterilized</th>\n",
       "      <th>Health</th>\n",
       "      <th>Quantity</th>\n",
       "      <th>Fee</th>\n",
       "      <th>State</th>\n",
       "      <th>VideoAmt</th>\n",
       "      <th>PhotoAmt</th>\n",
       "      <th>AdoptionSpeed</th>\n",
       "    </tr>\n",
       "  </thead>\n",
       "  <tbody>\n",
       "    <tr>\n",
       "      <th>count</th>\n",
       "      <td>14993.000000</td>\n",
       "      <td>14993.000000</td>\n",
       "      <td>14993.000000</td>\n",
       "      <td>14993.000000</td>\n",
       "      <td>14993.000000</td>\n",
       "      <td>14993.000000</td>\n",
       "      <td>14993.000000</td>\n",
       "      <td>14993.000000</td>\n",
       "      <td>14993.000000</td>\n",
       "      <td>14993.000000</td>\n",
       "      <td>14993.000000</td>\n",
       "      <td>14993.000000</td>\n",
       "      <td>14993.000000</td>\n",
       "      <td>14993.000000</td>\n",
       "      <td>14993.000000</td>\n",
       "      <td>14993.000000</td>\n",
       "      <td>14993.000000</td>\n",
       "      <td>14993.000000</td>\n",
       "      <td>14993.000000</td>\n",
       "      <td>14993.000000</td>\n",
       "    </tr>\n",
       "    <tr>\n",
       "      <th>mean</th>\n",
       "      <td>1.457614</td>\n",
       "      <td>10.452078</td>\n",
       "      <td>265.272594</td>\n",
       "      <td>74.009738</td>\n",
       "      <td>1.776162</td>\n",
       "      <td>2.234176</td>\n",
       "      <td>3.222837</td>\n",
       "      <td>1.882012</td>\n",
       "      <td>1.862002</td>\n",
       "      <td>1.467485</td>\n",
       "      <td>1.731208</td>\n",
       "      <td>1.558727</td>\n",
       "      <td>1.914227</td>\n",
       "      <td>1.036617</td>\n",
       "      <td>1.576069</td>\n",
       "      <td>21.259988</td>\n",
       "      <td>41346.028347</td>\n",
       "      <td>0.056760</td>\n",
       "      <td>3.889215</td>\n",
       "      <td>2.516441</td>\n",
       "    </tr>\n",
       "    <tr>\n",
       "      <th>std</th>\n",
       "      <td>0.498217</td>\n",
       "      <td>18.155790</td>\n",
       "      <td>60.056818</td>\n",
       "      <td>123.011575</td>\n",
       "      <td>0.681592</td>\n",
       "      <td>1.745225</td>\n",
       "      <td>2.742562</td>\n",
       "      <td>2.984086</td>\n",
       "      <td>0.547959</td>\n",
       "      <td>0.599070</td>\n",
       "      <td>0.667649</td>\n",
       "      <td>0.695817</td>\n",
       "      <td>0.566172</td>\n",
       "      <td>0.199535</td>\n",
       "      <td>1.472477</td>\n",
       "      <td>78.414548</td>\n",
       "      <td>32.444153</td>\n",
       "      <td>0.346185</td>\n",
       "      <td>3.487810</td>\n",
       "      <td>1.177265</td>\n",
       "    </tr>\n",
       "    <tr>\n",
       "      <th>min</th>\n",
       "      <td>1.000000</td>\n",
       "      <td>0.000000</td>\n",
       "      <td>0.000000</td>\n",
       "      <td>0.000000</td>\n",
       "      <td>1.000000</td>\n",
       "      <td>1.000000</td>\n",
       "      <td>0.000000</td>\n",
       "      <td>0.000000</td>\n",
       "      <td>1.000000</td>\n",
       "      <td>1.000000</td>\n",
       "      <td>1.000000</td>\n",
       "      <td>1.000000</td>\n",
       "      <td>1.000000</td>\n",
       "      <td>1.000000</td>\n",
       "      <td>1.000000</td>\n",
       "      <td>0.000000</td>\n",
       "      <td>41324.000000</td>\n",
       "      <td>0.000000</td>\n",
       "      <td>0.000000</td>\n",
       "      <td>0.000000</td>\n",
       "    </tr>\n",
       "    <tr>\n",
       "      <th>25%</th>\n",
       "      <td>1.000000</td>\n",
       "      <td>2.000000</td>\n",
       "      <td>265.000000</td>\n",
       "      <td>0.000000</td>\n",
       "      <td>1.000000</td>\n",
       "      <td>1.000000</td>\n",
       "      <td>0.000000</td>\n",
       "      <td>0.000000</td>\n",
       "      <td>2.000000</td>\n",
       "      <td>1.000000</td>\n",
       "      <td>1.000000</td>\n",
       "      <td>1.000000</td>\n",
       "      <td>2.000000</td>\n",
       "      <td>1.000000</td>\n",
       "      <td>1.000000</td>\n",
       "      <td>0.000000</td>\n",
       "      <td>41326.000000</td>\n",
       "      <td>0.000000</td>\n",
       "      <td>2.000000</td>\n",
       "      <td>2.000000</td>\n",
       "    </tr>\n",
       "    <tr>\n",
       "      <th>50%</th>\n",
       "      <td>1.000000</td>\n",
       "      <td>3.000000</td>\n",
       "      <td>266.000000</td>\n",
       "      <td>0.000000</td>\n",
       "      <td>2.000000</td>\n",
       "      <td>2.000000</td>\n",
       "      <td>2.000000</td>\n",
       "      <td>0.000000</td>\n",
       "      <td>2.000000</td>\n",
       "      <td>1.000000</td>\n",
       "      <td>2.000000</td>\n",
       "      <td>1.000000</td>\n",
       "      <td>2.000000</td>\n",
       "      <td>1.000000</td>\n",
       "      <td>1.000000</td>\n",
       "      <td>0.000000</td>\n",
       "      <td>41326.000000</td>\n",
       "      <td>0.000000</td>\n",
       "      <td>3.000000</td>\n",
       "      <td>2.000000</td>\n",
       "    </tr>\n",
       "    <tr>\n",
       "      <th>75%</th>\n",
       "      <td>2.000000</td>\n",
       "      <td>12.000000</td>\n",
       "      <td>307.000000</td>\n",
       "      <td>179.000000</td>\n",
       "      <td>2.000000</td>\n",
       "      <td>3.000000</td>\n",
       "      <td>6.000000</td>\n",
       "      <td>5.000000</td>\n",
       "      <td>2.000000</td>\n",
       "      <td>2.000000</td>\n",
       "      <td>2.000000</td>\n",
       "      <td>2.000000</td>\n",
       "      <td>2.000000</td>\n",
       "      <td>1.000000</td>\n",
       "      <td>1.000000</td>\n",
       "      <td>0.000000</td>\n",
       "      <td>41401.000000</td>\n",
       "      <td>0.000000</td>\n",
       "      <td>5.000000</td>\n",
       "      <td>4.000000</td>\n",
       "    </tr>\n",
       "    <tr>\n",
       "      <th>max</th>\n",
       "      <td>2.000000</td>\n",
       "      <td>255.000000</td>\n",
       "      <td>307.000000</td>\n",
       "      <td>307.000000</td>\n",
       "      <td>3.000000</td>\n",
       "      <td>7.000000</td>\n",
       "      <td>7.000000</td>\n",
       "      <td>7.000000</td>\n",
       "      <td>4.000000</td>\n",
       "      <td>3.000000</td>\n",
       "      <td>3.000000</td>\n",
       "      <td>3.000000</td>\n",
       "      <td>3.000000</td>\n",
       "      <td>3.000000</td>\n",
       "      <td>20.000000</td>\n",
       "      <td>3000.000000</td>\n",
       "      <td>41415.000000</td>\n",
       "      <td>8.000000</td>\n",
       "      <td>30.000000</td>\n",
       "      <td>4.000000</td>\n",
       "    </tr>\n",
       "  </tbody>\n",
       "</table>\n",
       "</div>"
      ],
      "text/plain": [
       "               Type           Age        Breed1        Breed2        Gender  \\\n",
       "count  14993.000000  14993.000000  14993.000000  14993.000000  14993.000000   \n",
       "mean       1.457614     10.452078    265.272594     74.009738      1.776162   \n",
       "std        0.498217     18.155790     60.056818    123.011575      0.681592   \n",
       "min        1.000000      0.000000      0.000000      0.000000      1.000000   \n",
       "25%        1.000000      2.000000    265.000000      0.000000      1.000000   \n",
       "50%        1.000000      3.000000    266.000000      0.000000      2.000000   \n",
       "75%        2.000000     12.000000    307.000000    179.000000      2.000000   \n",
       "max        2.000000    255.000000    307.000000    307.000000      3.000000   \n",
       "\n",
       "             Color1        Color2        Color3  MaturitySize     FurLength  \\\n",
       "count  14993.000000  14993.000000  14993.000000  14993.000000  14993.000000   \n",
       "mean       2.234176      3.222837      1.882012      1.862002      1.467485   \n",
       "std        1.745225      2.742562      2.984086      0.547959      0.599070   \n",
       "min        1.000000      0.000000      0.000000      1.000000      1.000000   \n",
       "25%        1.000000      0.000000      0.000000      2.000000      1.000000   \n",
       "50%        2.000000      2.000000      0.000000      2.000000      1.000000   \n",
       "75%        3.000000      6.000000      5.000000      2.000000      2.000000   \n",
       "max        7.000000      7.000000      7.000000      4.000000      3.000000   \n",
       "\n",
       "         Vaccinated      Dewormed    Sterilized        Health      Quantity  \\\n",
       "count  14993.000000  14993.000000  14993.000000  14993.000000  14993.000000   \n",
       "mean       1.731208      1.558727      1.914227      1.036617      1.576069   \n",
       "std        0.667649      0.695817      0.566172      0.199535      1.472477   \n",
       "min        1.000000      1.000000      1.000000      1.000000      1.000000   \n",
       "25%        1.000000      1.000000      2.000000      1.000000      1.000000   \n",
       "50%        2.000000      1.000000      2.000000      1.000000      1.000000   \n",
       "75%        2.000000      2.000000      2.000000      1.000000      1.000000   \n",
       "max        3.000000      3.000000      3.000000      3.000000     20.000000   \n",
       "\n",
       "                Fee         State      VideoAmt      PhotoAmt  AdoptionSpeed  \n",
       "count  14993.000000  14993.000000  14993.000000  14993.000000   14993.000000  \n",
       "mean      21.259988  41346.028347      0.056760      3.889215       2.516441  \n",
       "std       78.414548     32.444153      0.346185      3.487810       1.177265  \n",
       "min        0.000000  41324.000000      0.000000      0.000000       0.000000  \n",
       "25%        0.000000  41326.000000      0.000000      2.000000       2.000000  \n",
       "50%        0.000000  41326.000000      0.000000      3.000000       2.000000  \n",
       "75%        0.000000  41401.000000      0.000000      5.000000       4.000000  \n",
       "max     3000.000000  41415.000000      8.000000     30.000000       4.000000  "
      ]
     },
     "execution_count": 211,
     "metadata": {},
     "output_type": "execute_result"
    }
   ],
   "source": [
    "pets.describe()"
   ]
  },
  {
   "cell_type": "markdown",
   "metadata": {},
   "source": [
    "**Histograms**"
   ]
  },
  {
   "cell_type": "code",
   "execution_count": 212,
   "metadata": {},
   "outputs": [
    {
     "name": "stdout",
     "output_type": "stream",
     "text": [
      "Saving figure attribute_histogram_plots\n"
     ]
    },
    {
     "data": {
      "image/png": "[encoded data removed]",
      "text/plain": [
       "<Figure size 1440x1080 with 20 Axes>"
      ]
     },
     "metadata": {
      "needs_background": "light"
     },
     "output_type": "display_data"
    }
   ],
   "source": [
    "import matplotlib.pyplot as plt\n",
    "\n",
    "pets.hist(bins=50, figsize=(20,15))\n",
    "save_fig(\"attribute_histogram_plots\")\n",
    "plt.show()"
   ]
  },
  {
   "cell_type": "markdown",
   "metadata": {},
   "source": [
    "## Create Test Set"
   ]
  },
  {
   "cell_type": "code",
   "execution_count": 222,
   "metadata": {},
   "outputs": [],
   "source": [
    "from sklearn.model_selection import StratifiedShuffleSplit\n",
    "\n",
    "split = StratifiedShuffleSplit(n_splits=1, test_size=0.2, random_state=42)\n",
    "for train_index, test_index in split.split(pets, pets[\"AdoptionSpeed\"]):\n",
    "    strat_train_set = pets.loc[train_index]\n",
    "    strat_test_set = pets.loc[test_index]"
   ]
  },
  {
   "cell_type": "code",
   "execution_count": 223,
   "metadata": {},
   "outputs": [
    {
     "data": {
      "text/plain": [
       "4    0.280093\n",
       "2    0.269090\n",
       "3    0.217406\n",
       "1    0.206069\n",
       "0    0.027342\n",
       "Name: AdoptionSpeed, dtype: float64"
      ]
     },
     "execution_count": 223,
     "metadata": {},
     "output_type": "execute_result"
    }
   ],
   "source": [
    "strat_test_set[\"AdoptionSpeed\"].value_counts() / len(strat_test_set)"
   ]
  },
  {
   "cell_type": "code",
   "execution_count": 224,
   "metadata": {},
   "outputs": [
    {
     "data": {
      "text/plain": [
       "4    0.279931\n",
       "2    0.269259\n",
       "3    0.217368\n",
       "1    0.206096\n",
       "0    0.027346\n",
       "Name: AdoptionSpeed, dtype: float64"
      ]
     },
     "execution_count": 224,
     "metadata": {},
     "output_type": "execute_result"
    }
   ],
   "source": [
    "pets[\"AdoptionSpeed\"].value_counts() / len(pets)"
   ]
  },
  {
   "cell_type": "code",
   "execution_count": 225,
   "metadata": {},
   "outputs": [
    {
     "data": {
      "text/html": [
       "<div>\n",
       "<style scoped>\n",
       "    .dataframe tbody tr th:only-of-type {\n",
       "        vertical-align: middle;\n",
       "    }\n",
       "\n",
       "    .dataframe tbody tr th {\n",
       "        vertical-align: top;\n",
       "    }\n",
       "\n",
       "    .dataframe thead th {\n",
       "        text-align: right;\n",
       "    }\n",
       "</style>\n",
       "<table border=\"1\" class=\"dataframe\">\n",
       "  <thead>\n",
       "    <tr style=\"text-align: right;\">\n",
       "      <th></th>\n",
       "      <th>Overall</th>\n",
       "      <th>Stratified</th>\n",
       "      <th>Random</th>\n",
       "      <th>Rand. %error</th>\n",
       "      <th>Strat. %error</th>\n",
       "    </tr>\n",
       "  </thead>\n",
       "  <tbody>\n",
       "    <tr>\n",
       "      <th>0</th>\n",
       "      <td>0.027346</td>\n",
       "      <td>0.027342</td>\n",
       "      <td>0.030677</td>\n",
       "      <td>12.180158</td>\n",
       "      <td>-0.013338</td>\n",
       "    </tr>\n",
       "    <tr>\n",
       "      <th>1</th>\n",
       "      <td>0.206096</td>\n",
       "      <td>0.206069</td>\n",
       "      <td>0.209070</td>\n",
       "      <td>1.442779</td>\n",
       "      <td>-0.013338</td>\n",
       "    </tr>\n",
       "    <tr>\n",
       "      <th>2</th>\n",
       "      <td>0.269259</td>\n",
       "      <td>0.269090</td>\n",
       "      <td>0.268756</td>\n",
       "      <td>-0.186711</td>\n",
       "      <td>-0.062873</td>\n",
       "    </tr>\n",
       "    <tr>\n",
       "      <th>3</th>\n",
       "      <td>0.217368</td>\n",
       "      <td>0.217406</td>\n",
       "      <td>0.213738</td>\n",
       "      <td>-1.670067</td>\n",
       "      <td>0.017342</td>\n",
       "    </tr>\n",
       "    <tr>\n",
       "      <th>4</th>\n",
       "      <td>0.279931</td>\n",
       "      <td>0.280093</td>\n",
       "      <td>0.277759</td>\n",
       "      <td>-0.775685</td>\n",
       "      <td>0.058132</td>\n",
       "    </tr>\n",
       "  </tbody>\n",
       "</table>\n",
       "</div>"
      ],
      "text/plain": [
       "    Overall  Stratified    Random  Rand. %error  Strat. %error\n",
       "0  0.027346    0.027342  0.030677     12.180158      -0.013338\n",
       "1  0.206096    0.206069  0.209070      1.442779      -0.013338\n",
       "2  0.269259    0.269090  0.268756     -0.186711      -0.062873\n",
       "3  0.217368    0.217406  0.213738     -1.670067       0.017342\n",
       "4  0.279931    0.280093  0.277759     -0.775685       0.058132"
      ]
     },
     "execution_count": 225,
     "metadata": {},
     "output_type": "execute_result"
    }
   ],
   "source": [
    "from sklearn.model_selection import train_test_split\n",
    "def adoption_speed_proportions(data):\n",
    "    return data[\"AdoptionSpeed\"].value_counts() / len(data)\n",
    "\n",
    "train_set, test_set = train_test_split(pets, test_size=0.2, random_state=42)\n",
    "\n",
    "compare_props = pd.DataFrame({\n",
    "    \"Overall\": adoption_speed_proportions(pets),\n",
    "    \"Stratified\": adoption_speed_proportions(strat_test_set),\n",
    "    \"Random\": adoption_speed_proportions(test_set),\n",
    "}).sort_index()\n",
    "compare_props[\"Rand. %error\"] = 100 * compare_props[\"Random\"] / compare_props[\"Overall\"] - 100\n",
    "compare_props[\"Strat. %error\"] = 100 * compare_props[\"Stratified\"] / compare_props[\"Overall\"] - 100\n",
    "\n",
    "compare_props"
   ]
  },
  {
   "cell_type": "code",
   "execution_count": 226,
   "metadata": {},
   "outputs": [],
   "source": [
    "# for set_ in (strat_train_set, strat_test_set):\n",
    "#     set_.drop(\"AdoptionSpeed\", axis=1, inplace=True)"
   ]
  },
  {
   "cell_type": "markdown",
   "metadata": {
    "tags": []
   },
   "source": [
    "## Visualizing the data further"
   ]
  },
  {
   "cell_type": "markdown",
   "metadata": {
    "tags": []
   },
   "source": [
    "We will visualize further data to gain insight of our pets features and characteristics to observe what makes them more desirable."
   ]
  },
  {
   "cell_type": "markdown",
   "metadata": {},
   "source": [
    "**Age and its influence on adoptability**"
   ]
  },
  {
   "cell_type": "code",
   "execution_count": 218,
   "metadata": {},
   "outputs": [
    {
     "data": {
      "text/plain": [
       "<AxesSubplot:>"
      ]
     },
     "execution_count": 218,
     "metadata": {},
     "output_type": "execute_result"
    },
    {
     "data": {
      "image/png": "[encoded data removed]",
      "text/plain": [
       "<Figure size 432x288 with 1 Axes>"
      ]
     },
     "metadata": {
      "needs_background": "light"
     },
     "output_type": "display_data"
    }
   ],
   "source": [
    "pets[\"Age\"].hist()"
   ]
  },
  {
   "cell_type": "code",
   "execution_count": 219,
   "metadata": {},
   "outputs": [
    {
     "name": "stdout",
     "output_type": "stream",
     "text": [
      "Saving figure age_adoption_speed_plot\n"
     ]
    },
    {
     "data": {
      "image/png": "[encoded data removed]",
      "text/plain": [
       "<Figure size 432x288 with 1 Axes>"
      ]
     },
     "metadata": {
      "needs_background": "light"
     },
     "output_type": "display_data"
    }
   ],
   "source": [
    "pets.plot(kind=\"scatter\", x=\"Age\", y=\"AdoptionSpeed\", alpha=0.1)\n",
    "save_fig(\"age_adoption_speed_plot\")"
   ]
  },
  {
   "cell_type": "markdown",
   "metadata": {},
   "source": [
    "The plot shows us that age has very little relevance to the adoptability of a pet when considered alone."
   ]
  },
  {
   "cell_type": "markdown",
   "metadata": {},
   "source": [
    "**Maturity size and adoptability**"
   ]
  },
  {
   "cell_type": "code",
   "execution_count": 95,
   "metadata": {},
   "outputs": [
    {
     "data": {
      "text/plain": [
       "<AxesSubplot:>"
      ]
     },
     "execution_count": 95,
     "metadata": {},
     "output_type": "execute_result"
    },
    {
     "data": {
      "image/png": "[encoded data removed]",
      "text/plain": [
       "<Figure size 432x288 with 1 Axes>"
      ]
     },
     "metadata": {
      "needs_background": "light"
     },
     "output_type": "display_data"
    }
   ],
   "source": [
    "pets = load_pet_data()\n",
    "pets[\"MaturitySize\"].hist(color = 'magenta')"
   ]
  },
  {
   "cell_type": "code",
   "execution_count": 96,
   "metadata": {},
   "outputs": [
    {
     "name": "stdout",
     "output_type": "stream",
     "text": [
      "Saving figure maturitySize_adoption_speed_plot\n"
     ]
    },
    {
     "data": {
      "image/png": "[encoded data removed]",
      "text/plain": [
       "<Figure size 432x288 with 1 Axes>"
      ]
     },
     "metadata": {
      "needs_background": "light"
     },
     "output_type": "display_data"
    }
   ],
   "source": [
    "pets.plot(kind=\"scatter\", x=\"MaturitySize\", y=\"AdoptionSpeed\", alpha=0.1)\n",
    "save_fig(\"maturitySize_adoption_speed_plot\")"
   ]
  },
  {
   "cell_type": "markdown",
   "metadata": {},
   "source": [
    "The plot shows us that maturity size is not that important when people decide to adopt a pet."
   ]
  },
  {
   "cell_type": "markdown",
   "metadata": {},
   "source": [
    "**Cats,Dogs and adoptability**"
   ]
  },
  {
   "cell_type": "code",
   "execution_count": 97,
   "metadata": {},
   "outputs": [
    {
     "name": "stdout",
     "output_type": "stream",
     "text": [
      "4    4197\n",
      "2    4037\n",
      "3    3259\n",
      "1    3090\n",
      "0     410\n",
      "Name: AdoptionSpeed, dtype: int64\n"
     ]
    },
    {
     "data": {
      "text/plain": [
       "<AxesSubplot:>"
      ]
     },
     "execution_count": 97,
     "metadata": {},
     "output_type": "execute_result"
    },
    {
     "data": {
      "image/png": "[encoded data removed]",
      "text/plain": [
       "<Figure size 432x288 with 1 Axes>"
      ]
     },
     "metadata": {
      "needs_background": "light"
     },
     "output_type": "display_data"
    }
   ],
   "source": [
    "#Adoption speed of all pets : from 0 to 4, 0 being the fastest\n",
    "pets = load_pet_data()\n",
    "print(pets['AdoptionSpeed'].value_counts())\n",
    "pets['AdoptionSpeed'].hist()"
   ]
  },
  {
   "cell_type": "code",
   "execution_count": 98,
   "metadata": {},
   "outputs": [
    {
     "data": {
      "text/plain": [
       "1    8132\n",
       "2    6861\n",
       "Name: Type, dtype: int64"
      ]
     },
     "execution_count": 98,
     "metadata": {},
     "output_type": "execute_result"
    }
   ],
   "source": [
    "# Type 1 (dog)\n",
    "# Type 2(cat)\n",
    "pets = load_pet_data()\n",
    "pets['Type'].value_counts()"
   ]
  },
  {
   "cell_type": "code",
   "execution_count": 99,
   "metadata": {},
   "outputs": [
    {
     "data": {
      "image/png": "[encoded data removed]",
      "text/plain": [
       "<Figure size 432x288 with 1 Axes>"
      ]
     },
     "metadata": {
      "needs_background": "light"
     },
     "output_type": "display_data"
    }
   ],
   "source": [
    "# Adoption speed for dogs\n",
    "pets = load_pet_data()\n",
    "pets[pets['Type'] == 1]['AdoptionSpeed'].hist();"
   ]
  },
  {
   "cell_type": "code",
   "execution_count": 100,
   "metadata": {},
   "outputs": [
    {
     "data": {
      "image/png": "[encoded data removed]",
      "text/plain": [
       "<Figure size 432x288 with 1 Axes>"
      ]
     },
     "metadata": {
      "needs_background": "light"
     },
     "output_type": "display_data"
    }
   ],
   "source": [
    "# Adoption speed for cats\n",
    "pets = load_pet_data()\n",
    "pets[pets['Type'] == 2]['AdoptionSpeed'].hist();"
   ]
  },
  {
   "cell_type": "markdown",
   "metadata": {},
   "source": [
    "These histograms show us that even tho almost instant adoption speed of 0 is very rare in both cases, we can see more cats with faster speed adoption than the dogs, however the datas are close enough to see that this bias does not really matter that much."
   ]
  },
  {
   "cell_type": "markdown",
   "metadata": {},
   "source": [
    "**Health and adoptability**"
   ]
  },
  {
   "cell_type": "code",
   "execution_count": 101,
   "metadata": {},
   "outputs": [
    {
     "data": {
      "text/plain": [
       "1    14478\n",
       "2      481\n",
       "3       34\n",
       "Name: Health, dtype: int64"
      ]
     },
     "execution_count": 101,
     "metadata": {},
     "output_type": "execute_result"
    }
   ],
   "source": [
    "#Health values : 1 is healty, 2 is wounded, 3 is severely injured\n",
    "pets[\"Health\"].value_counts()"
   ]
  },
  {
   "cell_type": "code",
   "execution_count": 102,
   "metadata": {},
   "outputs": [
    {
     "data": {
      "image/png": "[encoded data removed]",
      "text/plain": [
       "<Figure size 432x288 with 1 Axes>"
      ]
     },
     "metadata": {
      "needs_background": "light"
     },
     "output_type": "display_data"
    }
   ],
   "source": [
    "# Adoption speed for the hapthy pets : health level is 1\n",
    "pets[pets['Health'] == 1]['AdoptionSpeed'].hist();"
   ]
  },
  {
   "cell_type": "code",
   "execution_count": 103,
   "metadata": {},
   "outputs": [
    {
     "data": {
      "image/png": "[encoded data removed]",
      "text/plain": [
       "<Figure size 432x288 with 1 Axes>"
      ]
     },
     "metadata": {
      "needs_background": "light"
     },
     "output_type": "display_data"
    }
   ],
   "source": [
    "#Adoption speed for a little wounded animals where health level is 2\n",
    "pets[pets['Health'] == 2]['AdoptionSpeed'].hist();"
   ]
  },
  {
   "cell_type": "code",
   "execution_count": 104,
   "metadata": {},
   "outputs": [
    {
     "data": {
      "image/png": "[encoded data removed]",
      "text/plain": [
       "<Figure size 432x288 with 1 Axes>"
      ]
     },
     "metadata": {
      "needs_background": "light"
     },
     "output_type": "display_data"
    }
   ],
   "source": [
    "#Adpotion speed for severly injured animals where health level is 3\n",
    "pets[pets['Health'] == 3]['AdoptionSpeed'].hist();"
   ]
  },
  {
   "cell_type": "markdown",
   "metadata": {},
   "source": [
    "These datas show that healthy animals are preffered and are adopted the fastest, followed by animals with little wounds and the hardest to adopt are the severly injured animals."
   ]
  },
  {
   "cell_type": "markdown",
   "metadata": {},
   "source": [
    "**Photos of the animal and adoptability**"
   ]
  },
  {
   "cell_type": "code",
   "execution_count": 105,
   "metadata": {},
   "outputs": [
    {
     "data": {
      "text/plain": [
       "1.0     3075\n",
       "2.0     2518\n",
       "3.0     2511\n",
       "5.0     2147\n",
       "4.0     1881\n",
       "6.0      621\n",
       "7.0      432\n",
       "0.0      341\n",
       "8.0      314\n",
       "9.0      231\n",
       "10.0     190\n",
       "11.0     184\n",
       "12.0      97\n",
       "13.0      86\n",
       "14.0      78\n",
       "15.0      50\n",
       "16.0      39\n",
       "17.0      27\n",
       "20.0      25\n",
       "19.0      20\n",
       "30.0      19\n",
       "18.0      18\n",
       "21.0      16\n",
       "24.0      15\n",
       "23.0      12\n",
       "26.0      10\n",
       "22.0       9\n",
       "25.0       8\n",
       "28.0       7\n",
       "27.0       6\n",
       "29.0       6\n",
       "Name: PhotoAmt, dtype: int64"
      ]
     },
     "execution_count": 105,
     "metadata": {},
     "output_type": "execute_result"
    }
   ],
   "source": [
    "# Photo amount.\n",
    "pets[\"PhotoAmt\"].value_counts()"
   ]
  },
  {
   "cell_type": "code",
   "execution_count": 106,
   "metadata": {},
   "outputs": [
    {
     "data": {
      "text/plain": [
       "<AxesSubplot:>"
      ]
     },
     "execution_count": 106,
     "metadata": {},
     "output_type": "execute_result"
    },
    {
     "data": {
      "image/png": "[encoded data removed]",
      "text/plain": [
       "<Figure size 432x288 with 1 Axes>"
      ]
     },
     "metadata": {
      "needs_background": "light"
     },
     "output_type": "display_data"
    }
   ],
   "source": [
    "#Adoption speed for pets with no photos(least amount of photos)\n",
    "pets[pets['PhotoAmt'] == 0]['AdoptionSpeed'].hist()"
   ]
  },
  {
   "cell_type": "code",
   "execution_count": 107,
   "metadata": {},
   "outputs": [
    {
     "data": {
      "text/plain": [
       "<AxesSubplot:>"
      ]
     },
     "execution_count": 107,
     "metadata": {},
     "output_type": "execute_result"
    },
    {
     "data": {
      "image/png": "[encoded data removed]",
      "text/plain": [
       "<Figure size 432x288 with 1 Axes>"
      ]
     },
     "metadata": {
      "needs_background": "light"
     },
     "output_type": "display_data"
    }
   ],
   "source": [
    "#for 1 photo\n",
    "pets[pets['PhotoAmt'] == 1]['AdoptionSpeed'].hist()"
   ]
  },
  {
   "cell_type": "code",
   "execution_count": 108,
   "metadata": {},
   "outputs": [
    {
     "data": {
      "text/plain": [
       "<AxesSubplot:>"
      ]
     },
     "execution_count": 108,
     "metadata": {},
     "output_type": "execute_result"
    },
    {
     "data": {
      "image/png": "[encoded data removed]",
      "text/plain": [
       "<Figure size 432x288 with 1 Axes>"
      ]
     },
     "metadata": {
      "needs_background": "light"
     },
     "output_type": "display_data"
    }
   ],
   "source": [
    "#for more photos \n",
    "pets[pets['PhotoAmt'] >= 2]['AdoptionSpeed'].hist()"
   ]
  },
  {
   "cell_type": "markdown",
   "metadata": {},
   "source": [
    "These datas show that the number of photos avaible really matter when adopting an animal."
   ]
  },
  {
   "cell_type": "markdown",
   "metadata": {},
   "source": [
    "# Prepare the Data for Machine Learning Algorithms"
   ]
  },
  {
   "cell_type": "code",
   "execution_count": 275,
   "metadata": {},
   "outputs": [],
   "source": [
    "\n",
    "pets_train = strat_train_set.drop(\"AdoptionSpeed\", axis=1) # drop labels for training set\n",
    "pets_labels = strat_train_set[\"AdoptionSpeed\"].copy()"
   ]
  },
  {
   "cell_type": "markdown",
   "metadata": {},
   "source": [
    "## Data cleaning"
   ]
  },
  {
   "cell_type": "code",
   "execution_count": 276,
   "metadata": {},
   "outputs": [
    {
     "data": {
      "text/html": [
       "<div>\n",
       "<style scoped>\n",
       "    .dataframe tbody tr th:only-of-type {\n",
       "        vertical-align: middle;\n",
       "    }\n",
       "\n",
       "    .dataframe tbody tr th {\n",
       "        vertical-align: top;\n",
       "    }\n",
       "\n",
       "    .dataframe thead th {\n",
       "        text-align: right;\n",
       "    }\n",
       "</style>\n",
       "<table border=\"1\" class=\"dataframe\">\n",
       "  <thead>\n",
       "    <tr style=\"text-align: right;\">\n",
       "      <th></th>\n",
       "      <th>Type</th>\n",
       "      <th>Name</th>\n",
       "      <th>Age</th>\n",
       "      <th>Breed1</th>\n",
       "      <th>Breed2</th>\n",
       "      <th>Gender</th>\n",
       "      <th>Color1</th>\n",
       "      <th>Color2</th>\n",
       "      <th>Color3</th>\n",
       "      <th>MaturitySize</th>\n",
       "      <th>...</th>\n",
       "      <th>Health</th>\n",
       "      <th>Quantity</th>\n",
       "      <th>Fee</th>\n",
       "      <th>State</th>\n",
       "      <th>RescuerID</th>\n",
       "      <th>VideoAmt</th>\n",
       "      <th>Description</th>\n",
       "      <th>PetID</th>\n",
       "      <th>PhotoAmt</th>\n",
       "      <th>AdoptionSpeed</th>\n",
       "    </tr>\n",
       "  </thead>\n",
       "  <tbody>\n",
       "    <tr>\n",
       "      <th>12375</th>\n",
       "      <td>2</td>\n",
       "      <td>NaN</td>\n",
       "      <td>40</td>\n",
       "      <td>250</td>\n",
       "      <td>0</td>\n",
       "      <td>2</td>\n",
       "      <td>1</td>\n",
       "      <td>0</td>\n",
       "      <td>0</td>\n",
       "      <td>2</td>\n",
       "      <td>...</td>\n",
       "      <td>1</td>\n",
       "      <td>1</td>\n",
       "      <td>0</td>\n",
       "      <td>41327</td>\n",
       "      <td>43af793154b6f43385ba1b308f77ec0a</td>\n",
       "      <td>0</td>\n",
       "      <td>i love my cat ,but i feel its time to look for...</td>\n",
       "      <td>bda06474b</td>\n",
       "      <td>3.0</td>\n",
       "      <td>4</td>\n",
       "    </tr>\n",
       "    <tr>\n",
       "      <th>12831</th>\n",
       "      <td>1</td>\n",
       "      <td>NaN</td>\n",
       "      <td>2</td>\n",
       "      <td>307</td>\n",
       "      <td>307</td>\n",
       "      <td>2</td>\n",
       "      <td>1</td>\n",
       "      <td>2</td>\n",
       "      <td>5</td>\n",
       "      <td>1</td>\n",
       "      <td>...</td>\n",
       "      <td>1</td>\n",
       "      <td>2</td>\n",
       "      <td>0</td>\n",
       "      <td>41327</td>\n",
       "      <td>87fc4907f5dbd65504b1945a02eeea58</td>\n",
       "      <td>0</td>\n",
       "      <td>they are adorable , quiet and obedient . i fou...</td>\n",
       "      <td>8d39e0fa1</td>\n",
       "      <td>4.0</td>\n",
       "      <td>0</td>\n",
       "    </tr>\n",
       "    <tr>\n",
       "      <th>9903</th>\n",
       "      <td>1</td>\n",
       "      <td>NaN</td>\n",
       "      <td>1</td>\n",
       "      <td>307</td>\n",
       "      <td>0</td>\n",
       "      <td>1</td>\n",
       "      <td>1</td>\n",
       "      <td>2</td>\n",
       "      <td>0</td>\n",
       "      <td>2</td>\n",
       "      <td>...</td>\n",
       "      <td>1</td>\n",
       "      <td>3</td>\n",
       "      <td>0</td>\n",
       "      <td>41326</td>\n",
       "      <td>9bea829f5ed57b412a128e603e339b9c</td>\n",
       "      <td>0</td>\n",
       "      <td>There is a small bushy little forest located n...</td>\n",
       "      <td>99859bab7</td>\n",
       "      <td>1.0</td>\n",
       "      <td>2</td>\n",
       "    </tr>\n",
       "    <tr>\n",
       "      <th>5709</th>\n",
       "      <td>2</td>\n",
       "      <td>NaN</td>\n",
       "      <td>12</td>\n",
       "      <td>266</td>\n",
       "      <td>266</td>\n",
       "      <td>1</td>\n",
       "      <td>3</td>\n",
       "      <td>7</td>\n",
       "      <td>0</td>\n",
       "      <td>2</td>\n",
       "      <td>...</td>\n",
       "      <td>1</td>\n",
       "      <td>2</td>\n",
       "      <td>0</td>\n",
       "      <td>41401</td>\n",
       "      <td>bebcc805289059868c5887b29c78713b</td>\n",
       "      <td>0</td>\n",
       "      <td>I have recently found 2 cats and needs a home....</td>\n",
       "      <td>4ac37cc7d</td>\n",
       "      <td>0.0</td>\n",
       "      <td>4</td>\n",
       "    </tr>\n",
       "    <tr>\n",
       "      <th>14538</th>\n",
       "      <td>2</td>\n",
       "      <td>NaN</td>\n",
       "      <td>1</td>\n",
       "      <td>299</td>\n",
       "      <td>0</td>\n",
       "      <td>2</td>\n",
       "      <td>1</td>\n",
       "      <td>7</td>\n",
       "      <td>0</td>\n",
       "      <td>2</td>\n",
       "      <td>...</td>\n",
       "      <td>1</td>\n",
       "      <td>1</td>\n",
       "      <td>0</td>\n",
       "      <td>41326</td>\n",
       "      <td>15f499bb4cae5ec09f35139d31f3831a</td>\n",
       "      <td>0</td>\n",
       "      <td>My cat recently gave birth to 3 kittens a mont...</td>\n",
       "      <td>b879a154c</td>\n",
       "      <td>1.0</td>\n",
       "      <td>2</td>\n",
       "    </tr>\n",
       "  </tbody>\n",
       "</table>\n",
       "<p>5 rows × 24 columns</p>\n",
       "</div>"
      ],
      "text/plain": [
       "       Type Name  Age  Breed1  Breed2  Gender  Color1  Color2  Color3  \\\n",
       "12375     2  NaN   40     250       0       2       1       0       0   \n",
       "12831     1  NaN    2     307     307       2       1       2       5   \n",
       "9903      1  NaN    1     307       0       1       1       2       0   \n",
       "5709      2  NaN   12     266     266       1       3       7       0   \n",
       "14538     2  NaN    1     299       0       2       1       7       0   \n",
       "\n",
       "       MaturitySize  ...  Health  Quantity  Fee  State  \\\n",
       "12375             2  ...       1         1    0  41327   \n",
       "12831             1  ...       1         2    0  41327   \n",
       "9903              2  ...       1         3    0  41326   \n",
       "5709              2  ...       1         2    0  41401   \n",
       "14538             2  ...       1         1    0  41326   \n",
       "\n",
       "                              RescuerID  VideoAmt  \\\n",
       "12375  43af793154b6f43385ba1b308f77ec0a         0   \n",
       "12831  87fc4907f5dbd65504b1945a02eeea58         0   \n",
       "9903   9bea829f5ed57b412a128e603e339b9c         0   \n",
       "5709   bebcc805289059868c5887b29c78713b         0   \n",
       "14538  15f499bb4cae5ec09f35139d31f3831a         0   \n",
       "\n",
       "                                             Description      PetID PhotoAmt  \\\n",
       "12375  i love my cat ,but i feel its time to look for...  bda06474b      3.0   \n",
       "12831  they are adorable , quiet and obedient . i fou...  8d39e0fa1      4.0   \n",
       "9903   There is a small bushy little forest located n...  99859bab7      1.0   \n",
       "5709   I have recently found 2 cats and needs a home....  4ac37cc7d      0.0   \n",
       "14538  My cat recently gave birth to 3 kittens a mont...  b879a154c      1.0   \n",
       "\n",
       "       AdoptionSpeed  \n",
       "12375              4  \n",
       "12831              0  \n",
       "9903               2  \n",
       "5709               4  \n",
       "14538              2  \n",
       "\n",
       "[5 rows x 24 columns]"
      ]
     },
     "execution_count": 276,
     "metadata": {},
     "output_type": "execute_result"
    }
   ],
   "source": [
    "sample_incomplete_rows = strat_train_set[strat_train_set.isnull().any(axis=1)].head()\n",
    "sample_incomplete_rows\n",
    " "
   ]
  },
  {
   "cell_type": "code",
   "execution_count": 277,
   "metadata": {},
   "outputs": [],
   "source": [
    "#sample_incomplete_rows.dropna(subset=[\"Name\"]) "
   ]
  },
  {
   "cell_type": "code",
   "execution_count": 278,
   "metadata": {},
   "outputs": [
    {
     "data": {
      "text/plain": [
       "Type                0\n",
       "Name             1005\n",
       "Age                 0\n",
       "Breed1              0\n",
       "Breed2              0\n",
       "Gender              0\n",
       "Color1              0\n",
       "Color2              0\n",
       "Color3              0\n",
       "MaturitySize        0\n",
       "FurLength           0\n",
       "Vaccinated          0\n",
       "Dewormed            0\n",
       "Sterilized          0\n",
       "Health              0\n",
       "Quantity            0\n",
       "Fee                 0\n",
       "State               0\n",
       "RescuerID           0\n",
       "VideoAmt            0\n",
       "Description         9\n",
       "PetID               0\n",
       "PhotoAmt            0\n",
       "AdoptionSpeed       0\n",
       "dtype: int64"
      ]
     },
     "execution_count": 278,
     "metadata": {},
     "output_type": "execute_result"
    }
   ],
   "source": [
    "strat_train_set.isna().sum()"
   ]
  },
  {
   "cell_type": "code",
   "execution_count": 279,
   "metadata": {},
   "outputs": [
    {
     "name": "stdout",
     "output_type": "stream",
     "text": [
      "Not Named\n",
      "Haven't Name Yet\n",
      "Newborn *no Name\n",
      "Mercy (temporary Name)\n",
      "No Name\n",
      "No Name\n",
      "Noname\n",
      "(no Name)\n",
      "No Names Yet\n",
      "No Name Yet\n",
      "No Name Yet\n",
      "No Name\n",
      "No Name\n",
      "1 Year Kitten Named Mia At Damansara!\n",
      "New Mom ( Re Nameable )\n",
      "To Be Named By Owner\n",
      "No Name Yet\n",
      "No Name\n",
      "Unnamed.\n",
      "The Nameless One\n",
      "Nikki (temporary Name)\n",
      "No Name Yet\n",
      "No Name Yet\n",
      "Kitten....no Name\n",
      "No Name\n",
      "No Name\n",
      "Not Yet Named\n",
      "I Think I Name Her Lucky\n",
      "No Name\n",
      "Unnamed\n",
      "No Name Yet\n",
      "(No Name)\n",
      "Noname\n",
      "No Name\n",
      "Kitten (no Name Yet)\n",
      "NO NAME\n",
      "Blackie (Temp Name)\n",
      "No Names Yet\n",
      "No Name\n",
      "No Name\n",
      "\"no Name\"\n",
      "My Name Is Cocobee\n",
      "No Name For Now\n",
      "No Name\n",
      "In The Name Of Development\n",
      "No Name Yet\n",
      "No Names\n",
      "Kuroki (NAME IS UP TO YOU)\n",
      "NO NAME YET\n",
      "No Name Yet\n",
      "Not Yet Named\n",
      "No Name\n",
      "No Name\n",
      "No Named\n",
      "No Name\n",
      "No Names Yet\n",
      "Mocha &Latte (can Be Renamed)\n",
      "No Name\n",
      "- To Be Named -\n",
      "Nameless\n",
      "No Name\n",
      "Waiting New Owner To Name Me!\n",
      "No Name\n",
      "No Name\n",
      "* To Be Named *\n",
      "No Name\n",
      "No Name Yet\n",
      "No Name\n",
      "No Name\n",
      "$ To Be Named $\n",
      "Nameless\n",
      "No Name\n",
      "*please Name Us*\n",
      "Noname\n",
      "Unamed\n",
      "Unnamed\n",
      "Stray Cat Name 'Milo'\n",
      "No Name\n",
      "Nameless\n",
      "Name Less Kitten\n",
      "Black Dog - Lucky Named By Rescurer\n",
      "No Name\n",
      "No Name Yet\n",
      "No Name  Yet\n",
      "No Name Yet\n",
      "Mickey (can Be Rename Later)\n",
      "No Name Yet\n",
      "Codename Spitzee\n",
      "No Names Yet\n",
      "My Name Is ??? Tiramisu\n",
      "No Name Yet\n",
      "Stray Kitten Name 'horlick'\n",
      "Cream Cat (unnamed)\n",
      "No Name\n",
      "No Name Yet\n",
      "[No Name]\n",
      "No Name\n",
      "Kuro Kuro (temporarily Name)\n",
      "No Name\n",
      "No Name Yet\n",
      "KiamHu (Temporary Name)\n",
      "No Name Yet, It's Up To The Owner\n",
      "No Name Yet\n",
      "(No Name - She Is Just A Stray)\n",
      "Unnamed 3 Kittens ( By Dani)\n",
      "No Name\n",
      "No Name\n",
      "No Name\n",
      "No Name\n",
      "Need You Giving  A Name\n",
      "Hitler (rename-able)\n",
      "No Name\n",
      "No Name Yet....\n",
      "No Name\n",
      "No Name Yet\n",
      "Haven't Been Named\n",
      "Unnamed\n",
      "No Name\n",
      "Unnamed Cats For Adoption\n",
      "No Name Yet (Must Neuter)\n",
      "Unamed Yet\n",
      "Roxy *temporary Name*\n",
      "(No Names Yet)\n",
      "Kitty (not Named Yet)\n",
      "Unamed Yet 2\n",
      "Rocky OR Can Change Name\n",
      "No Name\n",
      "Not Named Yet\n",
      "No Name\n",
      "Name Them & Love Them\n",
      "No Name\n",
      "UNNAMED\n",
      "Nameless\n",
      "Name Them & Love Them 2\n",
      "4 Kittens Open For Adoption (no Name)\n",
      "Unnamed\n",
      "Nameless\n",
      "No Name\n",
      "Tom & Jerry (Temporary Name)\n"
     ]
    }
   ],
   "source": [
    "names = []\n",
    "for name in strat_train_set['Name']:\n",
    "    if 'name' in str(name).lower():\n",
    "        names.append(str(name))\n",
    "   \n",
    "for name in names:\n",
    "    print(name)"
   ]
  },
  {
   "cell_type": "markdown",
   "metadata": {},
   "source": [
    "**Handling text attributes for name**"
   ]
  },
  {
   "cell_type": "code",
   "execution_count": 280,
   "metadata": {},
   "outputs": [
    {
     "name": "stdout",
     "output_type": "stream",
     "text": [
      "Number of not valid names: 1422\n"
     ]
    }
   ],
   "source": [
    "# Normalizing \"nan\" and unnamed names and code name(no vowels and too short names) to 0 and valid names to 1.\n",
    "pets_num = strat_train_set.copy(deep = True) \n",
    "\n",
    "codeNames = set()\n",
    "for name in pets_num['Name']:\n",
    "    strName = str(name)\n",
    "    if len(strName) < 3 or ('a' not in strName and 'e' not in strName and 'i' not in strName and 'o' not in strName and 'u' not in strName and 'y' not in strName and\n",
    "                           'A' not in strName and 'E' not in strName and 'I' not in strName and 'O' not in strName and 'U' not in strName and 'Y' not in strName):\n",
    "        codeNames.add(strName)\n",
    "#print(\"Found \" + str(len(names)) + \" code names\")\n",
    "pets_num.loc[pets_num['Name'].isin(codeNames), 'Name'] = np.nan\n",
    "\n",
    "unnamedForms = set(names)\n",
    "pets_num.loc[pets_num['Name'].isin(unnamedForms), 'Name'] = np.nan\n",
    "\n",
    "\n",
    "pets_num.loc[pets_num['Name'].notna(), 'Name'] = \"asdfghjkl\"\n",
    "\n",
    "pets_num.loc[pets_num['Name'].isna(), 'Name'] = \"\"\n",
    "\n",
    "print(\"Number of not valid names: \" + str(len(pets_num[pets_num['Name'] == \"\"])))\n",
    "\n",
    "pets_num.Name.replace([\"\",\"asdfghjkl\"], [0, 1], inplace= True)\n",
    "#print(pets_num.loc[[71]])\n"
   ]
  },
  {
   "cell_type": "code",
   "execution_count": 281,
   "metadata": {},
   "outputs": [
    {
     "data": {
      "text/html": [
       "<div>\n",
       "<style scoped>\n",
       "    .dataframe tbody tr th:only-of-type {\n",
       "        vertical-align: middle;\n",
       "    }\n",
       "\n",
       "    .dataframe tbody tr th {\n",
       "        vertical-align: top;\n",
       "    }\n",
       "\n",
       "    .dataframe thead th {\n",
       "        text-align: right;\n",
       "    }\n",
       "</style>\n",
       "<table border=\"1\" class=\"dataframe\">\n",
       "  <thead>\n",
       "    <tr style=\"text-align: right;\">\n",
       "      <th></th>\n",
       "      <th>Type</th>\n",
       "      <th>Name</th>\n",
       "      <th>Age</th>\n",
       "      <th>Breed1</th>\n",
       "      <th>Breed2</th>\n",
       "      <th>Gender</th>\n",
       "      <th>Color1</th>\n",
       "      <th>Color2</th>\n",
       "      <th>Color3</th>\n",
       "      <th>MaturitySize</th>\n",
       "      <th>...</th>\n",
       "      <th>Vaccinated</th>\n",
       "      <th>Dewormed</th>\n",
       "      <th>Sterilized</th>\n",
       "      <th>Health</th>\n",
       "      <th>Quantity</th>\n",
       "      <th>Fee</th>\n",
       "      <th>State</th>\n",
       "      <th>VideoAmt</th>\n",
       "      <th>PhotoAmt</th>\n",
       "      <th>AdoptionSpeed</th>\n",
       "    </tr>\n",
       "  </thead>\n",
       "  <tbody>\n",
       "    <tr>\n",
       "      <th>10070</th>\n",
       "      <td>1</td>\n",
       "      <td>1</td>\n",
       "      <td>2</td>\n",
       "      <td>307</td>\n",
       "      <td>307</td>\n",
       "      <td>1</td>\n",
       "      <td>1</td>\n",
       "      <td>0</td>\n",
       "      <td>0</td>\n",
       "      <td>2</td>\n",
       "      <td>...</td>\n",
       "      <td>2</td>\n",
       "      <td>1</td>\n",
       "      <td>2</td>\n",
       "      <td>1</td>\n",
       "      <td>3</td>\n",
       "      <td>0</td>\n",
       "      <td>41326</td>\n",
       "      <td>0</td>\n",
       "      <td>8.0</td>\n",
       "      <td>2</td>\n",
       "    </tr>\n",
       "    <tr>\n",
       "      <th>13397</th>\n",
       "      <td>1</td>\n",
       "      <td>1</td>\n",
       "      <td>12</td>\n",
       "      <td>307</td>\n",
       "      <td>0</td>\n",
       "      <td>2</td>\n",
       "      <td>2</td>\n",
       "      <td>0</td>\n",
       "      <td>0</td>\n",
       "      <td>1</td>\n",
       "      <td>...</td>\n",
       "      <td>1</td>\n",
       "      <td>1</td>\n",
       "      <td>1</td>\n",
       "      <td>1</td>\n",
       "      <td>1</td>\n",
       "      <td>0</td>\n",
       "      <td>41326</td>\n",
       "      <td>0</td>\n",
       "      <td>3.0</td>\n",
       "      <td>3</td>\n",
       "    </tr>\n",
       "    <tr>\n",
       "      <th>14656</th>\n",
       "      <td>1</td>\n",
       "      <td>1</td>\n",
       "      <td>2</td>\n",
       "      <td>307</td>\n",
       "      <td>307</td>\n",
       "      <td>1</td>\n",
       "      <td>1</td>\n",
       "      <td>2</td>\n",
       "      <td>7</td>\n",
       "      <td>2</td>\n",
       "      <td>...</td>\n",
       "      <td>2</td>\n",
       "      <td>2</td>\n",
       "      <td>2</td>\n",
       "      <td>1</td>\n",
       "      <td>1</td>\n",
       "      <td>0</td>\n",
       "      <td>41326</td>\n",
       "      <td>0</td>\n",
       "      <td>1.0</td>\n",
       "      <td>4</td>\n",
       "    </tr>\n",
       "    <tr>\n",
       "      <th>5596</th>\n",
       "      <td>1</td>\n",
       "      <td>1</td>\n",
       "      <td>2</td>\n",
       "      <td>307</td>\n",
       "      <td>307</td>\n",
       "      <td>1</td>\n",
       "      <td>3</td>\n",
       "      <td>0</td>\n",
       "      <td>0</td>\n",
       "      <td>2</td>\n",
       "      <td>...</td>\n",
       "      <td>1</td>\n",
       "      <td>1</td>\n",
       "      <td>2</td>\n",
       "      <td>1</td>\n",
       "      <td>1</td>\n",
       "      <td>0</td>\n",
       "      <td>41326</td>\n",
       "      <td>0</td>\n",
       "      <td>2.0</td>\n",
       "      <td>1</td>\n",
       "    </tr>\n",
       "    <tr>\n",
       "      <th>13463</th>\n",
       "      <td>2</td>\n",
       "      <td>1</td>\n",
       "      <td>4</td>\n",
       "      <td>265</td>\n",
       "      <td>0</td>\n",
       "      <td>3</td>\n",
       "      <td>1</td>\n",
       "      <td>2</td>\n",
       "      <td>0</td>\n",
       "      <td>2</td>\n",
       "      <td>...</td>\n",
       "      <td>2</td>\n",
       "      <td>2</td>\n",
       "      <td>2</td>\n",
       "      <td>1</td>\n",
       "      <td>4</td>\n",
       "      <td>0</td>\n",
       "      <td>41326</td>\n",
       "      <td>0</td>\n",
       "      <td>2.0</td>\n",
       "      <td>2</td>\n",
       "    </tr>\n",
       "    <tr>\n",
       "      <th>9818</th>\n",
       "      <td>1</td>\n",
       "      <td>1</td>\n",
       "      <td>12</td>\n",
       "      <td>307</td>\n",
       "      <td>0</td>\n",
       "      <td>2</td>\n",
       "      <td>1</td>\n",
       "      <td>2</td>\n",
       "      <td>4</td>\n",
       "      <td>2</td>\n",
       "      <td>...</td>\n",
       "      <td>1</td>\n",
       "      <td>1</td>\n",
       "      <td>1</td>\n",
       "      <td>1</td>\n",
       "      <td>1</td>\n",
       "      <td>0</td>\n",
       "      <td>41326</td>\n",
       "      <td>0</td>\n",
       "      <td>3.0</td>\n",
       "      <td>2</td>\n",
       "    </tr>\n",
       "    <tr>\n",
       "      <th>4307</th>\n",
       "      <td>1</td>\n",
       "      <td>1</td>\n",
       "      <td>24</td>\n",
       "      <td>307</td>\n",
       "      <td>0</td>\n",
       "      <td>1</td>\n",
       "      <td>5</td>\n",
       "      <td>7</td>\n",
       "      <td>0</td>\n",
       "      <td>2</td>\n",
       "      <td>...</td>\n",
       "      <td>3</td>\n",
       "      <td>3</td>\n",
       "      <td>3</td>\n",
       "      <td>1</td>\n",
       "      <td>1</td>\n",
       "      <td>0</td>\n",
       "      <td>41336</td>\n",
       "      <td>0</td>\n",
       "      <td>4.0</td>\n",
       "      <td>3</td>\n",
       "    </tr>\n",
       "    <tr>\n",
       "      <th>12375</th>\n",
       "      <td>2</td>\n",
       "      <td>0</td>\n",
       "      <td>40</td>\n",
       "      <td>250</td>\n",
       "      <td>0</td>\n",
       "      <td>2</td>\n",
       "      <td>1</td>\n",
       "      <td>0</td>\n",
       "      <td>0</td>\n",
       "      <td>2</td>\n",
       "      <td>...</td>\n",
       "      <td>3</td>\n",
       "      <td>1</td>\n",
       "      <td>2</td>\n",
       "      <td>1</td>\n",
       "      <td>1</td>\n",
       "      <td>0</td>\n",
       "      <td>41327</td>\n",
       "      <td>0</td>\n",
       "      <td>3.0</td>\n",
       "      <td>4</td>\n",
       "    </tr>\n",
       "    <tr>\n",
       "      <th>4313</th>\n",
       "      <td>2</td>\n",
       "      <td>1</td>\n",
       "      <td>4</td>\n",
       "      <td>266</td>\n",
       "      <td>0</td>\n",
       "      <td>2</td>\n",
       "      <td>1</td>\n",
       "      <td>0</td>\n",
       "      <td>0</td>\n",
       "      <td>2</td>\n",
       "      <td>...</td>\n",
       "      <td>3</td>\n",
       "      <td>3</td>\n",
       "      <td>2</td>\n",
       "      <td>1</td>\n",
       "      <td>1</td>\n",
       "      <td>100</td>\n",
       "      <td>41401</td>\n",
       "      <td>0</td>\n",
       "      <td>1.0</td>\n",
       "      <td>3</td>\n",
       "    </tr>\n",
       "    <tr>\n",
       "      <th>3972</th>\n",
       "      <td>1</td>\n",
       "      <td>1</td>\n",
       "      <td>8</td>\n",
       "      <td>307</td>\n",
       "      <td>307</td>\n",
       "      <td>1</td>\n",
       "      <td>5</td>\n",
       "      <td>7</td>\n",
       "      <td>0</td>\n",
       "      <td>2</td>\n",
       "      <td>...</td>\n",
       "      <td>3</td>\n",
       "      <td>3</td>\n",
       "      <td>3</td>\n",
       "      <td>1</td>\n",
       "      <td>1</td>\n",
       "      <td>0</td>\n",
       "      <td>41326</td>\n",
       "      <td>0</td>\n",
       "      <td>3.0</td>\n",
       "      <td>4</td>\n",
       "    </tr>\n",
       "  </tbody>\n",
       "</table>\n",
       "<p>10 rows × 21 columns</p>\n",
       "</div>"
      ],
      "text/plain": [
       "       Type  Name  Age  Breed1  Breed2  Gender  Color1  Color2  Color3  \\\n",
       "10070     1     1    2     307     307       1       1       0       0   \n",
       "13397     1     1   12     307       0       2       2       0       0   \n",
       "14656     1     1    2     307     307       1       1       2       7   \n",
       "5596      1     1    2     307     307       1       3       0       0   \n",
       "13463     2     1    4     265       0       3       1       2       0   \n",
       "9818      1     1   12     307       0       2       1       2       4   \n",
       "4307      1     1   24     307       0       1       5       7       0   \n",
       "12375     2     0   40     250       0       2       1       0       0   \n",
       "4313      2     1    4     266       0       2       1       0       0   \n",
       "3972      1     1    8     307     307       1       5       7       0   \n",
       "\n",
       "       MaturitySize  ...  Vaccinated  Dewormed  Sterilized  Health  Quantity  \\\n",
       "10070             2  ...           2         1           2       1         3   \n",
       "13397             1  ...           1         1           1       1         1   \n",
       "14656             2  ...           2         2           2       1         1   \n",
       "5596              2  ...           1         1           2       1         1   \n",
       "13463             2  ...           2         2           2       1         4   \n",
       "9818              2  ...           1         1           1       1         1   \n",
       "4307              2  ...           3         3           3       1         1   \n",
       "12375             2  ...           3         1           2       1         1   \n",
       "4313              2  ...           3         3           2       1         1   \n",
       "3972              2  ...           3         3           3       1         1   \n",
       "\n",
       "       Fee  State  VideoAmt  PhotoAmt  AdoptionSpeed  \n",
       "10070    0  41326         0       8.0              2  \n",
       "13397    0  41326         0       3.0              3  \n",
       "14656    0  41326         0       1.0              4  \n",
       "5596     0  41326         0       2.0              1  \n",
       "13463    0  41326         0       2.0              2  \n",
       "9818     0  41326         0       3.0              2  \n",
       "4307     0  41336         0       4.0              3  \n",
       "12375    0  41327         0       3.0              4  \n",
       "4313   100  41401         0       1.0              3  \n",
       "3972     0  41326         0       3.0              4  \n",
       "\n",
       "[10 rows x 21 columns]"
      ]
     },
     "execution_count": 281,
     "metadata": {},
     "output_type": "execute_result"
    }
   ],
   "source": [
    "# Dropping RescuerID, petID and description columnns\n",
    "pets_num.drop(['RescuerID','PetID','Description'],axis = 1,inplace = True)\n",
    "pets_num.head(10)"
   ]
  },
  {
   "cell_type": "code",
   "execution_count": 282,
   "metadata": {},
   "outputs": [
    {
     "data": {
      "text/plain": [
       "<AxesSubplot:>"
      ]
     },
     "execution_count": 282,
     "metadata": {},
     "output_type": "execute_result"
    },
    {
     "data": {
      "image/png": "[encoded data removed]",
      "text/plain": [
       "<Figure size 432x288 with 1 Axes>"
      ]
     },
     "metadata": {
      "needs_background": "light"
     },
     "output_type": "display_data"
    }
   ],
   "source": [
    "# Adoption speed for unnamed pets\n",
    "pets_num[pets_num['Name'] == 0][\"AdoptionSpeed\"].hist()"
   ]
  },
  {
   "cell_type": "code",
   "execution_count": 283,
   "metadata": {},
   "outputs": [
    {
     "data": {
      "text/plain": [
       "<AxesSubplot:>"
      ]
     },
     "execution_count": 283,
     "metadata": {},
     "output_type": "execute_result"
    },
    {
     "data": {
      "image/png": "[encoded data removed]",
      "text/plain": [
       "<Figure size 432x288 with 1 Axes>"
      ]
     },
     "metadata": {
      "needs_background": "light"
     },
     "output_type": "display_data"
    }
   ],
   "source": [
    "# Adoption speed for named pets\n",
    "pets[pets['Name'] != 0][\"AdoptionSpeed\"].hist()"
   ]
  },
  {
   "cell_type": "markdown",
   "metadata": {},
   "source": [
    " Unnamed pets tend to be less adopted in comparison with named pets."
   ]
  },
  {
   "cell_type": "markdown",
   "metadata": {},
   "source": [
    "## Looking for correlations"
   ]
  },
  {
   "cell_type": "code",
   "execution_count": 284,
   "metadata": {},
   "outputs": [
    {
     "data": {
      "text/html": [
       "<div>\n",
       "<style scoped>\n",
       "    .dataframe tbody tr th:only-of-type {\n",
       "        vertical-align: middle;\n",
       "    }\n",
       "\n",
       "    .dataframe tbody tr th {\n",
       "        vertical-align: top;\n",
       "    }\n",
       "\n",
       "    .dataframe thead th {\n",
       "        text-align: right;\n",
       "    }\n",
       "</style>\n",
       "<table border=\"1\" class=\"dataframe\">\n",
       "  <thead>\n",
       "    <tr style=\"text-align: right;\">\n",
       "      <th></th>\n",
       "      <th>Type</th>\n",
       "      <th>Age</th>\n",
       "      <th>Breed1</th>\n",
       "      <th>Breed2</th>\n",
       "      <th>Gender</th>\n",
       "      <th>Color1</th>\n",
       "      <th>Color2</th>\n",
       "      <th>Color3</th>\n",
       "      <th>MaturitySize</th>\n",
       "      <th>FurLength</th>\n",
       "      <th>Vaccinated</th>\n",
       "      <th>Dewormed</th>\n",
       "      <th>Sterilized</th>\n",
       "      <th>Health</th>\n",
       "      <th>Quantity</th>\n",
       "      <th>Fee</th>\n",
       "      <th>State</th>\n",
       "      <th>VideoAmt</th>\n",
       "      <th>PhotoAmt</th>\n",
       "      <th>AdoptionSpeed</th>\n",
       "    </tr>\n",
       "  </thead>\n",
       "  <tbody>\n",
       "    <tr>\n",
       "      <th>Type</th>\n",
       "      <td>1.000000</td>\n",
       "      <td>-0.147162</td>\n",
       "      <td>0.057724</td>\n",
       "      <td>-0.043568</td>\n",
       "      <td>0.060843</td>\n",
       "      <td>0.097680</td>\n",
       "      <td>0.246333</td>\n",
       "      <td>0.201693</td>\n",
       "      <td>-0.171811</td>\n",
       "      <td>0.003036</td>\n",
       "      <td>0.102907</td>\n",
       "      <td>0.025508</td>\n",
       "      <td>0.006737</td>\n",
       "      <td>-0.006864</td>\n",
       "      <td>0.036423</td>\n",
       "      <td>-0.042134</td>\n",
       "      <td>0.124549</td>\n",
       "      <td>-0.005967</td>\n",
       "      <td>0.049368</td>\n",
       "      <td>-0.091240</td>\n",
       "    </tr>\n",
       "    <tr>\n",
       "      <th>Age</th>\n",
       "      <td>-0.147162</td>\n",
       "      <td>1.000000</td>\n",
       "      <td>-0.314346</td>\n",
       "      <td>-0.041010</td>\n",
       "      <td>-0.123423</td>\n",
       "      <td>0.090378</td>\n",
       "      <td>-0.039427</td>\n",
       "      <td>-0.053546</td>\n",
       "      <td>0.093673</td>\n",
       "      <td>0.153092</td>\n",
       "      <td>-0.136061</td>\n",
       "      <td>-0.053360</td>\n",
       "      <td>-0.189450</td>\n",
       "      <td>0.103215</td>\n",
       "      <td>-0.113076</td>\n",
       "      <td>0.089168</td>\n",
       "      <td>0.024523</td>\n",
       "      <td>-0.015969</td>\n",
       "      <td>-0.084778</td>\n",
       "      <td>0.100510</td>\n",
       "    </tr>\n",
       "    <tr>\n",
       "      <th>Breed1</th>\n",
       "      <td>0.057724</td>\n",
       "      <td>-0.314346</td>\n",
       "      <td>1.000000</td>\n",
       "      <td>-0.157053</td>\n",
       "      <td>0.071321</td>\n",
       "      <td>-0.035510</td>\n",
       "      <td>-0.007081</td>\n",
       "      <td>-0.000682</td>\n",
       "      <td>-0.010507</td>\n",
       "      <td>-0.108059</td>\n",
       "      <td>0.046518</td>\n",
       "      <td>0.013216</td>\n",
       "      <td>0.052698</td>\n",
       "      <td>-0.034893</td>\n",
       "      <td>0.090194</td>\n",
       "      <td>-0.189526</td>\n",
       "      <td>-0.026832</td>\n",
       "      <td>0.020626</td>\n",
       "      <td>0.043395</td>\n",
       "      <td>0.107834</td>\n",
       "    </tr>\n",
       "    <tr>\n",
       "      <th>Breed2</th>\n",
       "      <td>-0.043568</td>\n",
       "      <td>-0.041010</td>\n",
       "      <td>-0.157053</td>\n",
       "      <td>1.000000</td>\n",
       "      <td>0.056907</td>\n",
       "      <td>-0.020324</td>\n",
       "      <td>0.003015</td>\n",
       "      <td>0.035679</td>\n",
       "      <td>0.049879</td>\n",
       "      <td>0.106220</td>\n",
       "      <td>0.005638</td>\n",
       "      <td>-0.009817</td>\n",
       "      <td>-0.005989</td>\n",
       "      <td>-0.029285</td>\n",
       "      <td>0.038125</td>\n",
       "      <td>0.013508</td>\n",
       "      <td>-0.037993</td>\n",
       "      <td>0.001569</td>\n",
       "      <td>0.045953</td>\n",
       "      <td>-0.018642</td>\n",
       "    </tr>\n",
       "    <tr>\n",
       "      <th>Gender</th>\n",
       "      <td>0.060843</td>\n",
       "      <td>-0.123423</td>\n",
       "      <td>0.071321</td>\n",
       "      <td>0.056907</td>\n",
       "      <td>1.000000</td>\n",
       "      <td>-0.115351</td>\n",
       "      <td>0.026507</td>\n",
       "      <td>0.259309</td>\n",
       "      <td>-0.091819</td>\n",
       "      <td>-0.030404</td>\n",
       "      <td>0.078702</td>\n",
       "      <td>0.091431</td>\n",
       "      <td>0.040645</td>\n",
       "      <td>-0.045177</td>\n",
       "      <td>0.494489</td>\n",
       "      <td>-0.050491</td>\n",
       "      <td>0.002564</td>\n",
       "      <td>0.016816</td>\n",
       "      <td>0.098435</td>\n",
       "      <td>0.057622</td>\n",
       "    </tr>\n",
       "    <tr>\n",
       "      <th>Color1</th>\n",
       "      <td>0.097680</td>\n",
       "      <td>0.090378</td>\n",
       "      <td>-0.035510</td>\n",
       "      <td>-0.020324</td>\n",
       "      <td>-0.115351</td>\n",
       "      <td>1.000000</td>\n",
       "      <td>-0.113290</td>\n",
       "      <td>-0.282897</td>\n",
       "      <td>-0.029468</td>\n",
       "      <td>0.066967</td>\n",
       "      <td>-0.017475</td>\n",
       "      <td>-0.019318</td>\n",
       "      <td>-0.037050</td>\n",
       "      <td>0.024410</td>\n",
       "      <td>-0.116688</td>\n",
       "      <td>0.054180</td>\n",
       "      <td>0.024012</td>\n",
       "      <td>-0.006435</td>\n",
       "      <td>-0.041323</td>\n",
       "      <td>-0.044192</td>\n",
       "    </tr>\n",
       "    <tr>\n",
       "      <th>Color2</th>\n",
       "      <td>0.246333</td>\n",
       "      <td>-0.039427</td>\n",
       "      <td>-0.007081</td>\n",
       "      <td>0.003015</td>\n",
       "      <td>0.026507</td>\n",
       "      <td>-0.113290</td>\n",
       "      <td>1.000000</td>\n",
       "      <td>0.088742</td>\n",
       "      <td>-0.065155</td>\n",
       "      <td>-0.008764</td>\n",
       "      <td>0.026193</td>\n",
       "      <td>0.005812</td>\n",
       "      <td>0.007370</td>\n",
       "      <td>-0.004307</td>\n",
       "      <td>0.019876</td>\n",
       "      <td>-0.017308</td>\n",
       "      <td>0.026944</td>\n",
       "      <td>0.023983</td>\n",
       "      <td>0.059113</td>\n",
       "      <td>-0.038579</td>\n",
       "    </tr>\n",
       "    <tr>\n",
       "      <th>Color3</th>\n",
       "      <td>0.201693</td>\n",
       "      <td>-0.053546</td>\n",
       "      <td>-0.000682</td>\n",
       "      <td>0.035679</td>\n",
       "      <td>0.259309</td>\n",
       "      <td>-0.282897</td>\n",
       "      <td>0.088742</td>\n",
       "      <td>1.000000</td>\n",
       "      <td>-0.051730</td>\n",
       "      <td>0.013581</td>\n",
       "      <td>0.054053</td>\n",
       "      <td>0.048617</td>\n",
       "      <td>0.038899</td>\n",
       "      <td>-0.024782</td>\n",
       "      <td>0.272548</td>\n",
       "      <td>-0.019839</td>\n",
       "      <td>0.010554</td>\n",
       "      <td>0.019526</td>\n",
       "      <td>0.103662</td>\n",
       "      <td>-0.007014</td>\n",
       "    </tr>\n",
       "    <tr>\n",
       "      <th>MaturitySize</th>\n",
       "      <td>-0.171811</td>\n",
       "      <td>0.093673</td>\n",
       "      <td>-0.010507</td>\n",
       "      <td>0.049879</td>\n",
       "      <td>-0.091819</td>\n",
       "      <td>-0.029468</td>\n",
       "      <td>-0.065155</td>\n",
       "      <td>-0.051730</td>\n",
       "      <td>1.000000</td>\n",
       "      <td>0.095142</td>\n",
       "      <td>-0.087722</td>\n",
       "      <td>-0.067352</td>\n",
       "      <td>-0.066321</td>\n",
       "      <td>-0.012957</td>\n",
       "      <td>-0.042832</td>\n",
       "      <td>0.041144</td>\n",
       "      <td>-0.062584</td>\n",
       "      <td>0.017032</td>\n",
       "      <td>0.015593</td>\n",
       "      <td>0.045653</td>\n",
       "    </tr>\n",
       "    <tr>\n",
       "      <th>FurLength</th>\n",
       "      <td>0.003036</td>\n",
       "      <td>0.153092</td>\n",
       "      <td>-0.108059</td>\n",
       "      <td>0.106220</td>\n",
       "      <td>-0.030404</td>\n",
       "      <td>0.066967</td>\n",
       "      <td>-0.008764</td>\n",
       "      <td>0.013581</td>\n",
       "      <td>0.095142</td>\n",
       "      <td>1.000000</td>\n",
       "      <td>-0.006010</td>\n",
       "      <td>0.016463</td>\n",
       "      <td>0.032092</td>\n",
       "      <td>0.028096</td>\n",
       "      <td>-0.038388</td>\n",
       "      <td>0.159693</td>\n",
       "      <td>-0.029317</td>\n",
       "      <td>-0.014740</td>\n",
       "      <td>-0.031557</td>\n",
       "      <td>-0.091337</td>\n",
       "    </tr>\n",
       "    <tr>\n",
       "      <th>Vaccinated</th>\n",
       "      <td>0.102907</td>\n",
       "      <td>-0.136061</td>\n",
       "      <td>0.046518</td>\n",
       "      <td>0.005638</td>\n",
       "      <td>0.078702</td>\n",
       "      <td>-0.017475</td>\n",
       "      <td>0.026193</td>\n",
       "      <td>0.054053</td>\n",
       "      <td>-0.087722</td>\n",
       "      <td>-0.006010</td>\n",
       "      <td>1.000000</td>\n",
       "      <td>0.722596</td>\n",
       "      <td>0.471204</td>\n",
       "      <td>0.078893</td>\n",
       "      <td>0.125287</td>\n",
       "      <td>-0.121868</td>\n",
       "      <td>0.032737</td>\n",
       "      <td>-0.032685</td>\n",
       "      <td>-0.052719</td>\n",
       "      <td>-0.059043</td>\n",
       "    </tr>\n",
       "    <tr>\n",
       "      <th>Dewormed</th>\n",
       "      <td>0.025508</td>\n",
       "      <td>-0.053360</td>\n",
       "      <td>0.013216</td>\n",
       "      <td>-0.009817</td>\n",
       "      <td>0.091431</td>\n",
       "      <td>-0.019318</td>\n",
       "      <td>0.005812</td>\n",
       "      <td>0.048617</td>\n",
       "      <td>-0.067352</td>\n",
       "      <td>0.016463</td>\n",
       "      <td>0.722596</td>\n",
       "      <td>1.000000</td>\n",
       "      <td>0.426256</td>\n",
       "      <td>0.072188</td>\n",
       "      <td>0.141355</td>\n",
       "      <td>-0.105978</td>\n",
       "      <td>-0.001310</td>\n",
       "      <td>-0.036961</td>\n",
       "      <td>-0.099026</td>\n",
       "      <td>-0.013210</td>\n",
       "    </tr>\n",
       "    <tr>\n",
       "      <th>Sterilized</th>\n",
       "      <td>0.006737</td>\n",
       "      <td>-0.189450</td>\n",
       "      <td>0.052698</td>\n",
       "      <td>-0.005989</td>\n",
       "      <td>0.040645</td>\n",
       "      <td>-0.037050</td>\n",
       "      <td>0.007370</td>\n",
       "      <td>0.038899</td>\n",
       "      <td>-0.066321</td>\n",
       "      <td>0.032092</td>\n",
       "      <td>0.471204</td>\n",
       "      <td>0.426256</td>\n",
       "      <td>1.000000</td>\n",
       "      <td>0.057916</td>\n",
       "      <td>0.101919</td>\n",
       "      <td>-0.063790</td>\n",
       "      <td>0.009951</td>\n",
       "      <td>-0.018720</td>\n",
       "      <td>-0.062067</td>\n",
       "      <td>-0.083447</td>\n",
       "    </tr>\n",
       "    <tr>\n",
       "      <th>Health</th>\n",
       "      <td>-0.006864</td>\n",
       "      <td>0.103215</td>\n",
       "      <td>-0.034893</td>\n",
       "      <td>-0.029285</td>\n",
       "      <td>-0.045177</td>\n",
       "      <td>0.024410</td>\n",
       "      <td>-0.004307</td>\n",
       "      <td>-0.024782</td>\n",
       "      <td>-0.012957</td>\n",
       "      <td>0.028096</td>\n",
       "      <td>0.078893</td>\n",
       "      <td>0.072188</td>\n",
       "      <td>0.057916</td>\n",
       "      <td>1.000000</td>\n",
       "      <td>-0.034567</td>\n",
       "      <td>-0.010073</td>\n",
       "      <td>0.026237</td>\n",
       "      <td>-0.004984</td>\n",
       "      <td>-0.023978</td>\n",
       "      <td>0.029382</td>\n",
       "    </tr>\n",
       "    <tr>\n",
       "      <th>Quantity</th>\n",
       "      <td>0.036423</td>\n",
       "      <td>-0.113076</td>\n",
       "      <td>0.090194</td>\n",
       "      <td>0.038125</td>\n",
       "      <td>0.494489</td>\n",
       "      <td>-0.116688</td>\n",
       "      <td>0.019876</td>\n",
       "      <td>0.272548</td>\n",
       "      <td>-0.042832</td>\n",
       "      <td>-0.038388</td>\n",
       "      <td>0.125287</td>\n",
       "      <td>0.141355</td>\n",
       "      <td>0.101919</td>\n",
       "      <td>-0.034567</td>\n",
       "      <td>1.000000</td>\n",
       "      <td>-0.060523</td>\n",
       "      <td>-0.002182</td>\n",
       "      <td>0.008344</td>\n",
       "      <td>0.137839</td>\n",
       "      <td>0.062931</td>\n",
       "    </tr>\n",
       "    <tr>\n",
       "      <th>Fee</th>\n",
       "      <td>-0.042134</td>\n",
       "      <td>0.089168</td>\n",
       "      <td>-0.189526</td>\n",
       "      <td>0.013508</td>\n",
       "      <td>-0.050491</td>\n",
       "      <td>0.054180</td>\n",
       "      <td>-0.017308</td>\n",
       "      <td>-0.019839</td>\n",
       "      <td>0.041144</td>\n",
       "      <td>0.159693</td>\n",
       "      <td>-0.121868</td>\n",
       "      <td>-0.105978</td>\n",
       "      <td>-0.063790</td>\n",
       "      <td>-0.010073</td>\n",
       "      <td>-0.060523</td>\n",
       "      <td>1.000000</td>\n",
       "      <td>-0.015758</td>\n",
       "      <td>-0.000839</td>\n",
       "      <td>0.005103</td>\n",
       "      <td>-0.004017</td>\n",
       "    </tr>\n",
       "    <tr>\n",
       "      <th>State</th>\n",
       "      <td>0.124549</td>\n",
       "      <td>0.024523</td>\n",
       "      <td>-0.026832</td>\n",
       "      <td>-0.037993</td>\n",
       "      <td>0.002564</td>\n",
       "      <td>0.024012</td>\n",
       "      <td>0.026944</td>\n",
       "      <td>0.010554</td>\n",
       "      <td>-0.062584</td>\n",
       "      <td>-0.029317</td>\n",
       "      <td>0.032737</td>\n",
       "      <td>-0.001310</td>\n",
       "      <td>0.009951</td>\n",
       "      <td>0.026237</td>\n",
       "      <td>-0.002182</td>\n",
       "      <td>-0.015758</td>\n",
       "      <td>1.000000</td>\n",
       "      <td>-0.027456</td>\n",
       "      <td>0.001873</td>\n",
       "      <td>0.013119</td>\n",
       "    </tr>\n",
       "    <tr>\n",
       "      <th>VideoAmt</th>\n",
       "      <td>-0.005967</td>\n",
       "      <td>-0.015969</td>\n",
       "      <td>0.020626</td>\n",
       "      <td>0.001569</td>\n",
       "      <td>0.016816</td>\n",
       "      <td>-0.006435</td>\n",
       "      <td>0.023983</td>\n",
       "      <td>0.019526</td>\n",
       "      <td>0.017032</td>\n",
       "      <td>-0.014740</td>\n",
       "      <td>-0.032685</td>\n",
       "      <td>-0.036961</td>\n",
       "      <td>-0.018720</td>\n",
       "      <td>-0.004984</td>\n",
       "      <td>0.008344</td>\n",
       "      <td>-0.000839</td>\n",
       "      <td>-0.027456</td>\n",
       "      <td>1.000000</td>\n",
       "      <td>0.227231</td>\n",
       "      <td>-0.000571</td>\n",
       "    </tr>\n",
       "    <tr>\n",
       "      <th>PhotoAmt</th>\n",
       "      <td>0.049368</td>\n",
       "      <td>-0.084778</td>\n",
       "      <td>0.043395</td>\n",
       "      <td>0.045953</td>\n",
       "      <td>0.098435</td>\n",
       "      <td>-0.041323</td>\n",
       "      <td>0.059113</td>\n",
       "      <td>0.103662</td>\n",
       "      <td>0.015593</td>\n",
       "      <td>-0.031557</td>\n",
       "      <td>-0.052719</td>\n",
       "      <td>-0.099026</td>\n",
       "      <td>-0.062067</td>\n",
       "      <td>-0.023978</td>\n",
       "      <td>0.137839</td>\n",
       "      <td>0.005103</td>\n",
       "      <td>0.001873</td>\n",
       "      <td>0.227231</td>\n",
       "      <td>1.000000</td>\n",
       "      <td>-0.023233</td>\n",
       "    </tr>\n",
       "    <tr>\n",
       "      <th>AdoptionSpeed</th>\n",
       "      <td>-0.091240</td>\n",
       "      <td>0.100510</td>\n",
       "      <td>0.107834</td>\n",
       "      <td>-0.018642</td>\n",
       "      <td>0.057622</td>\n",
       "      <td>-0.044192</td>\n",
       "      <td>-0.038579</td>\n",
       "      <td>-0.007014</td>\n",
       "      <td>0.045653</td>\n",
       "      <td>-0.091337</td>\n",
       "      <td>-0.059043</td>\n",
       "      <td>-0.013210</td>\n",
       "      <td>-0.083447</td>\n",
       "      <td>0.029382</td>\n",
       "      <td>0.062931</td>\n",
       "      <td>-0.004017</td>\n",
       "      <td>0.013119</td>\n",
       "      <td>-0.000571</td>\n",
       "      <td>-0.023233</td>\n",
       "      <td>1.000000</td>\n",
       "    </tr>\n",
       "  </tbody>\n",
       "</table>\n",
       "</div>"
      ],
      "text/plain": [
       "                   Type       Age    Breed1    Breed2    Gender    Color1  \\\n",
       "Type           1.000000 -0.147162  0.057724 -0.043568  0.060843  0.097680   \n",
       "Age           -0.147162  1.000000 -0.314346 -0.041010 -0.123423  0.090378   \n",
       "Breed1         0.057724 -0.314346  1.000000 -0.157053  0.071321 -0.035510   \n",
       "Breed2        -0.043568 -0.041010 -0.157053  1.000000  0.056907 -0.020324   \n",
       "Gender         0.060843 -0.123423  0.071321  0.056907  1.000000 -0.115351   \n",
       "Color1         0.097680  0.090378 -0.035510 -0.020324 -0.115351  1.000000   \n",
       "Color2         0.246333 -0.039427 -0.007081  0.003015  0.026507 -0.113290   \n",
       "Color3         0.201693 -0.053546 -0.000682  0.035679  0.259309 -0.282897   \n",
       "MaturitySize  -0.171811  0.093673 -0.010507  0.049879 -0.091819 -0.029468   \n",
       "FurLength      0.003036  0.153092 -0.108059  0.106220 -0.030404  0.066967   \n",
       "Vaccinated     0.102907 -0.136061  0.046518  0.005638  0.078702 -0.017475   \n",
       "Dewormed       0.025508 -0.053360  0.013216 -0.009817  0.091431 -0.019318   \n",
       "Sterilized     0.006737 -0.189450  0.052698 -0.005989  0.040645 -0.037050   \n",
       "Health        -0.006864  0.103215 -0.034893 -0.029285 -0.045177  0.024410   \n",
       "Quantity       0.036423 -0.113076  0.090194  0.038125  0.494489 -0.116688   \n",
       "Fee           -0.042134  0.089168 -0.189526  0.013508 -0.050491  0.054180   \n",
       "State          0.124549  0.024523 -0.026832 -0.037993  0.002564  0.024012   \n",
       "VideoAmt      -0.005967 -0.015969  0.020626  0.001569  0.016816 -0.006435   \n",
       "PhotoAmt       0.049368 -0.084778  0.043395  0.045953  0.098435 -0.041323   \n",
       "AdoptionSpeed -0.091240  0.100510  0.107834 -0.018642  0.057622 -0.044192   \n",
       "\n",
       "                 Color2    Color3  MaturitySize  FurLength  Vaccinated  \\\n",
       "Type           0.246333  0.201693     -0.171811   0.003036    0.102907   \n",
       "Age           -0.039427 -0.053546      0.093673   0.153092   -0.136061   \n",
       "Breed1        -0.007081 -0.000682     -0.010507  -0.108059    0.046518   \n",
       "Breed2         0.003015  0.035679      0.049879   0.106220    0.005638   \n",
       "Gender         0.026507  0.259309     -0.091819  -0.030404    0.078702   \n",
       "Color1        -0.113290 -0.282897     -0.029468   0.066967   -0.017475   \n",
       "Color2         1.000000  0.088742     -0.065155  -0.008764    0.026193   \n",
       "Color3         0.088742  1.000000     -0.051730   0.013581    0.054053   \n",
       "MaturitySize  -0.065155 -0.051730      1.000000   0.095142   -0.087722   \n",
       "FurLength     -0.008764  0.013581      0.095142   1.000000   -0.006010   \n",
       "Vaccinated     0.026193  0.054053     -0.087722  -0.006010    1.000000   \n",
       "Dewormed       0.005812  0.048617     -0.067352   0.016463    0.722596   \n",
       "Sterilized     0.007370  0.038899     -0.066321   0.032092    0.471204   \n",
       "Health        -0.004307 -0.024782     -0.012957   0.028096    0.078893   \n",
       "Quantity       0.019876  0.272548     -0.042832  -0.038388    0.125287   \n",
       "Fee           -0.017308 -0.019839      0.041144   0.159693   -0.121868   \n",
       "State          0.026944  0.010554     -0.062584  -0.029317    0.032737   \n",
       "VideoAmt       0.023983  0.019526      0.017032  -0.014740   -0.032685   \n",
       "PhotoAmt       0.059113  0.103662      0.015593  -0.031557   -0.052719   \n",
       "AdoptionSpeed -0.038579 -0.007014      0.045653  -0.091337   -0.059043   \n",
       "\n",
       "               Dewormed  Sterilized    Health  Quantity       Fee     State  \\\n",
       "Type           0.025508    0.006737 -0.006864  0.036423 -0.042134  0.124549   \n",
       "Age           -0.053360   -0.189450  0.103215 -0.113076  0.089168  0.024523   \n",
       "Breed1         0.013216    0.052698 -0.034893  0.090194 -0.189526 -0.026832   \n",
       "Breed2        -0.009817   -0.005989 -0.029285  0.038125  0.013508 -0.037993   \n",
       "Gender         0.091431    0.040645 -0.045177  0.494489 -0.050491  0.002564   \n",
       "Color1        -0.019318   -0.037050  0.024410 -0.116688  0.054180  0.024012   \n",
       "Color2         0.005812    0.007370 -0.004307  0.019876 -0.017308  0.026944   \n",
       "Color3         0.048617    0.038899 -0.024782  0.272548 -0.019839  0.010554   \n",
       "MaturitySize  -0.067352   -0.066321 -0.012957 -0.042832  0.041144 -0.062584   \n",
       "FurLength      0.016463    0.032092  0.028096 -0.038388  0.159693 -0.029317   \n",
       "Vaccinated     0.722596    0.471204  0.078893  0.125287 -0.121868  0.032737   \n",
       "Dewormed       1.000000    0.426256  0.072188  0.141355 -0.105978 -0.001310   \n",
       "Sterilized     0.426256    1.000000  0.057916  0.101919 -0.063790  0.009951   \n",
       "Health         0.072188    0.057916  1.000000 -0.034567 -0.010073  0.026237   \n",
       "Quantity       0.141355    0.101919 -0.034567  1.000000 -0.060523 -0.002182   \n",
       "Fee           -0.105978   -0.063790 -0.010073 -0.060523  1.000000 -0.015758   \n",
       "State         -0.001310    0.009951  0.026237 -0.002182 -0.015758  1.000000   \n",
       "VideoAmt      -0.036961   -0.018720 -0.004984  0.008344 -0.000839 -0.027456   \n",
       "PhotoAmt      -0.099026   -0.062067 -0.023978  0.137839  0.005103  0.001873   \n",
       "AdoptionSpeed -0.013210   -0.083447  0.029382  0.062931 -0.004017  0.013119   \n",
       "\n",
       "               VideoAmt  PhotoAmt  AdoptionSpeed  \n",
       "Type          -0.005967  0.049368      -0.091240  \n",
       "Age           -0.015969 -0.084778       0.100510  \n",
       "Breed1         0.020626  0.043395       0.107834  \n",
       "Breed2         0.001569  0.045953      -0.018642  \n",
       "Gender         0.016816  0.098435       0.057622  \n",
       "Color1        -0.006435 -0.041323      -0.044192  \n",
       "Color2         0.023983  0.059113      -0.038579  \n",
       "Color3         0.019526  0.103662      -0.007014  \n",
       "MaturitySize   0.017032  0.015593       0.045653  \n",
       "FurLength     -0.014740 -0.031557      -0.091337  \n",
       "Vaccinated    -0.032685 -0.052719      -0.059043  \n",
       "Dewormed      -0.036961 -0.099026      -0.013210  \n",
       "Sterilized    -0.018720 -0.062067      -0.083447  \n",
       "Health        -0.004984 -0.023978       0.029382  \n",
       "Quantity       0.008344  0.137839       0.062931  \n",
       "Fee           -0.000839  0.005103      -0.004017  \n",
       "State         -0.027456  0.001873       0.013119  \n",
       "VideoAmt       1.000000  0.227231      -0.000571  \n",
       "PhotoAmt       0.227231  1.000000      -0.023233  \n",
       "AdoptionSpeed -0.000571 -0.023233       1.000000  "
      ]
     },
     "execution_count": 284,
     "metadata": {},
     "output_type": "execute_result"
    }
   ],
   "source": [
    "pets.corr()"
   ]
  },
  {
   "cell_type": "code",
   "execution_count": 285,
   "metadata": {},
   "outputs": [
    {
     "data": {
      "text/plain": [
       "AdoptionSpeed    1.000000\n",
       "Breed1           0.107834\n",
       "Age              0.100510\n",
       "Quantity         0.062931\n",
       "Gender           0.057622\n",
       "MaturitySize     0.045653\n",
       "Health           0.029382\n",
       "State            0.013119\n",
       "VideoAmt        -0.000571\n",
       "Fee             -0.004017\n",
       "Color3          -0.007014\n",
       "Dewormed        -0.013210\n",
       "Breed2          -0.018642\n",
       "PhotoAmt        -0.023233\n",
       "Color2          -0.038579\n",
       "Color1          -0.044192\n",
       "Vaccinated      -0.059043\n",
       "Sterilized      -0.083447\n",
       "Type            -0.091240\n",
       "FurLength       -0.091337\n",
       "Name: AdoptionSpeed, dtype: float64"
      ]
     },
     "execution_count": 285,
     "metadata": {},
     "output_type": "execute_result"
    }
   ],
   "source": [
    "corr_matrix = pets.corr()\n",
    "corr_matrix[\"AdoptionSpeed\"].sort_values(ascending=False)"
   ]
  },
  {
   "cell_type": "markdown",
   "metadata": {},
   "source": [
    "From the correlation table above, we can observe the fact that the adoption breed is the most closely correlated to the breed of the animal, but still, a correlation of approximately 0.107 is quite small and needs further reassessing and observing of the data."
   ]
  },
  {
   "cell_type": "code",
   "execution_count": 286,
   "metadata": {},
   "outputs": [
    {
     "name": "stdout",
     "output_type": "stream",
     "text": [
      "Saving figure scatter_matrix_plot\n"
     ]
    },
    {
     "data": {
      "image/png": "[encoded data removed]",
      "text/plain": [
       "<Figure size 864x576 with 16 Axes>"
      ]
     },
     "metadata": {
      "needs_background": "light"
     },
     "output_type": "display_data"
    }
   ],
   "source": [
    "from pandas.plotting import scatter_matrix\n",
    "\n",
    "attributes = [\"AdoptionSpeed\", \"Age\", \"Gender\",\n",
    "              \"Breed1\"]\n",
    "scatter_matrix(pets[attributes], figsize=(12, 8))\n",
    "save_fig(\"scatter_matrix_plot\")"
   ]
  },
  {
   "cell_type": "markdown",
   "metadata": {},
   "source": [
    "Analyzing the graphs above, we can observe the fact that age and breed are correlated, as expected, considering the fact that the age an animal can have is dependent on the breed they are. Moreover, we can observe that the first gender of the table, the males, tend to live longer than females in the pet domain. Regarding the gender and breed correlation, we notice that the third gender appears more in the breeds with a higher index than in those with a lower one (the name of the breeds and their identifier can be found in the 'breeds' series). The adoption speed is once again, hard to analyze when considering only one attribute."
   ]
  },
  {
   "cell_type": "markdown",
   "metadata": {},
   "source": [
    "## Transformation Pipelines"
   ]
  },
  {
   "cell_type": "markdown",
   "metadata": {},
   "source": [
    "Now let's build a pipeline for preprocessing the numerical attributes:"
   ]
  },
  {
   "cell_type": "code",
   "execution_count": 331,
   "metadata": {},
   "outputs": [],
   "source": [
    "from sklearn.pipeline import Pipeline\n",
    "from sklearn.preprocessing import StandardScaler\n",
    "from sklearn.impute import SimpleImputer\n",
    "\n",
    "num_pipeline = Pipeline([\n",
    "        ('imputer', SimpleImputer(strategy=\"median\")),\n",
    "        ('std_scaler', StandardScaler()),\n",
    "    ])\n",
    "pets_num_labels = pets_num[\"AdoptionSpeed\"].copy() \n",
    "pets_num_tr = num_pipeline.fit_transform(pets_num)"
   ]
  },
  {
   "cell_type": "code",
   "execution_count": 332,
   "metadata": {},
   "outputs": [
    {
     "data": {
      "text/plain": [
       "array([[-0.91382018,  0.36675093, -0.46473571, ..., -0.16537605,\n",
       "         1.17591178, -0.43861815],\n",
       "       [-0.91382018,  0.36675093,  0.0807281 , ..., -0.16537605,\n",
       "        -0.25490893,  0.41085482],\n",
       "       [-0.91382018,  0.36675093, -0.46473571, ..., -0.16537605,\n",
       "        -0.82723721,  1.2603278 ],\n",
       "       ...,\n",
       "       [-0.91382018,  0.36675093, -0.46473571, ..., -0.16537605,\n",
       "        -0.54107307, -0.43861815],\n",
       "       [-0.91382018,  0.36675093, -0.46473571, ..., -0.16537605,\n",
       "        -0.54107307, -1.28809113],\n",
       "       [ 1.0943072 ,  0.36675093,  1.06256296, ..., -0.16537605,\n",
       "        -0.54107307,  0.41085482]])"
      ]
     },
     "execution_count": 332,
     "metadata": {},
     "output_type": "execute_result"
    }
   ],
   "source": [
    "pets_num_tr"
   ]
  },
  {
   "cell_type": "markdown",
   "metadata": {},
   "source": [
    "# Select and train a model"
   ]
  },
  {
   "cell_type": "markdown",
   "metadata": {},
   "source": [
    "## Training and Evaluating on the Training Set"
   ]
  },
  {
   "cell_type": "markdown",
   "metadata": {},
   "source": [
    "### Linear Regression"
   ]
  },
  {
   "cell_type": "markdown",
   "metadata": {},
   "source": [
    "Linear regression attempts to model the relationship between two variables by fitting a linear equation to observed data."
   ]
  },
  {
   "cell_type": "code",
   "execution_count": 334,
   "metadata": {},
   "outputs": [
    {
     "data": {
      "text/plain": [
       "LinearRegression()"
      ]
     },
     "execution_count": 334,
     "metadata": {},
     "output_type": "execute_result"
    }
   ],
   "source": [
    "from sklearn.linear_model import LinearRegression\n",
    "lin_reg = LinearRegression()\n",
    "lin_reg.fit(pets_num_tr, pets_num_labels)"
   ]
  },
  {
   "cell_type": "code",
   "execution_count": 335,
   "metadata": {},
   "outputs": [
    {
     "name": "stdout",
     "output_type": "stream",
     "text": [
      "Predictions: [2. 3. 4. 1. 2.]\n",
      "Labels:  [2, 3, 4, 1, 2]\n"
     ]
    }
   ],
   "source": [
    "# let's try the full preprocessing pipeline on a few training instances\n",
    "some_data = pets_num.iloc[:5]\n",
    "some_labels = pets_num_labels.iloc[:5]\n",
    "some_data_prepared = num_pipeline.transform(some_data)\n",
    "\n",
    "print(\"Predictions:\", lin_reg.predict(some_data_prepared))\n",
    "print(\"Labels: \",list(some_labels))"
   ]
  },
  {
   "cell_type": "code",
   "execution_count": 336,
   "metadata": {},
   "outputs": [
    {
     "data": {
      "text/plain": [
       "array([[-0.91382018,  0.36675093, -0.46473571,  0.6960601 ,  1.8863147 ,\n",
       "        -1.13814038, -0.70766931, -1.17032209, -0.62664444,  0.25434064,\n",
       "         0.88643383,  0.395021  , -0.80010356,  0.15062915, -0.18244511,\n",
       "         0.93559467, -0.26823035, -0.61481837, -0.16537605,  1.17591178,\n",
       "        -0.43861815],\n",
       "       [-0.91382018,  0.36675093,  0.0807281 ,  0.6960601 , -0.60542833,\n",
       "         0.32591536, -0.13648588, -1.17032209, -0.62664444, -1.58003194,\n",
       "        -0.78236029, -1.09910763, -0.80010356, -1.6102344 , -0.18244511,\n",
       "        -0.39019957, -0.26823035, -0.61481837, -0.16537605, -0.25490893,\n",
       "         0.41085482],\n",
       "       [-0.91382018,  0.36675093, -0.46473571,  0.6960601 ,  1.8863147 ,\n",
       "        -1.13814038, -0.70766931, -0.44185444,  1.72409117,  0.25434064,\n",
       "        -0.78236029,  0.395021  ,  0.63348505,  0.15062915, -0.18244511,\n",
       "        -0.39019957, -0.26823035, -0.61481837, -0.16537605, -0.82723721,\n",
       "         1.2603278 ],\n",
       "       [-0.91382018,  0.36675093, -0.46473571,  0.6960601 ,  1.8863147 ,\n",
       "        -1.13814038,  0.43469754, -1.17032209, -0.62664444,  0.25434064,\n",
       "         0.88643383, -1.09910763, -0.80010356,  0.15062915, -0.18244511,\n",
       "        -0.39019957, -0.26823035, -0.61481837, -0.16537605, -0.54107307,\n",
       "        -1.28809113],\n",
       "       [ 1.0943072 ,  0.36675093, -0.35564295, -0.00294729, -0.60542833,\n",
       "         1.7899711 , -0.70766931, -0.44185444, -0.62664444,  0.25434064,\n",
       "         0.88643383,  0.395021  ,  0.63348505,  0.15062915, -0.18244511,\n",
       "         1.59849178, -0.26823035, -0.61481837, -0.16537605, -0.54107307,\n",
       "        -0.43861815]])"
      ]
     },
     "execution_count": 336,
     "metadata": {},
     "output_type": "execute_result"
    }
   ],
   "source": [
    "some_data_prepared"
   ]
  },
  {
   "cell_type": "code",
   "execution_count": 337,
   "metadata": {},
   "outputs": [
    {
     "data": {
      "text/plain": [
       "1.6428468035318131e-15"
      ]
     },
     "execution_count": 337,
     "metadata": {},
     "output_type": "execute_result"
    }
   ],
   "source": [
    "from sklearn.metrics import mean_squared_error\n",
    "\n",
    "pets_predictions = lin_reg.predict(pets_num_tr)\n",
    "lin_mse = mean_squared_error(pets_num_labels, pets_predictions)\n",
    "lin_rmse = np.sqrt(lin_mse)\n",
    "lin_rmse"
   ]
  },
  {
   "cell_type": "code",
   "execution_count": 338,
   "metadata": {},
   "outputs": [
    {
     "data": {
      "text/plain": [
       "1.2195051075726685e-15"
      ]
     },
     "execution_count": 338,
     "metadata": {},
     "output_type": "execute_result"
    }
   ],
   "source": [
    "from sklearn.metrics import mean_absolute_error\n",
    "\n",
    "lin_mae = mean_absolute_error(pets_num_labels, pets_predictions)\n",
    "lin_mae"
   ]
  },
  {
   "cell_type": "markdown",
   "metadata": {},
   "source": [
    "The model has found an error of 1.64e-15  for RMSE and and error of 1.21e-15 for MAE which is atomically small so we are very pleased to see that."
   ]
  },
  {
   "cell_type": "markdown",
   "metadata": {},
   "source": [
    "## Better Evaluation using Cross Validation"
   ]
  },
  {
   "cell_type": "markdown",
   "metadata": {},
   "source": [
    "Cross-validation is a technique in which we train our model using the subset of the data-set and then evaluate using the complementary subset of the data-set."
   ]
  },
  {
   "cell_type": "code",
   "execution_count": 294,
   "metadata": {},
   "outputs": [],
   "source": [
    "from sklearn.model_selection import cross_val_score\n",
    "\n",
    "lin_scores = cross_val_score(lin_reg, pets_num_tr, pets_num_labels,\n",
    "                             scoring=\"neg_mean_squared_error\", cv=10)\n",
    "lin_rmse_scores = np.sqrt(-lin_scores)"
   ]
  },
  {
   "cell_type": "code",
   "execution_count": 295,
   "metadata": {},
   "outputs": [
    {
     "name": "stdout",
     "output_type": "stream",
     "text": [
      "Scores: [2.95486923e-15 2.21177865e-15 1.75683220e-15 2.06764943e-15\n",
      " 2.12574760e-15 1.17861866e-15 1.31501021e-15 1.34936529e-15\n",
      " 1.50738533e-15 3.52085681e-15]\n",
      "Mean: 1.998811340922983e-15\n",
      "Standard deviation: 7.18262436128636e-16\n"
     ]
    }
   ],
   "source": [
    "def display_scores(scores):\n",
    "    print(\"Scores:\", scores)\n",
    "    print(\"Mean:\", scores.mean())\n",
    "    print(\"Standard deviation:\", scores.std())\n",
    "\n",
    "display_scores(lin_rmse_scores)"
   ]
  },
  {
   "cell_type": "code",
   "execution_count": 296,
   "metadata": {},
   "outputs": [
    {
     "data": {
      "text/plain": [
       "count    1.000000e+01\n",
       "mean     1.998811e-15\n",
       "std      7.571151e-16\n",
       "min      1.178619e-15\n",
       "25%      1.388870e-15\n",
       "50%      1.912241e-15\n",
       "75%      2.190271e-15\n",
       "max      3.520857e-15\n",
       "dtype: float64"
      ]
     },
     "execution_count": 296,
     "metadata": {},
     "output_type": "execute_result"
    }
   ],
   "source": [
    "scores = cross_val_score(lin_reg, pets_num_tr, pets_num_labels, scoring=\"neg_mean_squared_error\", cv=10)\n",
    "pd.Series(np.sqrt(-scores)).describe()"
   ]
  },
  {
   "cell_type": "code",
   "execution_count": 297,
   "metadata": {},
   "outputs": [
    {
     "data": {
      "text/plain": [
       "0.06425240813435007"
      ]
     },
     "execution_count": 297,
     "metadata": {},
     "output_type": "execute_result"
    }
   ],
   "source": [
    "from sklearn.svm import SVR\n",
    "\n",
    "svm_reg = SVR(kernel=\"linear\")\n",
    "svm_reg.fit(pets_num_tr, pets_num_labels)\n",
    "pets_predictions = svm_reg.predict(pets_num_tr)\n",
    "svm_mse = mean_squared_error(pets_num_labels, pets_predictions)\n",
    "svm_rmse = np.sqrt(svm_mse)\n",
    "svm_rmse"
   ]
  },
  {
   "cell_type": "markdown",
   "metadata": {},
   "source": [
    "### Linear Regression on Test Set"
   ]
  },
  {
   "cell_type": "code",
   "execution_count": 298,
   "metadata": {},
   "outputs": [
    {
     "name": "stdout",
     "output_type": "stream",
     "text": [
      "number of not valid names: 330\n"
     ]
    }
   ],
   "source": [
    "# Normalizing \"nan\" and unnamed names and code name(no vowels and too short names) to 0 and valid names to 1.\n",
    "pets_num_test = strat_test_set.copy(deep = True) \n",
    "\n",
    "codeNames = set()\n",
    "for name in pets_num_test['Name']:\n",
    "    strName = str(name)\n",
    "    if len(strName) < 3 or ('a' not in strName and 'e' not in strName and 'i' not in strName and 'o' not in strName and 'u' not in strName and 'y' not in strName and\n",
    "                           'A' not in strName and 'E' not in strName and 'I' not in strName and 'O' not in strName and 'U' not in strName and 'Y' not in strName):\n",
    "        codeNames.add(strName)\n",
    "#print(\"Found \" + str(len(names)) + \" code names\")\n",
    "pets_num_test.loc[pets_num_test['Name'].isin(codeNames), 'Name'] = np.nan\n",
    "\n",
    "unnamedForms = set(names)\n",
    "pets_num_test.loc[pets_num_test['Name'].isin(unnamedForms), 'Name'] = np.nan\n",
    "\n",
    "\n",
    "pets_num_test.loc[pets_num_test['Name'].notna(), 'Name'] = \"asdfghjkl\"\n",
    "\n",
    "pets_num_test.loc[pets_num_test['Name'].isna(), 'Name'] = \"\"\n",
    "\n",
    "print(\"number of not valid names: \" + str(len(pets_num_test[pets_num_test['Name'] == \"\"])))\n",
    "\n",
    "pets_num_test.Name.replace([\"\",\"asdfghjkl\"], [0, 1], inplace= True)\n",
    "#print(pets_num_test.loc[[71]])\n"
   ]
  },
  {
   "cell_type": "code",
   "execution_count": 299,
   "metadata": {},
   "outputs": [
    {
     "data": {
      "text/html": [
       "<div>\n",
       "<style scoped>\n",
       "    .dataframe tbody tr th:only-of-type {\n",
       "        vertical-align: middle;\n",
       "    }\n",
       "\n",
       "    .dataframe tbody tr th {\n",
       "        vertical-align: top;\n",
       "    }\n",
       "\n",
       "    .dataframe thead th {\n",
       "        text-align: right;\n",
       "    }\n",
       "</style>\n",
       "<table border=\"1\" class=\"dataframe\">\n",
       "  <thead>\n",
       "    <tr style=\"text-align: right;\">\n",
       "      <th></th>\n",
       "      <th>Type</th>\n",
       "      <th>Name</th>\n",
       "      <th>Age</th>\n",
       "      <th>Breed1</th>\n",
       "      <th>Breed2</th>\n",
       "      <th>Gender</th>\n",
       "      <th>Color1</th>\n",
       "      <th>Color2</th>\n",
       "      <th>Color3</th>\n",
       "      <th>MaturitySize</th>\n",
       "      <th>...</th>\n",
       "      <th>Vaccinated</th>\n",
       "      <th>Dewormed</th>\n",
       "      <th>Sterilized</th>\n",
       "      <th>Health</th>\n",
       "      <th>Quantity</th>\n",
       "      <th>Fee</th>\n",
       "      <th>State</th>\n",
       "      <th>VideoAmt</th>\n",
       "      <th>PhotoAmt</th>\n",
       "      <th>AdoptionSpeed</th>\n",
       "    </tr>\n",
       "  </thead>\n",
       "  <tbody>\n",
       "    <tr>\n",
       "      <th>14696</th>\n",
       "      <td>1</td>\n",
       "      <td>1</td>\n",
       "      <td>1</td>\n",
       "      <td>307</td>\n",
       "      <td>307</td>\n",
       "      <td>2</td>\n",
       "      <td>1</td>\n",
       "      <td>0</td>\n",
       "      <td>0</td>\n",
       "      <td>2</td>\n",
       "      <td>...</td>\n",
       "      <td>2</td>\n",
       "      <td>2</td>\n",
       "      <td>2</td>\n",
       "      <td>1</td>\n",
       "      <td>2</td>\n",
       "      <td>0</td>\n",
       "      <td>41327</td>\n",
       "      <td>0</td>\n",
       "      <td>9.0</td>\n",
       "      <td>4</td>\n",
       "    </tr>\n",
       "    <tr>\n",
       "      <th>14823</th>\n",
       "      <td>1</td>\n",
       "      <td>1</td>\n",
       "      <td>24</td>\n",
       "      <td>103</td>\n",
       "      <td>307</td>\n",
       "      <td>2</td>\n",
       "      <td>1</td>\n",
       "      <td>2</td>\n",
       "      <td>4</td>\n",
       "      <td>2</td>\n",
       "      <td>...</td>\n",
       "      <td>1</td>\n",
       "      <td>1</td>\n",
       "      <td>2</td>\n",
       "      <td>1</td>\n",
       "      <td>1</td>\n",
       "      <td>0</td>\n",
       "      <td>41330</td>\n",
       "      <td>0</td>\n",
       "      <td>2.0</td>\n",
       "      <td>4</td>\n",
       "    </tr>\n",
       "    <tr>\n",
       "      <th>2838</th>\n",
       "      <td>1</td>\n",
       "      <td>1</td>\n",
       "      <td>2</td>\n",
       "      <td>307</td>\n",
       "      <td>0</td>\n",
       "      <td>2</td>\n",
       "      <td>2</td>\n",
       "      <td>7</td>\n",
       "      <td>0</td>\n",
       "      <td>2</td>\n",
       "      <td>...</td>\n",
       "      <td>1</td>\n",
       "      <td>1</td>\n",
       "      <td>2</td>\n",
       "      <td>1</td>\n",
       "      <td>5</td>\n",
       "      <td>0</td>\n",
       "      <td>41326</td>\n",
       "      <td>0</td>\n",
       "      <td>5.0</td>\n",
       "      <td>4</td>\n",
       "    </tr>\n",
       "    <tr>\n",
       "      <th>1848</th>\n",
       "      <td>2</td>\n",
       "      <td>1</td>\n",
       "      <td>1</td>\n",
       "      <td>265</td>\n",
       "      <td>0</td>\n",
       "      <td>1</td>\n",
       "      <td>2</td>\n",
       "      <td>0</td>\n",
       "      <td>0</td>\n",
       "      <td>1</td>\n",
       "      <td>...</td>\n",
       "      <td>1</td>\n",
       "      <td>1</td>\n",
       "      <td>2</td>\n",
       "      <td>1</td>\n",
       "      <td>1</td>\n",
       "      <td>0</td>\n",
       "      <td>41401</td>\n",
       "      <td>2</td>\n",
       "      <td>6.0</td>\n",
       "      <td>2</td>\n",
       "    </tr>\n",
       "    <tr>\n",
       "      <th>669</th>\n",
       "      <td>2</td>\n",
       "      <td>1</td>\n",
       "      <td>9</td>\n",
       "      <td>266</td>\n",
       "      <td>266</td>\n",
       "      <td>2</td>\n",
       "      <td>2</td>\n",
       "      <td>4</td>\n",
       "      <td>6</td>\n",
       "      <td>2</td>\n",
       "      <td>...</td>\n",
       "      <td>2</td>\n",
       "      <td>2</td>\n",
       "      <td>2</td>\n",
       "      <td>1</td>\n",
       "      <td>2</td>\n",
       "      <td>0</td>\n",
       "      <td>41326</td>\n",
       "      <td>0</td>\n",
       "      <td>8.0</td>\n",
       "      <td>4</td>\n",
       "    </tr>\n",
       "    <tr>\n",
       "      <th>11695</th>\n",
       "      <td>1</td>\n",
       "      <td>1</td>\n",
       "      <td>2</td>\n",
       "      <td>307</td>\n",
       "      <td>0</td>\n",
       "      <td>3</td>\n",
       "      <td>2</td>\n",
       "      <td>0</td>\n",
       "      <td>0</td>\n",
       "      <td>2</td>\n",
       "      <td>...</td>\n",
       "      <td>2</td>\n",
       "      <td>2</td>\n",
       "      <td>2</td>\n",
       "      <td>1</td>\n",
       "      <td>2</td>\n",
       "      <td>0</td>\n",
       "      <td>41336</td>\n",
       "      <td>0</td>\n",
       "      <td>5.0</td>\n",
       "      <td>4</td>\n",
       "    </tr>\n",
       "    <tr>\n",
       "      <th>2337</th>\n",
       "      <td>2</td>\n",
       "      <td>1</td>\n",
       "      <td>12</td>\n",
       "      <td>265</td>\n",
       "      <td>0</td>\n",
       "      <td>2</td>\n",
       "      <td>2</td>\n",
       "      <td>3</td>\n",
       "      <td>0</td>\n",
       "      <td>1</td>\n",
       "      <td>...</td>\n",
       "      <td>1</td>\n",
       "      <td>1</td>\n",
       "      <td>1</td>\n",
       "      <td>2</td>\n",
       "      <td>1</td>\n",
       "      <td>0</td>\n",
       "      <td>41326</td>\n",
       "      <td>0</td>\n",
       "      <td>1.0</td>\n",
       "      <td>1</td>\n",
       "    </tr>\n",
       "    <tr>\n",
       "      <th>607</th>\n",
       "      <td>1</td>\n",
       "      <td>1</td>\n",
       "      <td>1</td>\n",
       "      <td>307</td>\n",
       "      <td>0</td>\n",
       "      <td>2</td>\n",
       "      <td>2</td>\n",
       "      <td>0</td>\n",
       "      <td>0</td>\n",
       "      <td>2</td>\n",
       "      <td>...</td>\n",
       "      <td>2</td>\n",
       "      <td>2</td>\n",
       "      <td>2</td>\n",
       "      <td>1</td>\n",
       "      <td>2</td>\n",
       "      <td>0</td>\n",
       "      <td>41332</td>\n",
       "      <td>0</td>\n",
       "      <td>1.0</td>\n",
       "      <td>2</td>\n",
       "    </tr>\n",
       "    <tr>\n",
       "      <th>11776</th>\n",
       "      <td>2</td>\n",
       "      <td>1</td>\n",
       "      <td>12</td>\n",
       "      <td>266</td>\n",
       "      <td>0</td>\n",
       "      <td>1</td>\n",
       "      <td>1</td>\n",
       "      <td>7</td>\n",
       "      <td>0</td>\n",
       "      <td>3</td>\n",
       "      <td>...</td>\n",
       "      <td>1</td>\n",
       "      <td>1</td>\n",
       "      <td>1</td>\n",
       "      <td>1</td>\n",
       "      <td>1</td>\n",
       "      <td>0</td>\n",
       "      <td>41401</td>\n",
       "      <td>0</td>\n",
       "      <td>2.0</td>\n",
       "      <td>1</td>\n",
       "    </tr>\n",
       "    <tr>\n",
       "      <th>13064</th>\n",
       "      <td>2</td>\n",
       "      <td>1</td>\n",
       "      <td>9</td>\n",
       "      <td>243</td>\n",
       "      <td>0</td>\n",
       "      <td>1</td>\n",
       "      <td>4</td>\n",
       "      <td>7</td>\n",
       "      <td>0</td>\n",
       "      <td>1</td>\n",
       "      <td>...</td>\n",
       "      <td>2</td>\n",
       "      <td>2</td>\n",
       "      <td>2</td>\n",
       "      <td>1</td>\n",
       "      <td>1</td>\n",
       "      <td>0</td>\n",
       "      <td>41326</td>\n",
       "      <td>0</td>\n",
       "      <td>3.0</td>\n",
       "      <td>4</td>\n",
       "    </tr>\n",
       "  </tbody>\n",
       "</table>\n",
       "<p>10 rows × 21 columns</p>\n",
       "</div>"
      ],
      "text/plain": [
       "       Type  Name  Age  Breed1  Breed2  Gender  Color1  Color2  Color3  \\\n",
       "14696     1     1    1     307     307       2       1       0       0   \n",
       "14823     1     1   24     103     307       2       1       2       4   \n",
       "2838      1     1    2     307       0       2       2       7       0   \n",
       "1848      2     1    1     265       0       1       2       0       0   \n",
       "669       2     1    9     266     266       2       2       4       6   \n",
       "11695     1     1    2     307       0       3       2       0       0   \n",
       "2337      2     1   12     265       0       2       2       3       0   \n",
       "607       1     1    1     307       0       2       2       0       0   \n",
       "11776     2     1   12     266       0       1       1       7       0   \n",
       "13064     2     1    9     243       0       1       4       7       0   \n",
       "\n",
       "       MaturitySize  ...  Vaccinated  Dewormed  Sterilized  Health  Quantity  \\\n",
       "14696             2  ...           2         2           2       1         2   \n",
       "14823             2  ...           1         1           2       1         1   \n",
       "2838              2  ...           1         1           2       1         5   \n",
       "1848              1  ...           1         1           2       1         1   \n",
       "669               2  ...           2         2           2       1         2   \n",
       "11695             2  ...           2         2           2       1         2   \n",
       "2337              1  ...           1         1           1       2         1   \n",
       "607               2  ...           2         2           2       1         2   \n",
       "11776             3  ...           1         1           1       1         1   \n",
       "13064             1  ...           2         2           2       1         1   \n",
       "\n",
       "       Fee  State  VideoAmt  PhotoAmt  AdoptionSpeed  \n",
       "14696    0  41327         0       9.0              4  \n",
       "14823    0  41330         0       2.0              4  \n",
       "2838     0  41326         0       5.0              4  \n",
       "1848     0  41401         2       6.0              2  \n",
       "669      0  41326         0       8.0              4  \n",
       "11695    0  41336         0       5.0              4  \n",
       "2337     0  41326         0       1.0              1  \n",
       "607      0  41332         0       1.0              2  \n",
       "11776    0  41401         0       2.0              1  \n",
       "13064    0  41326         0       3.0              4  \n",
       "\n",
       "[10 rows x 21 columns]"
      ]
     },
     "execution_count": 299,
     "metadata": {},
     "output_type": "execute_result"
    }
   ],
   "source": [
    "# Dropping RescuerID, petID and description columnns\n",
    "pets_num_test.drop(['RescuerID','PetID','Description'],axis = 1,inplace = True)\n",
    "pets_num_test.head(10)"
   ]
  },
  {
   "cell_type": "code",
   "execution_count": 300,
   "metadata": {},
   "outputs": [],
   "source": [
    "pets_labels_test = strat_test_set[\"AdoptionSpeed\"].copy()\n",
    "pets_values_test = num_pipeline.fit_transform(pets_num_test)"
   ]
  },
  {
   "cell_type": "code",
   "execution_count": 301,
   "metadata": {},
   "outputs": [
    {
     "data": {
      "text/plain": [
       "LinearRegression()"
      ]
     },
     "execution_count": 301,
     "metadata": {},
     "output_type": "execute_result"
    }
   ],
   "source": [
    "from sklearn.linear_model import LinearRegression\n",
    "\n",
    "lin_reg_test = LinearRegression()\n",
    "lin_reg_test.fit(pets_values_test,pets_labels_test)"
   ]
  },
  {
   "cell_type": "code",
   "execution_count": 302,
   "metadata": {},
   "outputs": [
    {
     "name": "stdout",
     "output_type": "stream",
     "text": [
      "Predictions: [3.99934512 3.99934512 3.99934512 1.99955742 3.99934512]\n",
      "Labels:  [4, 4, 4, 2, 4]\n"
     ]
    }
   ],
   "source": [
    "# let's try the full preprocessing pipeline on a few training instances\n",
    "some_data = pets_num_test.iloc[:5]\n",
    "some_labels = pets_labels_test.iloc[:5]\n",
    "some_data_prepared = num_pipeline.transform(some_data)\n",
    "\n",
    "print(\"Predictions:\", lin_reg.predict(some_data_prepared))\n",
    "print(\"Labels: \",list(some_labels))"
   ]
  },
  {
   "cell_type": "code",
   "execution_count": 303,
   "metadata": {},
   "outputs": [
    {
     "data": {
      "text/plain": [
       "array([[-0.93758876,  0.35162738, -0.52690707,  0.68987708,  1.9260539 ,\n",
       "         0.33854866, -0.70540272, -1.19477428, -0.64698194,  0.24219188,\n",
       "         0.89898887,  0.43355294,  0.63714479,  0.15506327, -0.18778486,\n",
       "         0.36002838, -0.28482618, -0.59680735, -0.15850524,  1.47876699,\n",
       "         1.25977149],\n",
       "       [-0.93758876,  0.35162738,  0.79317388, -2.71400242,  1.9260539 ,\n",
       "         0.33854866, -0.70540272, -0.46217807,  0.68290074,  0.24219188,\n",
       "        -0.77247277, -1.08009696, -0.81482878,  0.15506327, -0.18778486,\n",
       "        -0.39927198, -0.28482618, -0.50494763, -0.15850524, -0.54415464,\n",
       "         1.25977149],\n",
       "       [-0.93758876,  0.35162738, -0.46951224,  0.68987708, -0.5866589 ,\n",
       "         0.33854866, -0.1248586 ,  1.36931245, -0.64698194,  0.24219188,\n",
       "        -0.77247277, -1.08009696, -0.81482878,  0.15506327, -0.18778486,\n",
       "         2.63792948, -0.28482618, -0.62742725, -0.15850524,  0.32281177,\n",
       "         1.25977149],\n",
       "       [ 1.06656569,  0.35162738, -0.52690707, -0.01092164, -0.5866589 ,\n",
       "        -1.14149132, -0.1248586 , -1.19477428, -0.64698194, -1.54680678,\n",
       "         0.89898887, -1.08009696, -0.81482878,  0.15506327, -0.18778486,\n",
       "        -0.39927198, -0.28482618,  1.66906553,  5.50050915,  0.61180057,\n",
       "        -0.43899411],\n",
       "       [ 1.06656569,  0.35162738, -0.06774847,  0.00576404,  1.59047987,\n",
       "         0.33854866, -0.1248586 ,  0.27041814,  1.34784208,  0.24219188,\n",
       "        -0.77247277,  0.43355294,  0.63714479,  0.15506327, -0.18778486,\n",
       "         0.36002838, -0.28482618, -0.62742725, -0.15850524,  1.18977818,\n",
       "         1.25977149]])"
      ]
     },
     "execution_count": 303,
     "metadata": {},
     "output_type": "execute_result"
    }
   ],
   "source": [
    "some_data_prepared"
   ]
  },
  {
   "cell_type": "code",
   "execution_count": 304,
   "metadata": {},
   "outputs": [
    {
     "data": {
      "text/plain": [
       "0.0005129007409090651"
      ]
     },
     "execution_count": 304,
     "metadata": {},
     "output_type": "execute_result"
    }
   ],
   "source": [
    "from sklearn.metrics import mean_squared_error\n",
    "\n",
    "pets_predictions_test = lin_reg.predict(pets_values_test)\n",
    "lin_mse = mean_squared_error(pets_labels_test, pets_predictions_test)\n",
    "lin_rmse = np.sqrt(lin_mse)\n",
    "lin_rmse"
   ]
  },
  {
   "cell_type": "code",
   "execution_count": 305,
   "metadata": {},
   "outputs": [
    {
     "data": {
      "text/plain": [
       "0.0004974422300625505"
      ]
     },
     "execution_count": 305,
     "metadata": {},
     "output_type": "execute_result"
    }
   ],
   "source": [
    "from sklearn.metrics import mean_absolute_error\n",
    "\n",
    "lin_mae = mean_absolute_error(pets_labels_test, pets_predictions_test)\n",
    "lin_mae"
   ]
  },
  {
   "cell_type": "markdown",
   "metadata": {},
   "source": [
    "The model has found an error of 0.0005  for RMSE and and error of 0.0004 for MAE which means that we trained our model very well."
   ]
  },
  {
   "cell_type": "markdown",
   "metadata": {},
   "source": [
    "Moving into more complex models"
   ]
  },
  {
   "cell_type": "markdown",
   "metadata": {},
   "source": [
    "### Decision Tree Regression "
   ]
  },
  {
   "cell_type": "markdown",
   "metadata": {},
   "source": [
    "Decision tree regression observes features of an object and trains a model in the structure of a tree to predict data in the future to produce meaningful continuous output. "
   ]
  },
  {
   "cell_type": "code",
   "execution_count": 378,
   "metadata": {},
   "outputs": [],
   "source": [
    "#defining a new pipeline for the new regression\n",
    "from sklearn.pipeline import Pipeline\n",
    "from sklearn.preprocessing import StandardScaler\n",
    "from sklearn.impute import SimpleImputer\n",
    "\n",
    "num_pipeline = Pipeline([\n",
    "        ('imputer', SimpleImputer(strategy=\"median\")),\n",
    "        ('std_scaler', StandardScaler()),\n",
    "    ])\n",
    "pets_num_labels_dt = pets_num[\"AdoptionSpeed\"].copy() \n",
    "pets_num_tr_dt = num_pipeline.fit_transform(pets_num)"
   ]
  },
  {
   "cell_type": "code",
   "execution_count": 340,
   "metadata": {},
   "outputs": [
    {
     "data": {
      "text/plain": [
       "DecisionTreeRegressor(random_state=42)"
      ]
     },
     "execution_count": 340,
     "metadata": {},
     "output_type": "execute_result"
    }
   ],
   "source": [
    "from sklearn.tree import DecisionTreeRegressor\n",
    "\n",
    "tree_reg = DecisionTreeRegressor(random_state=42)\n",
    "tree_reg.fit(pets_num_tr_dt, pets_num_labels_dt)"
   ]
  },
  {
   "cell_type": "code",
   "execution_count": 342,
   "metadata": {},
   "outputs": [
    {
     "data": {
      "text/plain": [
       "0.0"
      ]
     },
     "execution_count": 342,
     "metadata": {},
     "output_type": "execute_result"
    }
   ],
   "source": [
    "pets_predictions = tree_reg.predict(pets_num_tr_dt)\n",
    "tree_mse = mean_squared_error(pets_num_labels_dt, pets_predictions)\n",
    "tree_rmse = np.sqrt(tree_mse)\n",
    "tree_rmse"
   ]
  },
  {
   "cell_type": "code",
   "execution_count": 343,
   "metadata": {},
   "outputs": [
    {
     "data": {
      "text/plain": [
       "0.0"
      ]
     },
     "execution_count": 343,
     "metadata": {},
     "output_type": "execute_result"
    }
   ],
   "source": [
    "from sklearn.metrics import mean_absolute_error\n",
    "\n",
    "tree_mae = mean_absolute_error(pets_num_labels_dt, pets_predictions)\n",
    "tree_mae"
   ]
  },
  {
   "cell_type": "markdown",
   "metadata": {},
   "source": [
    "We got 0 so it means that it's perfect. We're doing incredible!!"
   ]
  },
  {
   "cell_type": "code",
   "execution_count": 345,
   "metadata": {},
   "outputs": [],
   "source": [
    "from sklearn.model_selection import cross_val_score\n",
    "\n",
    "scores2 = cross_val_score(tree_reg, pets_num_tr_dt, pets_num_labels_dt,\n",
    "                         scoring=\"neg_mean_squared_error\", cv=10)\n",
    "tree_rmse_scores = np.sqrt(-scores2)"
   ]
  },
  {
   "cell_type": "code",
   "execution_count": 346,
   "metadata": {},
   "outputs": [
    {
     "name": "stdout",
     "output_type": "stream",
     "text": [
      "Scores: [0. 0. 0. 0. 0. 0. 0. 0. 0. 0.]\n",
      "Mean: 0.0\n",
      "Standard deviation: 0.0\n"
     ]
    }
   ],
   "source": [
    "def display_scores(scores):\n",
    "    print(\"Scores:\", scores)\n",
    "    print(\"Mean:\", scores.mean())\n",
    "    print(\"Standard deviation:\", scores.std())\n",
    "\n",
    "display_scores(tree_rmse_scores)"
   ]
  },
  {
   "cell_type": "markdown",
   "metadata": {},
   "source": [
    "### Random Forest Regression"
   ]
  },
  {
   "cell_type": "markdown",
   "metadata": {},
   "source": [
    "Random Forest Regression is a supervised learning algorithm that uses ensemble learning method for regression. Ensemble learning method is a technique that combines predictions from multiple machine learning algorithms to make a more accurate prediction than a single model."
   ]
  },
  {
   "cell_type": "code",
   "execution_count": 348,
   "metadata": {},
   "outputs": [],
   "source": [
    "from sklearn.pipeline import Pipeline\n",
    "from sklearn.preprocessing import StandardScaler\n",
    "from sklearn.impute import SimpleImputer\n",
    "\n",
    "num_pipeline = Pipeline([\n",
    "        ('imputer', SimpleImputer(strategy=\"median\")),\n",
    "        ('std_scaler', StandardScaler()),\n",
    "    ])\n",
    "pets_num_labels_rf = pets_num[\"AdoptionSpeed\"].copy() \n",
    "pets_num_tr_rf = num_pipeline.fit_transform(pets_num)"
   ]
  },
  {
   "cell_type": "code",
   "execution_count": 349,
   "metadata": {},
   "outputs": [
    {
     "data": {
      "text/plain": [
       "RandomForestRegressor(random_state=42)"
      ]
     },
     "execution_count": 349,
     "metadata": {},
     "output_type": "execute_result"
    }
   ],
   "source": [
    "from sklearn.ensemble import RandomForestRegressor\n",
    "\n",
    "forest_reg = RandomForestRegressor(n_estimators=100, random_state=42)\n",
    "forest_reg.fit(pets_num_tr_rf,pets_num_labels_rf)"
   ]
  },
  {
   "cell_type": "code",
   "execution_count": 351,
   "metadata": {},
   "outputs": [
    {
     "data": {
      "text/plain": [
       "0.0"
      ]
     },
     "execution_count": 351,
     "metadata": {},
     "output_type": "execute_result"
    }
   ],
   "source": [
    "pets_predictions_rf = forest_reg.predict(pets_num_tr_rf)\n",
    "forest_mse = mean_squared_error(pets_num_labels_rf, pets_predictions_rf)\n",
    "forest_rmse = np.sqrt(forest_mse)\n",
    "forest_rmse"
   ]
  },
  {
   "cell_type": "code",
   "execution_count": 352,
   "metadata": {},
   "outputs": [
    {
     "name": "stdout",
     "output_type": "stream",
     "text": [
      "Scores: [0. 0. 0. 0. 0. 0. 0. 0. 0. 0.]\n",
      "Mean: 0.0\n",
      "Standard deviation: 0.0\n"
     ]
    }
   ],
   "source": [
    "from sklearn.model_selection import cross_val_score\n",
    "\n",
    "forest_scores = cross_val_score(forest_reg,pets_num_tr_rf, pets_num_labels_rf,\n",
    "                                scoring=\"neg_mean_squared_error\", cv=10)\n",
    "forest_rmse_scores = np.sqrt(-forest_scores)\n",
    "display_scores(forest_rmse_scores)"
   ]
  },
  {
   "cell_type": "markdown",
   "metadata": {},
   "source": [
    "## Fine tune your model"
   ]
  },
  {
   "cell_type": "markdown",
   "metadata": {
    "tags": []
   },
   "source": [
    "### Grid search"
   ]
  },
  {
   "cell_type": "markdown",
   "metadata": {},
   "source": [
    "Grid-search is used to find the optimal hyperparameters of a model which results in the most ‘accurate’ predictions."
   ]
  },
  {
   "cell_type": "markdown",
   "metadata": {},
   "source": [
    "Hyperparameters are parameters whose values control the learning process and determine the values of model parameters that a learning algorithm ends up learning. "
   ]
  },
  {
   "cell_type": "code",
   "execution_count": 358,
   "metadata": {},
   "outputs": [
    {
     "data": {
      "text/plain": [
       "GridSearchCV(cv=5, estimator=RandomForestRegressor(random_state=42),\n",
       "             param_grid=[{'max_features': [2, 4, 6, 8],\n",
       "                          'n_estimators': [3, 10, 30]},\n",
       "                         {'bootstrap': [False], 'max_features': [2, 3, 4],\n",
       "                          'n_estimators': [3, 10]}],\n",
       "             return_train_score=True, scoring='neg_mean_squared_error')"
      ]
     },
     "execution_count": 358,
     "metadata": {},
     "output_type": "execute_result"
    }
   ],
   "source": [
    "from sklearn.model_selection import GridSearchCV\n",
    "\n",
    "param_grid = [\n",
    "    # try 12 (3×4) combinations of hyperparameters\n",
    "    {'n_estimators': [3, 10, 30], 'max_features': [2, 4, 6, 8]},\n",
    "    # then try 6 (2×3) combinations with bootstrap set as False\n",
    "    {'bootstrap': [False], 'n_estimators': [3, 10], 'max_features': [2, 3, 4]},\n",
    "  ]\n",
    "\n",
    "forest_reg = RandomForestRegressor(random_state=42)\n",
    "# train across 5 folds, that's a total of (12+6)*5=90 rounds of training \n",
    "grid_search = GridSearchCV(forest_reg, param_grid, cv=5,\n",
    "                           scoring='neg_mean_squared_error',\n",
    "                           return_train_score=True)\n",
    "grid_search.fit(pets_num_tr, pets_num_labels)"
   ]
  },
  {
   "cell_type": "markdown",
   "metadata": {},
   "source": [
    "The best hyperparameter combination found:"
   ]
  },
  {
   "cell_type": "code",
   "execution_count": 359,
   "metadata": {},
   "outputs": [
    {
     "data": {
      "text/plain": [
       "RandomForestRegressor(max_features=8, n_estimators=30, random_state=42)"
      ]
     },
     "execution_count": 359,
     "metadata": {},
     "output_type": "execute_result"
    }
   ],
   "source": [
    "grid_search.best_params_\n",
    "grid_search.best_estimator_"
   ]
  },
  {
   "cell_type": "markdown",
   "metadata": {},
   "source": [
    "Let's look at the score of each hyperparameter combination tested during the grid search:"
   ]
  },
  {
   "cell_type": "markdown",
   "metadata": {},
   "source": [
    "cvres = grid_search.cv_results_\n",
    "for mean_score, params in zip(cvres[\"mean_test_score\"], cvres[\"params\"]):\n",
    "    print(np.sqrt(-mean_score), params)"
   ]
  },
  {
   "cell_type": "code",
   "execution_count": 362,
   "metadata": {
    "collapsed": true,
    "jupyter": {
     "outputs_hidden": true
    },
    "tags": []
   },
   "outputs": [
    {
     "data": {
      "text/html": [
       "<div>\n",
       "<style scoped>\n",
       "    .dataframe tbody tr th:only-of-type {\n",
       "        vertical-align: middle;\n",
       "    }\n",
       "\n",
       "    .dataframe tbody tr th {\n",
       "        vertical-align: top;\n",
       "    }\n",
       "\n",
       "    .dataframe thead th {\n",
       "        text-align: right;\n",
       "    }\n",
       "</style>\n",
       "<table border=\"1\" class=\"dataframe\">\n",
       "  <thead>\n",
       "    <tr style=\"text-align: right;\">\n",
       "      <th></th>\n",
       "      <th>mean_fit_time</th>\n",
       "      <th>std_fit_time</th>\n",
       "      <th>mean_score_time</th>\n",
       "      <th>std_score_time</th>\n",
       "      <th>param_max_features</th>\n",
       "      <th>param_n_estimators</th>\n",
       "      <th>param_bootstrap</th>\n",
       "      <th>params</th>\n",
       "      <th>split0_test_score</th>\n",
       "      <th>split1_test_score</th>\n",
       "      <th>...</th>\n",
       "      <th>mean_test_score</th>\n",
       "      <th>std_test_score</th>\n",
       "      <th>rank_test_score</th>\n",
       "      <th>split0_train_score</th>\n",
       "      <th>split1_train_score</th>\n",
       "      <th>split2_train_score</th>\n",
       "      <th>split3_train_score</th>\n",
       "      <th>split4_train_score</th>\n",
       "      <th>mean_train_score</th>\n",
       "      <th>std_train_score</th>\n",
       "    </tr>\n",
       "  </thead>\n",
       "  <tbody>\n",
       "    <tr>\n",
       "      <th>0</th>\n",
       "      <td>0.022116</td>\n",
       "      <td>0.004204</td>\n",
       "      <td>0.002212</td>\n",
       "      <td>3.946142e-04</td>\n",
       "      <td>2</td>\n",
       "      <td>3</td>\n",
       "      <td>NaN</td>\n",
       "      <td>{'max_features': 2, 'n_estimators': 3}</td>\n",
       "      <td>-0.267612</td>\n",
       "      <td>-0.336112</td>\n",
       "      <td>...</td>\n",
       "      <td>-0.254994</td>\n",
       "      <td>0.070965</td>\n",
       "      <td>18</td>\n",
       "      <td>-0.084442</td>\n",
       "      <td>-0.093521</td>\n",
       "      <td>-0.049204</td>\n",
       "      <td>-0.057750</td>\n",
       "      <td>-0.095989</td>\n",
       "      <td>-0.076181</td>\n",
       "      <td>0.019125</td>\n",
       "    </tr>\n",
       "    <tr>\n",
       "      <th>1</th>\n",
       "      <td>0.055588</td>\n",
       "      <td>0.002496</td>\n",
       "      <td>0.005060</td>\n",
       "      <td>1.638750e-04</td>\n",
       "      <td>2</td>\n",
       "      <td>10</td>\n",
       "      <td>NaN</td>\n",
       "      <td>{'max_features': 2, 'n_estimators': 10}</td>\n",
       "      <td>-0.174831</td>\n",
       "      <td>-0.141034</td>\n",
       "      <td>...</td>\n",
       "      <td>-0.158243</td>\n",
       "      <td>0.012414</td>\n",
       "      <td>16</td>\n",
       "      <td>-0.039546</td>\n",
       "      <td>-0.032387</td>\n",
       "      <td>-0.037082</td>\n",
       "      <td>-0.032822</td>\n",
       "      <td>-0.038119</td>\n",
       "      <td>-0.035991</td>\n",
       "      <td>0.002877</td>\n",
       "    </tr>\n",
       "    <tr>\n",
       "      <th>2</th>\n",
       "      <td>0.177907</td>\n",
       "      <td>0.011288</td>\n",
       "      <td>0.015501</td>\n",
       "      <td>2.485758e-03</td>\n",
       "      <td>2</td>\n",
       "      <td>30</td>\n",
       "      <td>NaN</td>\n",
       "      <td>{'max_features': 2, 'n_estimators': 30}</td>\n",
       "      <td>-0.128790</td>\n",
       "      <td>-0.142419</td>\n",
       "      <td>...</td>\n",
       "      <td>-0.138120</td>\n",
       "      <td>0.004957</td>\n",
       "      <td>14</td>\n",
       "      <td>-0.022511</td>\n",
       "      <td>-0.023496</td>\n",
       "      <td>-0.024880</td>\n",
       "      <td>-0.023526</td>\n",
       "      <td>-0.023836</td>\n",
       "      <td>-0.023650</td>\n",
       "      <td>0.000760</td>\n",
       "    </tr>\n",
       "    <tr>\n",
       "      <th>3</th>\n",
       "      <td>0.021735</td>\n",
       "      <td>0.001045</td>\n",
       "      <td>0.002283</td>\n",
       "      <td>3.781858e-04</td>\n",
       "      <td>4</td>\n",
       "      <td>3</td>\n",
       "      <td>NaN</td>\n",
       "      <td>{'max_features': 4, 'n_estimators': 3}</td>\n",
       "      <td>-0.083739</td>\n",
       "      <td>-0.186652</td>\n",
       "      <td>...</td>\n",
       "      <td>-0.096368</td>\n",
       "      <td>0.049401</td>\n",
       "      <td>13</td>\n",
       "      <td>-0.026159</td>\n",
       "      <td>-0.056499</td>\n",
       "      <td>-0.032320</td>\n",
       "      <td>-0.019871</td>\n",
       "      <td>-0.016315</td>\n",
       "      <td>-0.030233</td>\n",
       "      <td>0.014226</td>\n",
       "    </tr>\n",
       "    <tr>\n",
       "      <th>4</th>\n",
       "      <td>0.066385</td>\n",
       "      <td>0.015905</td>\n",
       "      <td>0.003987</td>\n",
       "      <td>6.292497e-04</td>\n",
       "      <td>4</td>\n",
       "      <td>10</td>\n",
       "      <td>NaN</td>\n",
       "      <td>{'max_features': 4, 'n_estimators': 10}</td>\n",
       "      <td>-0.034631</td>\n",
       "      <td>-0.041388</td>\n",
       "      <td>...</td>\n",
       "      <td>-0.033665</td>\n",
       "      <td>0.008241</td>\n",
       "      <td>9</td>\n",
       "      <td>-0.009488</td>\n",
       "      <td>-0.010050</td>\n",
       "      <td>-0.010935</td>\n",
       "      <td>-0.007087</td>\n",
       "      <td>-0.006157</td>\n",
       "      <td>-0.008743</td>\n",
       "      <td>0.001817</td>\n",
       "    </tr>\n",
       "    <tr>\n",
       "      <th>5</th>\n",
       "      <td>0.188876</td>\n",
       "      <td>0.017894</td>\n",
       "      <td>0.011964</td>\n",
       "      <td>2.112253e-03</td>\n",
       "      <td>4</td>\n",
       "      <td>30</td>\n",
       "      <td>NaN</td>\n",
       "      <td>{'max_features': 4, 'n_estimators': 30}</td>\n",
       "      <td>-0.026991</td>\n",
       "      <td>-0.032839</td>\n",
       "      <td>...</td>\n",
       "      <td>-0.026227</td>\n",
       "      <td>0.004029</td>\n",
       "      <td>7</td>\n",
       "      <td>-0.005567</td>\n",
       "      <td>-0.005909</td>\n",
       "      <td>-0.005347</td>\n",
       "      <td>-0.004286</td>\n",
       "      <td>-0.004400</td>\n",
       "      <td>-0.005102</td>\n",
       "      <td>0.000646</td>\n",
       "    </tr>\n",
       "    <tr>\n",
       "      <th>6</th>\n",
       "      <td>0.018316</td>\n",
       "      <td>0.000805</td>\n",
       "      <td>0.001594</td>\n",
       "      <td>4.881135e-04</td>\n",
       "      <td>6</td>\n",
       "      <td>3</td>\n",
       "      <td>NaN</td>\n",
       "      <td>{'max_features': 6, 'n_estimators': 3}</td>\n",
       "      <td>-0.011810</td>\n",
       "      <td>-0.019730</td>\n",
       "      <td>...</td>\n",
       "      <td>-0.018232</td>\n",
       "      <td>0.005501</td>\n",
       "      <td>6</td>\n",
       "      <td>-0.004273</td>\n",
       "      <td>-0.005778</td>\n",
       "      <td>-0.004840</td>\n",
       "      <td>-0.006288</td>\n",
       "      <td>-0.008464</td>\n",
       "      <td>-0.005929</td>\n",
       "      <td>0.001450</td>\n",
       "    </tr>\n",
       "    <tr>\n",
       "      <th>7</th>\n",
       "      <td>0.053866</td>\n",
       "      <td>0.004484</td>\n",
       "      <td>0.003505</td>\n",
       "      <td>6.658789e-04</td>\n",
       "      <td>6</td>\n",
       "      <td>10</td>\n",
       "      <td>NaN</td>\n",
       "      <td>{'max_features': 6, 'n_estimators': 10}</td>\n",
       "      <td>-0.008850</td>\n",
       "      <td>-0.010546</td>\n",
       "      <td>...</td>\n",
       "      <td>-0.010902</td>\n",
       "      <td>0.001924</td>\n",
       "      <td>5</td>\n",
       "      <td>-0.002787</td>\n",
       "      <td>-0.002817</td>\n",
       "      <td>-0.002990</td>\n",
       "      <td>-0.003685</td>\n",
       "      <td>-0.003640</td>\n",
       "      <td>-0.003184</td>\n",
       "      <td>0.000397</td>\n",
       "    </tr>\n",
       "    <tr>\n",
       "      <th>8</th>\n",
       "      <td>0.178133</td>\n",
       "      <td>0.015577</td>\n",
       "      <td>0.009377</td>\n",
       "      <td>1.675590e-03</td>\n",
       "      <td>6</td>\n",
       "      <td>30</td>\n",
       "      <td>NaN</td>\n",
       "      <td>{'max_features': 6, 'n_estimators': 30}</td>\n",
       "      <td>-0.006432</td>\n",
       "      <td>-0.005979</td>\n",
       "      <td>...</td>\n",
       "      <td>-0.006147</td>\n",
       "      <td>0.000240</td>\n",
       "      <td>3</td>\n",
       "      <td>-0.001513</td>\n",
       "      <td>-0.001195</td>\n",
       "      <td>-0.001363</td>\n",
       "      <td>-0.001422</td>\n",
       "      <td>-0.001503</td>\n",
       "      <td>-0.001399</td>\n",
       "      <td>0.000116</td>\n",
       "    </tr>\n",
       "    <tr>\n",
       "      <th>9</th>\n",
       "      <td>0.023863</td>\n",
       "      <td>0.001395</td>\n",
       "      <td>0.002088</td>\n",
       "      <td>5.093748e-04</td>\n",
       "      <td>8</td>\n",
       "      <td>3</td>\n",
       "      <td>NaN</td>\n",
       "      <td>{'max_features': 8, 'n_estimators': 3}</td>\n",
       "      <td>-0.007642</td>\n",
       "      <td>-0.014821</td>\n",
       "      <td>...</td>\n",
       "      <td>-0.007726</td>\n",
       "      <td>0.004125</td>\n",
       "      <td>4</td>\n",
       "      <td>-0.002710</td>\n",
       "      <td>-0.005199</td>\n",
       "      <td>-0.002316</td>\n",
       "      <td>-0.001876</td>\n",
       "      <td>-0.000996</td>\n",
       "      <td>-0.002619</td>\n",
       "      <td>0.001410</td>\n",
       "    </tr>\n",
       "    <tr>\n",
       "      <th>10</th>\n",
       "      <td>0.063364</td>\n",
       "      <td>0.002179</td>\n",
       "      <td>0.003395</td>\n",
       "      <td>5.623021e-04</td>\n",
       "      <td>8</td>\n",
       "      <td>10</td>\n",
       "      <td>NaN</td>\n",
       "      <td>{'max_features': 8, 'n_estimators': 10}</td>\n",
       "      <td>-0.002655</td>\n",
       "      <td>-0.004902</td>\n",
       "      <td>...</td>\n",
       "      <td>-0.003231</td>\n",
       "      <td>0.001074</td>\n",
       "      <td>2</td>\n",
       "      <td>-0.000878</td>\n",
       "      <td>-0.001407</td>\n",
       "      <td>-0.000991</td>\n",
       "      <td>-0.000904</td>\n",
       "      <td>-0.000470</td>\n",
       "      <td>-0.000930</td>\n",
       "      <td>0.000299</td>\n",
       "    </tr>\n",
       "    <tr>\n",
       "      <th>11</th>\n",
       "      <td>0.187143</td>\n",
       "      <td>0.026739</td>\n",
       "      <td>0.008094</td>\n",
       "      <td>1.908125e-03</td>\n",
       "      <td>8</td>\n",
       "      <td>30</td>\n",
       "      <td>NaN</td>\n",
       "      <td>{'max_features': 8, 'n_estimators': 30}</td>\n",
       "      <td>-0.001124</td>\n",
       "      <td>-0.001964</td>\n",
       "      <td>...</td>\n",
       "      <td>-0.001537</td>\n",
       "      <td>0.000356</td>\n",
       "      <td>1</td>\n",
       "      <td>-0.000314</td>\n",
       "      <td>-0.000443</td>\n",
       "      <td>-0.000433</td>\n",
       "      <td>-0.000397</td>\n",
       "      <td>-0.000289</td>\n",
       "      <td>-0.000375</td>\n",
       "      <td>0.000063</td>\n",
       "    </tr>\n",
       "    <tr>\n",
       "      <th>12</th>\n",
       "      <td>0.034925</td>\n",
       "      <td>0.004014</td>\n",
       "      <td>0.002527</td>\n",
       "      <td>7.752141e-04</td>\n",
       "      <td>2</td>\n",
       "      <td>3</td>\n",
       "      <td>False</td>\n",
       "      <td>{'bootstrap': False, 'max_features': 2, 'n_est...</td>\n",
       "      <td>-0.240656</td>\n",
       "      <td>-0.241999</td>\n",
       "      <td>...</td>\n",
       "      <td>-0.233813</td>\n",
       "      <td>0.015615</td>\n",
       "      <td>17</td>\n",
       "      <td>-0.000000</td>\n",
       "      <td>-0.000000</td>\n",
       "      <td>-0.000000</td>\n",
       "      <td>-0.000000</td>\n",
       "      <td>-0.000000</td>\n",
       "      <td>0.000000</td>\n",
       "      <td>0.000000</td>\n",
       "    </tr>\n",
       "    <tr>\n",
       "      <th>13</th>\n",
       "      <td>0.080810</td>\n",
       "      <td>0.005556</td>\n",
       "      <td>0.005981</td>\n",
       "      <td>1.251036e-03</td>\n",
       "      <td>2</td>\n",
       "      <td>10</td>\n",
       "      <td>False</td>\n",
       "      <td>{'bootstrap': False, 'max_features': 2, 'n_est...</td>\n",
       "      <td>-0.116628</td>\n",
       "      <td>-0.132601</td>\n",
       "      <td>...</td>\n",
       "      <td>-0.138154</td>\n",
       "      <td>0.019536</td>\n",
       "      <td>15</td>\n",
       "      <td>-0.000000</td>\n",
       "      <td>-0.000000</td>\n",
       "      <td>-0.000000</td>\n",
       "      <td>-0.000000</td>\n",
       "      <td>-0.000000</td>\n",
       "      <td>0.000000</td>\n",
       "      <td>0.000000</td>\n",
       "    </tr>\n",
       "    <tr>\n",
       "      <th>14</th>\n",
       "      <td>0.018542</td>\n",
       "      <td>0.001845</td>\n",
       "      <td>0.001794</td>\n",
       "      <td>3.986837e-04</td>\n",
       "      <td>3</td>\n",
       "      <td>3</td>\n",
       "      <td>False</td>\n",
       "      <td>{'bootstrap': False, 'max_features': 3, 'n_est...</td>\n",
       "      <td>-0.042842</td>\n",
       "      <td>-0.027419</td>\n",
       "      <td>...</td>\n",
       "      <td>-0.048711</td>\n",
       "      <td>0.014970</td>\n",
       "      <td>11</td>\n",
       "      <td>-0.000000</td>\n",
       "      <td>-0.000000</td>\n",
       "      <td>-0.000000</td>\n",
       "      <td>-0.000000</td>\n",
       "      <td>-0.000000</td>\n",
       "      <td>0.000000</td>\n",
       "      <td>0.000000</td>\n",
       "    </tr>\n",
       "    <tr>\n",
       "      <th>15</th>\n",
       "      <td>0.067612</td>\n",
       "      <td>0.002476</td>\n",
       "      <td>0.004929</td>\n",
       "      <td>1.042419e-04</td>\n",
       "      <td>3</td>\n",
       "      <td>10</td>\n",
       "      <td>False</td>\n",
       "      <td>{'bootstrap': False, 'max_features': 3, 'n_est...</td>\n",
       "      <td>-0.037499</td>\n",
       "      <td>-0.040959</td>\n",
       "      <td>...</td>\n",
       "      <td>-0.047716</td>\n",
       "      <td>0.007441</td>\n",
       "      <td>10</td>\n",
       "      <td>-0.000000</td>\n",
       "      <td>-0.000000</td>\n",
       "      <td>-0.000000</td>\n",
       "      <td>-0.000000</td>\n",
       "      <td>-0.000000</td>\n",
       "      <td>0.000000</td>\n",
       "      <td>0.000000</td>\n",
       "    </tr>\n",
       "    <tr>\n",
       "      <th>16</th>\n",
       "      <td>0.024350</td>\n",
       "      <td>0.001613</td>\n",
       "      <td>0.001994</td>\n",
       "      <td>2.336015e-07</td>\n",
       "      <td>4</td>\n",
       "      <td>3</td>\n",
       "      <td>False</td>\n",
       "      <td>{'bootstrap': False, 'max_features': 4, 'n_est...</td>\n",
       "      <td>-0.086425</td>\n",
       "      <td>-0.104071</td>\n",
       "      <td>...</td>\n",
       "      <td>-0.086972</td>\n",
       "      <td>0.022047</td>\n",
       "      <td>12</td>\n",
       "      <td>-0.000000</td>\n",
       "      <td>-0.000000</td>\n",
       "      <td>-0.000000</td>\n",
       "      <td>-0.000000</td>\n",
       "      <td>-0.000000</td>\n",
       "      <td>0.000000</td>\n",
       "      <td>0.000000</td>\n",
       "    </tr>\n",
       "    <tr>\n",
       "      <th>17</th>\n",
       "      <td>0.072653</td>\n",
       "      <td>0.004070</td>\n",
       "      <td>0.004000</td>\n",
       "      <td>1.581634e-05</td>\n",
       "      <td>4</td>\n",
       "      <td>10</td>\n",
       "      <td>False</td>\n",
       "      <td>{'bootstrap': False, 'max_features': 4, 'n_est...</td>\n",
       "      <td>-0.021401</td>\n",
       "      <td>-0.039525</td>\n",
       "      <td>...</td>\n",
       "      <td>-0.028634</td>\n",
       "      <td>0.007453</td>\n",
       "      <td>8</td>\n",
       "      <td>-0.000000</td>\n",
       "      <td>-0.000000</td>\n",
       "      <td>-0.000000</td>\n",
       "      <td>-0.000000</td>\n",
       "      <td>-0.000000</td>\n",
       "      <td>0.000000</td>\n",
       "      <td>0.000000</td>\n",
       "    </tr>\n",
       "  </tbody>\n",
       "</table>\n",
       "<p>18 rows × 23 columns</p>\n",
       "</div>"
      ],
      "text/plain": [
       "    mean_fit_time  std_fit_time  mean_score_time  std_score_time  \\\n",
       "0        0.022116      0.004204         0.002212    3.946142e-04   \n",
       "1        0.055588      0.002496         0.005060    1.638750e-04   \n",
       "2        0.177907      0.011288         0.015501    2.485758e-03   \n",
       "3        0.021735      0.001045         0.002283    3.781858e-04   \n",
       "4        0.066385      0.015905         0.003987    6.292497e-04   \n",
       "5        0.188876      0.017894         0.011964    2.112253e-03   \n",
       "6        0.018316      0.000805         0.001594    4.881135e-04   \n",
       "7        0.053866      0.004484         0.003505    6.658789e-04   \n",
       "8        0.178133      0.015577         0.009377    1.675590e-03   \n",
       "9        0.023863      0.001395         0.002088    5.093748e-04   \n",
       "10       0.063364      0.002179         0.003395    5.623021e-04   \n",
       "11       0.187143      0.026739         0.008094    1.908125e-03   \n",
       "12       0.034925      0.004014         0.002527    7.752141e-04   \n",
       "13       0.080810      0.005556         0.005981    1.251036e-03   \n",
       "14       0.018542      0.001845         0.001794    3.986837e-04   \n",
       "15       0.067612      0.002476         0.004929    1.042419e-04   \n",
       "16       0.024350      0.001613         0.001994    2.336015e-07   \n",
       "17       0.072653      0.004070         0.004000    1.581634e-05   \n",
       "\n",
       "   param_max_features param_n_estimators param_bootstrap  \\\n",
       "0                   2                  3             NaN   \n",
       "1                   2                 10             NaN   \n",
       "2                   2                 30             NaN   \n",
       "3                   4                  3             NaN   \n",
       "4                   4                 10             NaN   \n",
       "5                   4                 30             NaN   \n",
       "6                   6                  3             NaN   \n",
       "7                   6                 10             NaN   \n",
       "8                   6                 30             NaN   \n",
       "9                   8                  3             NaN   \n",
       "10                  8                 10             NaN   \n",
       "11                  8                 30             NaN   \n",
       "12                  2                  3           False   \n",
       "13                  2                 10           False   \n",
       "14                  3                  3           False   \n",
       "15                  3                 10           False   \n",
       "16                  4                  3           False   \n",
       "17                  4                 10           False   \n",
       "\n",
       "                                               params  split0_test_score  \\\n",
       "0              {'max_features': 2, 'n_estimators': 3}          -0.267612   \n",
       "1             {'max_features': 2, 'n_estimators': 10}          -0.174831   \n",
       "2             {'max_features': 2, 'n_estimators': 30}          -0.128790   \n",
       "3              {'max_features': 4, 'n_estimators': 3}          -0.083739   \n",
       "4             {'max_features': 4, 'n_estimators': 10}          -0.034631   \n",
       "5             {'max_features': 4, 'n_estimators': 30}          -0.026991   \n",
       "6              {'max_features': 6, 'n_estimators': 3}          -0.011810   \n",
       "7             {'max_features': 6, 'n_estimators': 10}          -0.008850   \n",
       "8             {'max_features': 6, 'n_estimators': 30}          -0.006432   \n",
       "9              {'max_features': 8, 'n_estimators': 3}          -0.007642   \n",
       "10            {'max_features': 8, 'n_estimators': 10}          -0.002655   \n",
       "11            {'max_features': 8, 'n_estimators': 30}          -0.001124   \n",
       "12  {'bootstrap': False, 'max_features': 2, 'n_est...          -0.240656   \n",
       "13  {'bootstrap': False, 'max_features': 2, 'n_est...          -0.116628   \n",
       "14  {'bootstrap': False, 'max_features': 3, 'n_est...          -0.042842   \n",
       "15  {'bootstrap': False, 'max_features': 3, 'n_est...          -0.037499   \n",
       "16  {'bootstrap': False, 'max_features': 4, 'n_est...          -0.086425   \n",
       "17  {'bootstrap': False, 'max_features': 4, 'n_est...          -0.021401   \n",
       "\n",
       "    split1_test_score  ...  mean_test_score  std_test_score  rank_test_score  \\\n",
       "0           -0.336112  ...        -0.254994        0.070965               18   \n",
       "1           -0.141034  ...        -0.158243        0.012414               16   \n",
       "2           -0.142419  ...        -0.138120        0.004957               14   \n",
       "3           -0.186652  ...        -0.096368        0.049401               13   \n",
       "4           -0.041388  ...        -0.033665        0.008241                9   \n",
       "5           -0.032839  ...        -0.026227        0.004029                7   \n",
       "6           -0.019730  ...        -0.018232        0.005501                6   \n",
       "7           -0.010546  ...        -0.010902        0.001924                5   \n",
       "8           -0.005979  ...        -0.006147        0.000240                3   \n",
       "9           -0.014821  ...        -0.007726        0.004125                4   \n",
       "10          -0.004902  ...        -0.003231        0.001074                2   \n",
       "11          -0.001964  ...        -0.001537        0.000356                1   \n",
       "12          -0.241999  ...        -0.233813        0.015615               17   \n",
       "13          -0.132601  ...        -0.138154        0.019536               15   \n",
       "14          -0.027419  ...        -0.048711        0.014970               11   \n",
       "15          -0.040959  ...        -0.047716        0.007441               10   \n",
       "16          -0.104071  ...        -0.086972        0.022047               12   \n",
       "17          -0.039525  ...        -0.028634        0.007453                8   \n",
       "\n",
       "    split0_train_score  split1_train_score  split2_train_score  \\\n",
       "0            -0.084442           -0.093521           -0.049204   \n",
       "1            -0.039546           -0.032387           -0.037082   \n",
       "2            -0.022511           -0.023496           -0.024880   \n",
       "3            -0.026159           -0.056499           -0.032320   \n",
       "4            -0.009488           -0.010050           -0.010935   \n",
       "5            -0.005567           -0.005909           -0.005347   \n",
       "6            -0.004273           -0.005778           -0.004840   \n",
       "7            -0.002787           -0.002817           -0.002990   \n",
       "8            -0.001513           -0.001195           -0.001363   \n",
       "9            -0.002710           -0.005199           -0.002316   \n",
       "10           -0.000878           -0.001407           -0.000991   \n",
       "11           -0.000314           -0.000443           -0.000433   \n",
       "12           -0.000000           -0.000000           -0.000000   \n",
       "13           -0.000000           -0.000000           -0.000000   \n",
       "14           -0.000000           -0.000000           -0.000000   \n",
       "15           -0.000000           -0.000000           -0.000000   \n",
       "16           -0.000000           -0.000000           -0.000000   \n",
       "17           -0.000000           -0.000000           -0.000000   \n",
       "\n",
       "    split3_train_score  split4_train_score  mean_train_score  std_train_score  \n",
       "0            -0.057750           -0.095989         -0.076181         0.019125  \n",
       "1            -0.032822           -0.038119         -0.035991         0.002877  \n",
       "2            -0.023526           -0.023836         -0.023650         0.000760  \n",
       "3            -0.019871           -0.016315         -0.030233         0.014226  \n",
       "4            -0.007087           -0.006157         -0.008743         0.001817  \n",
       "5            -0.004286           -0.004400         -0.005102         0.000646  \n",
       "6            -0.006288           -0.008464         -0.005929         0.001450  \n",
       "7            -0.003685           -0.003640         -0.003184         0.000397  \n",
       "8            -0.001422           -0.001503         -0.001399         0.000116  \n",
       "9            -0.001876           -0.000996         -0.002619         0.001410  \n",
       "10           -0.000904           -0.000470         -0.000930         0.000299  \n",
       "11           -0.000397           -0.000289         -0.000375         0.000063  \n",
       "12           -0.000000           -0.000000          0.000000         0.000000  \n",
       "13           -0.000000           -0.000000          0.000000         0.000000  \n",
       "14           -0.000000           -0.000000          0.000000         0.000000  \n",
       "15           -0.000000           -0.000000          0.000000         0.000000  \n",
       "16           -0.000000           -0.000000          0.000000         0.000000  \n",
       "17           -0.000000           -0.000000          0.000000         0.000000  \n",
       "\n",
       "[18 rows x 23 columns]"
      ]
     },
     "execution_count": 362,
     "metadata": {},
     "output_type": "execute_result"
    }
   ],
   "source": [
    "pd.DataFrame(grid_search.cv_results_)"
   ]
  },
  {
   "cell_type": "markdown",
   "metadata": {},
   "source": [
    "### Randomized Search"
   ]
  },
  {
   "cell_type": "markdown",
   "metadata": {},
   "source": [
    "Random search is a method in which random combinations of hyperparameters are selected and used to train a model. The best random hyperparameter combinations are used. "
   ]
  },
  {
   "cell_type": "code",
   "execution_count": 363,
   "metadata": {},
   "outputs": [
    {
     "data": {
      "text/plain": [
       "RandomizedSearchCV(cv=5, estimator=RandomForestRegressor(random_state=42),\n",
       "                   param_distributions={'max_features': <scipy.stats._distn_infrastructure.rv_frozen object at 0x000001E9822737F0>,\n",
       "                                        'n_estimators': <scipy.stats._distn_infrastructure.rv_frozen object at 0x000001E9822720B0>},\n",
       "                   random_state=42, scoring='neg_mean_squared_error')"
      ]
     },
     "execution_count": 363,
     "metadata": {},
     "output_type": "execute_result"
    }
   ],
   "source": [
    "from sklearn.model_selection import RandomizedSearchCV\n",
    "from scipy.stats import randint\n",
    "\n",
    "param_distribs = {\n",
    "        'n_estimators': randint(low=1, high=200),\n",
    "        'max_features': randint(low=1, high=8),\n",
    "    }\n",
    "\n",
    "forest_reg = RandomForestRegressor(random_state=42)\n",
    "rnd_search = RandomizedSearchCV(forest_reg, param_distributions=param_distribs,\n",
    "                                n_iter=10, cv=5, scoring='neg_mean_squared_error', random_state=42)\n",
    "rnd_search.fit(pets_num_tr, pets_num_labels)"
   ]
  },
  {
   "cell_type": "code",
   "execution_count": 364,
   "metadata": {},
   "outputs": [
    {
     "name": "stdout",
     "output_type": "stream",
     "text": [
      "0.04395935247425862 {'max_features': 7, 'n_estimators': 180}\n",
      "0.13125147237638135 {'max_features': 5, 'n_estimators': 15}\n",
      "0.22110157532293195 {'max_features': 3, 'n_estimators': 72}\n",
      "0.12640070263798947 {'max_features': 5, 'n_estimators': 21}\n",
      "0.04466416473802224 {'max_features': 7, 'n_estimators': 122}\n",
      "0.22274371669156917 {'max_features': 3, 'n_estimators': 75}\n",
      "0.22328316135880322 {'max_features': 3, 'n_estimators': 88}\n",
      "0.10147405573828534 {'max_features': 5, 'n_estimators': 100}\n",
      "0.21886376855304643 {'max_features': 3, 'n_estimators': 150}\n",
      "0.31657014963228547 {'max_features': 5, 'n_estimators': 2}\n"
     ]
    }
   ],
   "source": [
    "cvres = rnd_search.cv_results_\n",
    "for mean_score, params in zip(cvres[\"mean_test_score\"], cvres[\"params\"]):\n",
    "    print(np.sqrt(-mean_score), params)"
   ]
  },
  {
   "cell_type": "markdown",
   "metadata": {},
   "source": [
    "## Analyze the best models and their errors"
   ]
  },
  {
   "cell_type": "code",
   "execution_count": 366,
   "metadata": {},
   "outputs": [
    {
     "data": {
      "text/plain": [
       "array([9.47950144e-04, 3.29593124e-04, 1.75930581e-02, 1.24818803e-02,\n",
       "       1.34552478e-03, 1.17219715e-03, 1.08293206e-03, 8.53604649e-04,\n",
       "       3.85064175e-04, 1.66272929e-03, 1.79977105e-03, 1.32626915e-03,\n",
       "       5.99342916e-04, 9.69584016e-03, 2.72597672e-04, 2.52477356e-03,\n",
       "       8.90023605e-04, 1.20011894e-03, 2.64785220e-04, 3.97065185e-03,\n",
       "       9.39601292e-01])"
      ]
     },
     "execution_count": 366,
     "metadata": {},
     "output_type": "execute_result"
    }
   ],
   "source": [
    "feature_importances = grid_search.best_estimator_.feature_importances_\n",
    "feature_importances"
   ]
  },
  {
   "cell_type": "markdown",
   "metadata": {},
   "source": [
    "## Evaluate your system on the test set"
   ]
  },
  {
   "cell_type": "code",
   "execution_count": 374,
   "metadata": {},
   "outputs": [
    {
     "data": {
      "text/plain": [
       "0.03868843791159029"
      ]
     },
     "execution_count": 374,
     "metadata": {},
     "output_type": "execute_result"
    }
   ],
   "source": [
    "from sklearn.pipeline import Pipeline\n",
    "final_model = grid_search.best_estimator_\n",
    "\n",
    "X_test = pets_num_test\n",
    "y_test  = strat_test_set[\"AdoptionSpeed\"].copy()\n",
    "\n",
    "X_test_prepared = num_pipeline.transform(X_test)\n",
    "final_predictions = final_model.predict(X_test_prepared)\n",
    "\n",
    "final_mse = mean_squared_error(y_test, final_predictions)\n",
    "final_rmse = np.sqrt(final_mse)\n",
    "\n",
    "final_rmse"
   ]
  },
  {
   "cell_type": "code",
   "execution_count": 375,
   "metadata": {},
   "outputs": [
    {
     "data": {
      "text/plain": [
       "array([0.03508578, 0.04198307])"
      ]
     },
     "execution_count": 375,
     "metadata": {},
     "output_type": "execute_result"
    }
   ],
   "source": [
    "from scipy import stats\n",
    "\n",
    "confidence = 0.95\n",
    "squared_errors = (final_predictions - y_test) ** 2\n",
    "np.sqrt(stats.t.interval(confidence, len(squared_errors) - 1,\n",
    "                         loc=squared_errors.mean(),\n",
    "                         scale=stats.sem(squared_errors)))"
   ]
  },
  {
   "cell_type": "markdown",
   "metadata": {},
   "source": [
    "We could compute the interval manually like this:"
   ]
  },
  {
   "cell_type": "code",
   "execution_count": 379,
   "metadata": {},
   "outputs": [
    {
     "data": {
      "text/plain": [
       "(0.035085784567137984, 0.041983070128163984)"
      ]
     },
     "execution_count": 379,
     "metadata": {},
     "output_type": "execute_result"
    }
   ],
   "source": [
    "m = len(squared_errors)\n",
    "mean = squared_errors.mean()\n",
    "tscore = stats.t.ppf((1 + confidence) / 2, df=m - 1)\n",
    "tmargin = tscore * squared_errors.std(ddof=1) / np.sqrt(m)\n",
    "np.sqrt(mean - tmargin), np.sqrt(mean + tmargin)"
   ]
  },
  {
   "cell_type": "markdown",
   "metadata": {},
   "source": [
    "Alternatively, we could use a z-scores rather than t-scores:"
   ]
  },
  {
   "cell_type": "code",
   "execution_count": 380,
   "metadata": {},
   "outputs": [
    {
     "data": {
      "text/plain": [
       "(0.0350873136748899, 0.04198179218611131)"
      ]
     },
     "execution_count": 380,
     "metadata": {},
     "output_type": "execute_result"
    }
   ],
   "source": [
    "zscore = stats.norm.ppf((1 + confidence) / 2)\n",
    "zmargin = zscore * squared_errors.std(ddof=1) / np.sqrt(m)\n",
    "np.sqrt(mean - zmargin), np.sqrt(mean + zmargin)"
   ]
  },
  {
   "cell_type": "markdown",
   "metadata": {},
   "source": [
    "Since our adoption speed ranges from 0 to 4, we can say that the errors above, mostly of values around 0.3 and 0.4 are small and satisfiable."
   ]
  },
  {
   "cell_type": "markdown",
   "metadata": {},
   "source": [
    "## Conclusions"
   ]
  },
  {
   "cell_type": "markdown",
   "metadata": {},
   "source": [
    "When using linear regression, our model obtained extremelly small errors, which gives us hope in terms of calculating a valid adoption speed for our fluffy friends. When using decision tree and random forest regression, our RMSE and MAE values were 0, which we believe is due to the fact that the actual errors are too small to be represented in our format. Therefore, we are satisfied with the results so far. "
   ]
  },
  {
   "cell_type": "code",
   "execution_count": null,
   "metadata": {},
   "outputs": [],
   "source": []
  }
 ],
 "metadata": {
  "kernelspec": {
   "display_name": "Python 3 (ipykernel)",
   "language": "python",
   "name": "python3"
  },
  "language_info": {
   "codemirror_mode": {
    "name": "ipython",
    "version": 3
   },
   "file_extension": ".py",
   "mimetype": "text/x-python",
   "name": "python",
   "nbconvert_exporter": "python",
   "pygments_lexer": "ipython3",
   "version": "3.10.0"
  }
 },
 "nbformat": 4,
 "nbformat_minor": 4
}
